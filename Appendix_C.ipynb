{
 "cells": [
  {
   "cell_type": "markdown",
   "id": "c83d4b3e",
   "metadata": {},
   "source": [
    "# 附录C – 多目标优化问题A求解程序"
   ]
  },
  {
   "cell_type": "code",
   "execution_count": null,
   "id": "5fc04707",
   "metadata": {},
   "outputs": [],
   "source": [
    "# -*- coding: utf-8 -*-\n",
    "'''\n",
    "论文题目：基于深度学习的PSA过程优化与控制\n",
    "作    者：余秀鑫\n",
    "单    位：天津大学化工学院\n",
    "时    间：2022.04.12\n",
    "'''"
   ]
  },
  {
   "cell_type": "code",
   "execution_count": 1,
   "id": "764f27a5",
   "metadata": {},
   "outputs": [],
   "source": [
    "# -*- coding: utf-8 -*-\n",
    "import geatpy as ea  # import geatpy\n",
    "import numpy as np\n",
    "import tensorflow as tf\n",
    "from sklearn.preprocessing import MinMaxScaler\n",
    "import pandas as pd\n",
    "import seaborn as sns\n",
    "import matplotlib.pyplot as plt\n",
    "%matplotlib inline\n",
    "sns.set_theme(style=\"ticks\", font='Times New Roman', font_scale=1.4)"
   ]
  },
  {
   "cell_type": "markdown",
   "id": "a50e7f7c",
   "metadata": {},
   "source": [
    "# 代理模型函数构建"
   ]
  },
  {
   "cell_type": "markdown",
   "id": "6aef9e02",
   "metadata": {},
   "source": [
    "## 输入scaler"
   ]
  },
  {
   "cell_type": "code",
   "execution_count": 9,
   "id": "2f9be39d",
   "metadata": {},
   "outputs": [],
   "source": [
    "x_train = np.load(\"../results_of_sample1000/DL/Input.npy\")\n",
    "scaler_x = MinMaxScaler(feature_range=(0, 1)).fit(x_train)"
   ]
  },
  {
   "cell_type": "markdown",
   "id": "393af850",
   "metadata": {},
   "source": [
    "## H2-Purity"
   ]
  },
  {
   "cell_type": "code",
   "execution_count": 12,
   "id": "f4c9e09f",
   "metadata": {},
   "outputs": [
    {
     "name": "stderr",
     "output_type": "stream",
     "text": [
      "2022-04-12 08:32:44.366269: I tensorflow/core/platform/cpu_feature_guard.cc:151] This TensorFlow binary is optimized with oneAPI Deep Neural Network Library (oneDNN) to use the following CPU instructions in performance-critical operations:  AVX2 FMA\n",
      "To enable them in other operations, rebuild TensorFlow with the appropriate compiler flags.\n"
     ]
    }
   ],
   "source": [
    "H2_Purity_train = np.load(\"../results_of_sample1000/DL/H2_Purity.npy\")\n",
    "scaler_H2_Purity = MinMaxScaler(feature_range=(0, 1)).fit(H2_Purity_train)\n",
    "H2_Purity_M = tf.keras.models.load_model(\n",
    "    \"../MLP_training/Scalar/model_saved/H2_Purity\")"
   ]
  },
  {
   "cell_type": "code",
   "execution_count": 13,
   "id": "616b9b7e",
   "metadata": {},
   "outputs": [],
   "source": [
    "def H2_Purity_f(Inlet):\n",
    "    x_test_std = scaler_x.transform(Inlet)\n",
    "    y_pred_std = H2_Purity_M.predict(x_test_std)\n",
    "    y_pred = scaler_H2_Purity.inverse_transform(y_pred_std)\n",
    "    return y_pred"
   ]
  },
  {
   "cell_type": "markdown",
   "id": "9f013183",
   "metadata": {},
   "source": [
    "## H2-Recovery"
   ]
  },
  {
   "cell_type": "code",
   "execution_count": 14,
   "id": "415e18ab",
   "metadata": {},
   "outputs": [],
   "source": [
    "H2_Recovery_train = np.load(\"../results_of_sample1000/DL/H2_Recovery.npy\")\n",
    "scaler_H2_Recovery = MinMaxScaler(feature_range=(0, 1)).fit(H2_Recovery_train)\n",
    "H2_Recovery_M = tf.keras.models.load_model(\n",
    "    \"../MLP_training/Scalar/model_saved/H2_Recovery\")"
   ]
  },
  {
   "cell_type": "code",
   "execution_count": 15,
   "id": "1c8d9855",
   "metadata": {},
   "outputs": [],
   "source": [
    "def H2_Recovery_f(Inlet):\n",
    "    x_test_std = scaler_x.transform(Inlet)\n",
    "    y_pred_std = H2_Recovery_M.predict(x_test_std)\n",
    "    y_pred = scaler_H2_Recovery.inverse_transform(y_pred_std)\n",
    "    return y_pred"
   ]
  },
  {
   "cell_type": "markdown",
   "id": "7eaad577",
   "metadata": {},
   "source": [
    "## H2-Productivity"
   ]
  },
  {
   "cell_type": "code",
   "execution_count": 16,
   "id": "381eb8cf",
   "metadata": {},
   "outputs": [],
   "source": [
    "H2_Productivity_train = np.load(\n",
    "    \"../results_of_sample1000/DL/H2_Productivity.npy\")\n",
    "scaler_H2_Productivity = MinMaxScaler(\n",
    "    feature_range=(0, 1)).fit(H2_Productivity_train)\n",
    "H2_Productivity_M = tf.keras.models.load_model(\n",
    "    \"../MLP_training/Scalar/model_saved/H2_Productivity\")"
   ]
  },
  {
   "cell_type": "code",
   "execution_count": 17,
   "id": "4f0cebbe",
   "metadata": {},
   "outputs": [],
   "source": [
    "def H2_Productivity_f(Inlet):\n",
    "    x_test_std = scaler_x.transform(Inlet)\n",
    "    y_pred_std = H2_Productivity_M.predict(x_test_std)\n",
    "    y_pred = scaler_H2_Productivity.inverse_transform(y_pred_std)\n",
    "    return y_pred"
   ]
  },
  {
   "cell_type": "markdown",
   "id": "b5145d14",
   "metadata": {},
   "source": [
    "## CO2-Purity"
   ]
  },
  {
   "cell_type": "code",
   "execution_count": 18,
   "id": "1aec80ae",
   "metadata": {},
   "outputs": [],
   "source": [
    "CO2_Purity_train = np.load(\"../results_of_sample1000/DL/CO2_Purity.npy\")\n",
    "scaler_CO2_Purity = MinMaxScaler(feature_range=(0, 1)).fit(CO2_Purity_train)\n",
    "CO2_Purity_M = tf.keras.models.load_model(\n",
    "    \"../MLP_training/Scalar/model_saved/CO2_Purity\")"
   ]
  },
  {
   "cell_type": "code",
   "execution_count": 19,
   "id": "d0b6d6fc",
   "metadata": {},
   "outputs": [],
   "source": [
    "def CO2_Purity_f(Inlet):\n",
    "    x_test_std = scaler_x.transform(Inlet)\n",
    "    y_pred_std = CO2_Purity_M.predict(x_test_std)\n",
    "    y_pred = scaler_CO2_Purity.inverse_transform(y_pred_std)\n",
    "    return y_pred"
   ]
  },
  {
   "cell_type": "markdown",
   "id": "29b2f19e",
   "metadata": {},
   "source": [
    "## CO2-Recovery"
   ]
  },
  {
   "cell_type": "code",
   "execution_count": 20,
   "id": "7e90b2f1",
   "metadata": {},
   "outputs": [],
   "source": [
    "CO2_Recovery_train = np.load(\"../results_of_sample1000/DL/CO2_Recovery.npy\")\n",
    "scaler_CO2_Recovery = MinMaxScaler(feature_range=(0, 1)).fit(CO2_Recovery_train)\n",
    "CO2_Recovery_M = tf.keras.models.load_model(\n",
    "    \"../MLP_training/Scalar/model_saved/CO2_Recovery\")"
   ]
  },
  {
   "cell_type": "code",
   "execution_count": 21,
   "id": "431ec833",
   "metadata": {},
   "outputs": [],
   "source": [
    "def CO2_Recovery_f(Inlet):\n",
    "    x_test_std = scaler_x.transform(Inlet)\n",
    "    y_pred_std = CO2_Recovery_M.predict(x_test_std)\n",
    "    y_pred = scaler_CO2_Recovery.inverse_transform(y_pred_std)\n",
    "    return y_pred"
   ]
  },
  {
   "cell_type": "markdown",
   "id": "b5d64612",
   "metadata": {},
   "source": [
    "## CO2-Productivity"
   ]
  },
  {
   "cell_type": "code",
   "execution_count": 22,
   "id": "8c2f4fcb",
   "metadata": {},
   "outputs": [],
   "source": [
    "CO2_Productivity_train = np.load(\n",
    "    \"../results_of_sample1000/DL/CO2_Productivity.npy\")\n",
    "scaler_CO2_Productivity = MinMaxScaler(\n",
    "    feature_range=(0, 1)).fit(CO2_Productivity_train)\n",
    "CO2_Productivity_M = tf.keras.models.load_model(\n",
    "    \"../MLP_training/Scalar/model_saved/CO2_Productivity\")"
   ]
  },
  {
   "cell_type": "code",
   "execution_count": 23,
   "id": "fcd7eaba",
   "metadata": {},
   "outputs": [],
   "source": [
    "def CO2_Productivity_f(Inlet):\n",
    "    x_test_std = scaler_x.transform(Inlet)\n",
    "    y_pred_std = CO2_Productivity_M.predict(x_test_std)\n",
    "    y_pred = scaler_CO2_Productivity.inverse_transform(y_pred_std)\n",
    "    return y_pred"
   ]
  },
  {
   "cell_type": "markdown",
   "id": "9b7b38d2",
   "metadata": {},
   "source": [
    "# 构造Problem"
   ]
  },
  {
   "cell_type": "code",
   "execution_count": 24,
   "id": "80815aa4",
   "metadata": {},
   "outputs": [],
   "source": [
    "class MyProblem(ea.Problem):  # 继承Problem父类\n",
    "    def __init__(self):\n",
    "        M = 2\n",
    "        name = \"MyProblem\"  # 初始化name（函数名称，可以随意设置）\n",
    "        Dim = 7  # 初始化Dim（决策变量维数）\n",
    "        maxormins = [-1] * M  # 初始化maxormins（目标最小最大化标记列表，1：最小化该目标；-1：最大化该目标）\n",
    "        varTypes = [1] * Dim  # 初始化varTypes（决策变量的类型，0：实数；1：整数）\n",
    "        lb = [10, 20, 20, 20, 20, 200000, 10]  # 决策变量下界\n",
    "        ub = [100, 150, 150, 200, 150, 2100000, 40]  # 决策变量上界\n",
    "        lbin = [1] * Dim  # 决策变量下边界（0表示不包含该变量的下边界，1表示包含）\n",
    "        ubin = [1] * Dim  # 决策变量上边界（0表示不包含该变量的上边界，1表示包含）\n",
    "        # 调用父类构造方法完成实例化\n",
    "        ea.Problem.__init__(self, name, M, maxormins, Dim, varTypes, lb, ub,\n",
    "                            lbin, ubin)\n",
    "\n",
    "    def aimFunc(self, pop):  # 目标函数，pop是种群对象\n",
    "        Vars = pop.Phen  # 得到决策变量矩阵\n",
    "        H2_Purity = H2_Purity_f(Vars)\n",
    "        H2_Recovery = H2_Recovery_f(Vars)\n",
    "        # 利用可行性法则处理约束条件，生成种群个体违反约束程度矩阵\n",
    "        pop.CV = np.hstack([85 - CO2_Recovery_f(Vars),95 - CO2_Purity_f(Vars)])\n",
    "        # 把求得的目标函数值赋值给种群pop的ObjV\n",
    "        pop.ObjV = np.hstack([H2_Purity, H2_Recovery])"
   ]
  },
  {
   "cell_type": "markdown",
   "id": "00696bd4",
   "metadata": {},
   "source": [
    "# 执行优化"
   ]
  },
  {
   "cell_type": "markdown",
   "id": "f73bd137",
   "metadata": {},
   "source": [
    "## 实例化问题对象"
   ]
  },
  {
   "cell_type": "code",
   "execution_count": 25,
   "id": "2a28f567",
   "metadata": {},
   "outputs": [],
   "source": [
    "problem = MyProblem()  # 生成问题对象"
   ]
  },
  {
   "cell_type": "markdown",
   "id": "4faec1bc",
   "metadata": {},
   "source": [
    "## 种群设置"
   ]
  },
  {
   "cell_type": "code",
   "execution_count": 26,
   "id": "92c6dcf4",
   "metadata": {},
   "outputs": [],
   "source": [
    "Encoding = 'RI'  # 编码方式\n",
    "NIND = 100  # 种群规模\n",
    "Field = ea.crtfld(Encoding, problem.varTypes, problem.ranges,\n",
    "                  problem.borders)  # 创建区域描述器\n",
    "population = ea.Population(Encoding, Field,\n",
    "                           NIND)  # 实例化种群对象（此时种群还没被初始化，仅仅是完成种群对象的实例化）"
   ]
  },
  {
   "cell_type": "markdown",
   "id": "ef389e31",
   "metadata": {},
   "source": [
    "## 算法参数设置"
   ]
  },
  {
   "cell_type": "code",
   "execution_count": 18,
   "id": "bc1d43ce",
   "metadata": {},
   "outputs": [],
   "source": [
    "def outFunc(alg, pop):  # alg 和 pop为outFunc的固定输入参数，分别为算法对象和每次迭代的种群对象。\n",
    "    print('第 %d 代' % alg.currentGen)"
   ]
  },
  {
   "cell_type": "code",
   "execution_count": 19,
   "id": "7fe7ddaf",
   "metadata": {},
   "outputs": [],
   "source": [
    "myAlgorithm = ea.moea_NSGA2_templet(problem, population)  # 实例化一个算法模板对象\n",
    "myAlgorithm.mutOper.Pm = 0.2  # 修改变异算子的变异概率\n",
    "myAlgorithm.recOper.XOVR = 0.9  # 修改交叉算子的交叉概率\n",
    "myAlgorithm.MAXGEN = 1000  # 最大进化代数\n",
    "myAlgorithm.logTras = 1  # 设置每多少代记录日志，若设置成0则表示不记录日志\n",
    "myAlgorithm.verbose = False  # 设置是否打印输出日志信息\n",
    "myAlgorithm.drawing = 0  # 设置绘图方式（0：不绘图；1：绘制结果图；2：绘制目标空间过程动画；3：绘制决策空间过程动画）\n",
    "#myAlgorithm.outFunc = outFunc"
   ]
  },
  {
   "cell_type": "markdown",
   "id": "de97aef1",
   "metadata": {},
   "source": [
    "## 调用算法进行种群进化\n",
    "调用run执行算法模板，得到帕累托最优解集NDSet以及最后一代种群。NDSet是一个种群类Population的对象。NDSet.ObjV为最优解个体的目标函数值；NDSet.Phen为对应的决策变量值。"
   ]
  },
  {
   "cell_type": "code",
   "execution_count": 20,
   "id": "7a95e733",
   "metadata": {
    "scrolled": true
   },
   "outputs": [
    {
     "name": "stderr",
     "output_type": "stream",
     "text": [
      "C:\\Users\\Leo\\anaconda3\\lib\\site-packages\\numpy\\core\\_methods.py:229: RuntimeWarning: invalid value encountered in subtract\n",
      "  x = asanyarray(arr - arrmean)\n",
      "C:\\Users\\Leo\\anaconda3\\lib\\site-packages\\numpy\\core\\_methods.py:232: RuntimeWarning: overflow encountered in multiply\n",
      "  x = um.multiply(x, x, out=x)\n",
      "C:\\Users\\Leo\\anaconda3\\lib\\site-packages\\numpy\\core\\_methods.py:232: RuntimeWarning: overflow encountered in multiply\n",
      "  x = um.multiply(x, x, out=x)\n",
      "C:\\Users\\Leo\\anaconda3\\lib\\site-packages\\numpy\\core\\_methods.py:232: RuntimeWarning: overflow encountered in multiply\n",
      "  x = um.multiply(x, x, out=x)\n",
      "C:\\Users\\Leo\\anaconda3\\lib\\site-packages\\numpy\\core\\_methods.py:232: RuntimeWarning: overflow encountered in multiply\n",
      "  x = um.multiply(x, x, out=x)\n",
      "C:\\Users\\Leo\\anaconda3\\lib\\site-packages\\numpy\\core\\_methods.py:232: RuntimeWarning: overflow encountered in multiply\n",
      "  x = um.multiply(x, x, out=x)\n",
      "C:\\Users\\Leo\\anaconda3\\lib\\site-packages\\numpy\\core\\_methods.py:232: RuntimeWarning: overflow encountered in multiply\n",
      "  x = um.multiply(x, x, out=x)\n",
      "C:\\Users\\Leo\\anaconda3\\lib\\site-packages\\numpy\\core\\_methods.py:232: RuntimeWarning: overflow encountered in multiply\n",
      "  x = um.multiply(x, x, out=x)\n",
      "C:\\Users\\Leo\\anaconda3\\lib\\site-packages\\numpy\\core\\_methods.py:232: RuntimeWarning: overflow encountered in multiply\n",
      "  x = um.multiply(x, x, out=x)\n",
      "C:\\Users\\Leo\\anaconda3\\lib\\site-packages\\numpy\\core\\_methods.py:232: RuntimeWarning: overflow encountered in multiply\n",
      "  x = um.multiply(x, x, out=x)\n",
      "C:\\Users\\Leo\\anaconda3\\lib\\site-packages\\numpy\\core\\_methods.py:232: RuntimeWarning: overflow encountered in multiply\n",
      "  x = um.multiply(x, x, out=x)\n",
      "C:\\Users\\Leo\\anaconda3\\lib\\site-packages\\numpy\\core\\_methods.py:232: RuntimeWarning: overflow encountered in multiply\n",
      "  x = um.multiply(x, x, out=x)\n",
      "C:\\Users\\Leo\\anaconda3\\lib\\site-packages\\numpy\\core\\_methods.py:232: RuntimeWarning: overflow encountered in multiply\n",
      "  x = um.multiply(x, x, out=x)\n",
      "C:\\Users\\Leo\\anaconda3\\lib\\site-packages\\numpy\\core\\_methods.py:232: RuntimeWarning: overflow encountered in multiply\n",
      "  x = um.multiply(x, x, out=x)\n",
      "C:\\Users\\Leo\\anaconda3\\lib\\site-packages\\numpy\\core\\_methods.py:232: RuntimeWarning: overflow encountered in multiply\n",
      "  x = um.multiply(x, x, out=x)\n",
      "C:\\Users\\Leo\\anaconda3\\lib\\site-packages\\numpy\\core\\_methods.py:232: RuntimeWarning: overflow encountered in multiply\n",
      "  x = um.multiply(x, x, out=x)\n",
      "C:\\Users\\Leo\\anaconda3\\lib\\site-packages\\numpy\\core\\_methods.py:232: RuntimeWarning: overflow encountered in multiply\n",
      "  x = um.multiply(x, x, out=x)\n",
      "C:\\Users\\Leo\\anaconda3\\lib\\site-packages\\numpy\\core\\_methods.py:232: RuntimeWarning: overflow encountered in multiply\n",
      "  x = um.multiply(x, x, out=x)\n",
      "C:\\Users\\Leo\\anaconda3\\lib\\site-packages\\numpy\\core\\_methods.py:232: RuntimeWarning: overflow encountered in multiply\n",
      "  x = um.multiply(x, x, out=x)\n",
      "C:\\Users\\Leo\\anaconda3\\lib\\site-packages\\numpy\\core\\_methods.py:232: RuntimeWarning: overflow encountered in multiply\n",
      "  x = um.multiply(x, x, out=x)\n",
      "C:\\Users\\Leo\\anaconda3\\lib\\site-packages\\numpy\\core\\_methods.py:232: RuntimeWarning: overflow encountered in multiply\n",
      "  x = um.multiply(x, x, out=x)\n",
      "C:\\Users\\Leo\\anaconda3\\lib\\site-packages\\numpy\\core\\_methods.py:232: RuntimeWarning: overflow encountered in multiply\n",
      "  x = um.multiply(x, x, out=x)\n",
      "C:\\Users\\Leo\\anaconda3\\lib\\site-packages\\numpy\\core\\_methods.py:232: RuntimeWarning: overflow encountered in multiply\n",
      "  x = um.multiply(x, x, out=x)\n",
      "C:\\Users\\Leo\\anaconda3\\lib\\site-packages\\numpy\\core\\_methods.py:232: RuntimeWarning: overflow encountered in multiply\n",
      "  x = um.multiply(x, x, out=x)\n",
      "C:\\Users\\Leo\\anaconda3\\lib\\site-packages\\numpy\\core\\_methods.py:232: RuntimeWarning: overflow encountered in multiply\n",
      "  x = um.multiply(x, x, out=x)\n",
      "C:\\Users\\Leo\\anaconda3\\lib\\site-packages\\numpy\\core\\_methods.py:232: RuntimeWarning: overflow encountered in multiply\n",
      "  x = um.multiply(x, x, out=x)\n",
      "C:\\Users\\Leo\\anaconda3\\lib\\site-packages\\numpy\\core\\_methods.py:232: RuntimeWarning: overflow encountered in multiply\n",
      "  x = um.multiply(x, x, out=x)\n",
      "C:\\Users\\Leo\\anaconda3\\lib\\site-packages\\numpy\\core\\_methods.py:232: RuntimeWarning: overflow encountered in multiply\n",
      "  x = um.multiply(x, x, out=x)\n",
      "C:\\Users\\Leo\\anaconda3\\lib\\site-packages\\numpy\\core\\_methods.py:232: RuntimeWarning: overflow encountered in multiply\n",
      "  x = um.multiply(x, x, out=x)\n",
      "C:\\Users\\Leo\\anaconda3\\lib\\site-packages\\numpy\\core\\_methods.py:232: RuntimeWarning: overflow encountered in multiply\n",
      "  x = um.multiply(x, x, out=x)\n",
      "C:\\Users\\Leo\\anaconda3\\lib\\site-packages\\numpy\\core\\_methods.py:232: RuntimeWarning: overflow encountered in multiply\n",
      "  x = um.multiply(x, x, out=x)\n",
      "C:\\Users\\Leo\\anaconda3\\lib\\site-packages\\numpy\\core\\_methods.py:232: RuntimeWarning: overflow encountered in multiply\n",
      "  x = um.multiply(x, x, out=x)\n",
      "C:\\Users\\Leo\\anaconda3\\lib\\site-packages\\numpy\\core\\_methods.py:232: RuntimeWarning: overflow encountered in multiply\n",
      "  x = um.multiply(x, x, out=x)\n",
      "C:\\Users\\Leo\\anaconda3\\lib\\site-packages\\numpy\\core\\_methods.py:232: RuntimeWarning: overflow encountered in multiply\n",
      "  x = um.multiply(x, x, out=x)\n",
      "C:\\Users\\Leo\\anaconda3\\lib\\site-packages\\numpy\\core\\_methods.py:232: RuntimeWarning: overflow encountered in multiply\n",
      "  x = um.multiply(x, x, out=x)\n",
      "C:\\Users\\Leo\\anaconda3\\lib\\site-packages\\numpy\\core\\_methods.py:232: RuntimeWarning: overflow encountered in multiply\n",
      "  x = um.multiply(x, x, out=x)\n",
      "C:\\Users\\Leo\\anaconda3\\lib\\site-packages\\numpy\\core\\_methods.py:232: RuntimeWarning: overflow encountered in multiply\n",
      "  x = um.multiply(x, x, out=x)\n",
      "C:\\Users\\Leo\\anaconda3\\lib\\site-packages\\numpy\\core\\_methods.py:232: RuntimeWarning: overflow encountered in multiply\n",
      "  x = um.multiply(x, x, out=x)\n",
      "C:\\Users\\Leo\\anaconda3\\lib\\site-packages\\numpy\\core\\_methods.py:232: RuntimeWarning: overflow encountered in multiply\n",
      "  x = um.multiply(x, x, out=x)\n",
      "C:\\Users\\Leo\\anaconda3\\lib\\site-packages\\numpy\\core\\_methods.py:232: RuntimeWarning: overflow encountered in multiply\n",
      "  x = um.multiply(x, x, out=x)\n",
      "C:\\Users\\Leo\\anaconda3\\lib\\site-packages\\numpy\\core\\_methods.py:232: RuntimeWarning: overflow encountered in multiply\n",
      "  x = um.multiply(x, x, out=x)\n",
      "C:\\Users\\Leo\\anaconda3\\lib\\site-packages\\numpy\\core\\_methods.py:232: RuntimeWarning: overflow encountered in multiply\n",
      "  x = um.multiply(x, x, out=x)\n",
      "C:\\Users\\Leo\\anaconda3\\lib\\site-packages\\numpy\\core\\_methods.py:232: RuntimeWarning: overflow encountered in multiply\n",
      "  x = um.multiply(x, x, out=x)\n",
      "C:\\Users\\Leo\\anaconda3\\lib\\site-packages\\numpy\\core\\_methods.py:232: RuntimeWarning: overflow encountered in multiply\n",
      "  x = um.multiply(x, x, out=x)\n",
      "C:\\Users\\Leo\\anaconda3\\lib\\site-packages\\numpy\\core\\_methods.py:232: RuntimeWarning: overflow encountered in multiply\n",
      "  x = um.multiply(x, x, out=x)\n",
      "C:\\Users\\Leo\\anaconda3\\lib\\site-packages\\numpy\\core\\_methods.py:232: RuntimeWarning: overflow encountered in multiply\n",
      "  x = um.multiply(x, x, out=x)\n",
      "C:\\Users\\Leo\\anaconda3\\lib\\site-packages\\numpy\\core\\_methods.py:232: RuntimeWarning: overflow encountered in multiply\n",
      "  x = um.multiply(x, x, out=x)\n",
      "C:\\Users\\Leo\\anaconda3\\lib\\site-packages\\numpy\\core\\_methods.py:232: RuntimeWarning: overflow encountered in multiply\n",
      "  x = um.multiply(x, x, out=x)\n",
      "C:\\Users\\Leo\\anaconda3\\lib\\site-packages\\numpy\\core\\_methods.py:232: RuntimeWarning: overflow encountered in multiply\n",
      "  x = um.multiply(x, x, out=x)\n",
      "C:\\Users\\Leo\\anaconda3\\lib\\site-packages\\numpy\\core\\_methods.py:232: RuntimeWarning: overflow encountered in multiply\n",
      "  x = um.multiply(x, x, out=x)\n",
      "C:\\Users\\Leo\\anaconda3\\lib\\site-packages\\numpy\\core\\_methods.py:232: RuntimeWarning: overflow encountered in multiply\n",
      "  x = um.multiply(x, x, out=x)\n",
      "C:\\Users\\Leo\\anaconda3\\lib\\site-packages\\numpy\\core\\_methods.py:232: RuntimeWarning: overflow encountered in multiply\n",
      "  x = um.multiply(x, x, out=x)\n",
      "C:\\Users\\Leo\\anaconda3\\lib\\site-packages\\numpy\\core\\_methods.py:232: RuntimeWarning: overflow encountered in multiply\n",
      "  x = um.multiply(x, x, out=x)\n",
      "C:\\Users\\Leo\\anaconda3\\lib\\site-packages\\numpy\\core\\_methods.py:232: RuntimeWarning: overflow encountered in multiply\n",
      "  x = um.multiply(x, x, out=x)\n",
      "C:\\Users\\Leo\\anaconda3\\lib\\site-packages\\numpy\\core\\_methods.py:232: RuntimeWarning: overflow encountered in multiply\n",
      "  x = um.multiply(x, x, out=x)\n",
      "C:\\Users\\Leo\\anaconda3\\lib\\site-packages\\numpy\\core\\_methods.py:232: RuntimeWarning: overflow encountered in multiply\n",
      "  x = um.multiply(x, x, out=x)\n",
      "C:\\Users\\Leo\\anaconda3\\lib\\site-packages\\numpy\\core\\_methods.py:232: RuntimeWarning: overflow encountered in multiply\n",
      "  x = um.multiply(x, x, out=x)\n",
      "C:\\Users\\Leo\\anaconda3\\lib\\site-packages\\numpy\\core\\_methods.py:232: RuntimeWarning: overflow encountered in multiply\n",
      "  x = um.multiply(x, x, out=x)\n",
      "C:\\Users\\Leo\\anaconda3\\lib\\site-packages\\numpy\\core\\_methods.py:232: RuntimeWarning: overflow encountered in multiply\n",
      "  x = um.multiply(x, x, out=x)\n",
      "C:\\Users\\Leo\\anaconda3\\lib\\site-packages\\numpy\\core\\_methods.py:232: RuntimeWarning: overflow encountered in multiply\n",
      "  x = um.multiply(x, x, out=x)\n",
      "C:\\Users\\Leo\\anaconda3\\lib\\site-packages\\numpy\\core\\_methods.py:232: RuntimeWarning: overflow encountered in multiply\n",
      "  x = um.multiply(x, x, out=x)\n",
      "C:\\Users\\Leo\\anaconda3\\lib\\site-packages\\numpy\\core\\_methods.py:232: RuntimeWarning: overflow encountered in multiply\n",
      "  x = um.multiply(x, x, out=x)\n",
      "C:\\Users\\Leo\\anaconda3\\lib\\site-packages\\numpy\\core\\_methods.py:232: RuntimeWarning: overflow encountered in multiply\n",
      "  x = um.multiply(x, x, out=x)\n",
      "C:\\Users\\Leo\\anaconda3\\lib\\site-packages\\numpy\\core\\_methods.py:232: RuntimeWarning: overflow encountered in multiply\n",
      "  x = um.multiply(x, x, out=x)\n",
      "C:\\Users\\Leo\\anaconda3\\lib\\site-packages\\numpy\\core\\_methods.py:232: RuntimeWarning: overflow encountered in multiply\n",
      "  x = um.multiply(x, x, out=x)\n",
      "C:\\Users\\Leo\\anaconda3\\lib\\site-packages\\numpy\\core\\_methods.py:232: RuntimeWarning: overflow encountered in multiply\n",
      "  x = um.multiply(x, x, out=x)\n",
      "C:\\Users\\Leo\\anaconda3\\lib\\site-packages\\numpy\\core\\_methods.py:232: RuntimeWarning: overflow encountered in multiply\n",
      "  x = um.multiply(x, x, out=x)\n",
      "C:\\Users\\Leo\\anaconda3\\lib\\site-packages\\numpy\\core\\_methods.py:232: RuntimeWarning: overflow encountered in multiply\n",
      "  x = um.multiply(x, x, out=x)\n",
      "C:\\Users\\Leo\\anaconda3\\lib\\site-packages\\numpy\\core\\_methods.py:232: RuntimeWarning: overflow encountered in multiply\n",
      "  x = um.multiply(x, x, out=x)\n",
      "C:\\Users\\Leo\\anaconda3\\lib\\site-packages\\numpy\\core\\_methods.py:232: RuntimeWarning: overflow encountered in multiply\n",
      "  x = um.multiply(x, x, out=x)\n",
      "C:\\Users\\Leo\\anaconda3\\lib\\site-packages\\numpy\\core\\_methods.py:232: RuntimeWarning: overflow encountered in multiply\n",
      "  x = um.multiply(x, x, out=x)\n",
      "C:\\Users\\Leo\\anaconda3\\lib\\site-packages\\numpy\\core\\_methods.py:232: RuntimeWarning: overflow encountered in multiply\n",
      "  x = um.multiply(x, x, out=x)\n",
      "C:\\Users\\Leo\\anaconda3\\lib\\site-packages\\numpy\\core\\_methods.py:232: RuntimeWarning: overflow encountered in multiply\n",
      "  x = um.multiply(x, x, out=x)\n",
      "C:\\Users\\Leo\\anaconda3\\lib\\site-packages\\numpy\\core\\_methods.py:232: RuntimeWarning: overflow encountered in multiply\n",
      "  x = um.multiply(x, x, out=x)\n",
      "C:\\Users\\Leo\\anaconda3\\lib\\site-packages\\numpy\\core\\_methods.py:232: RuntimeWarning: overflow encountered in multiply\n",
      "  x = um.multiply(x, x, out=x)\n",
      "C:\\Users\\Leo\\anaconda3\\lib\\site-packages\\numpy\\core\\_methods.py:232: RuntimeWarning: overflow encountered in multiply\n",
      "  x = um.multiply(x, x, out=x)\n",
      "C:\\Users\\Leo\\anaconda3\\lib\\site-packages\\numpy\\core\\_methods.py:232: RuntimeWarning: overflow encountered in multiply\n",
      "  x = um.multiply(x, x, out=x)\n",
      "C:\\Users\\Leo\\anaconda3\\lib\\site-packages\\numpy\\core\\_methods.py:232: RuntimeWarning: overflow encountered in multiply\n",
      "  x = um.multiply(x, x, out=x)\n",
      "C:\\Users\\Leo\\anaconda3\\lib\\site-packages\\numpy\\core\\_methods.py:232: RuntimeWarning: overflow encountered in multiply\n",
      "  x = um.multiply(x, x, out=x)\n",
      "C:\\Users\\Leo\\anaconda3\\lib\\site-packages\\numpy\\core\\_methods.py:232: RuntimeWarning: overflow encountered in multiply\n",
      "  x = um.multiply(x, x, out=x)\n",
      "C:\\Users\\Leo\\anaconda3\\lib\\site-packages\\numpy\\core\\_methods.py:232: RuntimeWarning: overflow encountered in multiply\n",
      "  x = um.multiply(x, x, out=x)\n",
      "C:\\Users\\Leo\\anaconda3\\lib\\site-packages\\numpy\\core\\_methods.py:232: RuntimeWarning: overflow encountered in multiply\n",
      "  x = um.multiply(x, x, out=x)\n",
      "C:\\Users\\Leo\\anaconda3\\lib\\site-packages\\numpy\\core\\_methods.py:232: RuntimeWarning: overflow encountered in multiply\n",
      "  x = um.multiply(x, x, out=x)\n",
      "C:\\Users\\Leo\\anaconda3\\lib\\site-packages\\numpy\\core\\_methods.py:232: RuntimeWarning: overflow encountered in multiply\n",
      "  x = um.multiply(x, x, out=x)\n",
      "C:\\Users\\Leo\\anaconda3\\lib\\site-packages\\numpy\\core\\_methods.py:232: RuntimeWarning: overflow encountered in multiply\n",
      "  x = um.multiply(x, x, out=x)\n",
      "C:\\Users\\Leo\\anaconda3\\lib\\site-packages\\numpy\\core\\_methods.py:232: RuntimeWarning: overflow encountered in multiply\n",
      "  x = um.multiply(x, x, out=x)\n",
      "C:\\Users\\Leo\\anaconda3\\lib\\site-packages\\numpy\\core\\_methods.py:232: RuntimeWarning: overflow encountered in multiply\n",
      "  x = um.multiply(x, x, out=x)\n",
      "C:\\Users\\Leo\\anaconda3\\lib\\site-packages\\numpy\\core\\_methods.py:232: RuntimeWarning: overflow encountered in multiply\n",
      "  x = um.multiply(x, x, out=x)\n",
      "C:\\Users\\Leo\\anaconda3\\lib\\site-packages\\numpy\\core\\_methods.py:232: RuntimeWarning: overflow encountered in multiply\n",
      "  x = um.multiply(x, x, out=x)\n",
      "C:\\Users\\Leo\\anaconda3\\lib\\site-packages\\numpy\\core\\_methods.py:232: RuntimeWarning: overflow encountered in multiply\n",
      "  x = um.multiply(x, x, out=x)\n",
      "C:\\Users\\Leo\\anaconda3\\lib\\site-packages\\numpy\\core\\_methods.py:232: RuntimeWarning: overflow encountered in multiply\n",
      "  x = um.multiply(x, x, out=x)\n",
      "C:\\Users\\Leo\\anaconda3\\lib\\site-packages\\numpy\\core\\_methods.py:232: RuntimeWarning: overflow encountered in multiply\n",
      "  x = um.multiply(x, x, out=x)\n",
      "C:\\Users\\Leo\\anaconda3\\lib\\site-packages\\numpy\\core\\_methods.py:232: RuntimeWarning: overflow encountered in multiply\n",
      "  x = um.multiply(x, x, out=x)\n"
     ]
    }
   ],
   "source": [
    "[NDSet, population] = myAlgorithm.run()  # 执行算法模板，得到非支配种群以及最后一代种群\n",
    "NDSet.save()  # 把非支配种群的信息保存到文件中"
   ]
  },
  {
   "cell_type": "markdown",
   "id": "c2587839",
   "metadata": {},
   "source": [
    "## 输出结果"
   ]
  },
  {
   "cell_type": "code",
   "execution_count": 21,
   "id": "8b29f173",
   "metadata": {},
   "outputs": [
    {
     "name": "stdout",
     "output_type": "stream",
     "text": [
      "用时：113.431557 秒\n",
      "评价次数：100000 次\n",
      "非支配个体数：100 个\n"
     ]
    }
   ],
   "source": [
    "print('用时：%f 秒' % myAlgorithm.passTime)\n",
    "print('评价次数：%d 次' % myAlgorithm.evalsNum)\n",
    "print('非支配个体数：%d 个' % NDSet.sizes) if NDSet.sizes != 0 else print('没有找到可行解！')"
   ]
  },
  {
   "cell_type": "markdown",
   "id": "d26f42bc",
   "metadata": {},
   "source": [
    "## 帕累托前沿"
   ]
  },
  {
   "cell_type": "code",
   "execution_count": 22,
   "id": "3e854b4e",
   "metadata": {},
   "outputs": [],
   "source": [
    "Pareto_Frontier = pd.DataFrame(population.ObjV,columns =['H2 Purity','H2 Recovery'])"
   ]
  },
  {
   "cell_type": "code",
   "execution_count": 29,
   "id": "d65e8228",
   "metadata": {},
   "outputs": [
    {
     "data": {
      "image/png": "[encoded data removed]",
      "text/plain": [
       "<Figure size 576x432 with 1 Axes>"
      ]
     },
     "metadata": {},
     "output_type": "display_data"
    }
   ],
   "source": [
    "plt.rcParams['font.sans-serif']=['Times New Roman']\n",
    "plt.rcParams['axes.unicode_minus']=False \n",
    "\n",
    "plt.figure(figsize=(8, 6))\n",
    "plt.scatter(Pareto_Frontier['H2 Purity'], Pareto_Frontier['H2 Recovery'],alpha=0.5,label = 'Pareto Frontier')\n",
    "plt.legend()\n",
    "plt.xticks(fontsize=13) #默认字体大小为10\n",
    "plt.yticks(fontsize=13)\n",
    "plt.xlabel(\"Purity of $\\mathregular{H_2}$ (%)\",fontsize=14)\n",
    "plt.ylabel(\"Recovery of $\\mathregular{H_2}$ (%)\",fontsize=14)\n",
    "\n",
    "plt.savefig('Pareto_Frontier_H2.png',dpi=300,bbox_inches='tight' )"
   ]
  },
  {
   "cell_type": "markdown",
   "id": "1aec6adb-5f84-4af6-9fdf-9b7040a489d6",
   "metadata": {},
   "source": [
    "# 结果保存"
   ]
  },
  {
   "cell_type": "code",
   "execution_count": 33,
   "id": "3f30ba93-b6d7-4f62-bdcf-160966487153",
   "metadata": {},
   "outputs": [],
   "source": [
    "Pareto_Frontier_H2 = pd.concat([PF_Phen,Pareto_Frontier],axis=1)"
   ]
  },
  {
   "cell_type": "code",
   "execution_count": 34,
   "id": "ce48be3c-4b64-4fc9-878b-492363a48ca2",
   "metadata": {},
   "outputs": [],
   "source": [
    "writer = pd.ExcelWriter('Pareto_Frontier_H2.xlsx')\n",
    "Pareto_Frontier_H2.to_excel(writer, 'Pareto_Frontier_H2')\n",
    "writer.save()"
   ]
  }
 ],
 "metadata": {
  "kernelspec": {
   "display_name": "Python 3 (ipykernel)",
   "language": "python",
   "name": "python3"
  },
  "language_info": {
   "codemirror_mode": {
    "name": "ipython",
    "version": 3
   },
   "file_extension": ".py",
   "mimetype": "text/x-python",
   "name": "python",
   "nbconvert_exporter": "python",
   "pygments_lexer": "ipython3",
   "version": "3.9.12"
  },
  "toc": {
   "base_numbering": 1,
   "nav_menu": {},
   "number_sections": true,
   "sideBar": true,
   "skip_h1_title": false,
   "title_cell": "Table of Contents",
   "title_sidebar": "Contents",
   "toc_cell": false,
   "toc_position": {},
   "toc_section_display": true,
   "toc_window_display": true
  },
  "varInspector": {
   "cols": {
    "lenName": 16,
    "lenType": 16,
    "lenVar": 40
   },
   "kernels_config": {
    "python": {
     "delete_cmd_postfix": "",
     "delete_cmd_prefix": "del ",
     "library": "var_list.py",
     "varRefreshCmd": "print(var_dic_list())"
    },
    "r": {
     "delete_cmd_postfix": ") ",
     "delete_cmd_prefix": "rm(",
     "library": "var_list.r",
     "varRefreshCmd": "cat(var_dic_list()) "
    }
   },
   "types_to_exclude": [
    "module",
    "function",
    "builtin_function_or_method",
    "instance",
    "_Feature"
   ],
   "window_display": false
  }
 },
 "nbformat": 4,
 "nbformat_minor": 5
}
