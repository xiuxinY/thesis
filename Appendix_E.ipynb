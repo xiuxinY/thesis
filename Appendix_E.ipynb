{
 "cells": [
  {
   "cell_type": "markdown",
   "id": "fe21dac6",
   "metadata": {},
   "source": [
    "# 附录E – LSTM神经网络超参数优化程序"
   ]
  },
  {
   "cell_type": "code",
   "execution_count": null,
   "id": "6d3c9143",
   "metadata": {},
   "outputs": [],
   "source": [
    "# -*- coding: utf-8 -*-\n",
    "'''\n",
    "论文题目：基于深度学习的PSA过程优化与控制\n",
    "作    者：余秀鑫\n",
    "单    位：天津大学化工学院\n",
    "时    间：2022.04.12\n",
    "'''"
   ]
  },
  {
   "cell_type": "code",
   "execution_count": 1,
   "id": "0778436b-88c8-42aa-9189-29723b428cde",
   "metadata": {},
   "outputs": [],
   "source": [
    "import numpy as np\n",
    "import time\n",
    "import uuid\n",
    "import os\n",
    "import sys\n",
    "\n",
    "from tqdm.keras import TqdmCallback\n",
    "from sklearn.preprocessing import MinMaxScaler\n",
    "from sklearn.metrics import r2_score\n",
    "\n",
    "import tensorflow as tf\n",
    "from tensorflow.keras.layers import Input, LSTM, Dropout, Dense \n",
    "\n",
    "import optuna\n",
    "import neptune.new as neptune\n",
    "import neptune.new.integrations.optuna as optuna_utils\n",
    "\n",
    "import pandas as pd\n",
    "import plotly\n",
    "import seaborn as sns\n",
    "sns.set_theme(style=\"ticks\", font='Times New Roman', font_scale=1.4)"
   ]
  },
  {
   "cell_type": "code",
   "execution_count": 2,
   "id": "7f7711a1",
   "metadata": {},
   "outputs": [],
   "source": [
    "# Study properties. \n",
    "STUDY_NAME_ROOT = 'LSTM_thesis_4'\n",
    "data_label = 'H2Purity'\n",
    "nb_epoch = 200\n",
    "reduce_lr_patience = 10\n",
    "early_stopping_patience = 30"
   ]
  },
  {
   "cell_type": "code",
   "execution_count": 3,
   "id": "7a423ac9",
   "metadata": {},
   "outputs": [],
   "source": [
    "def get_data():\n",
    "  Train_X = np.load('Train_Test_Data/Train_X.npy').reshape((1999, 2))\n",
    "  Train_y = np.load('Train_Test_Data/Train_y.npy').reshape((1999, 1))\n",
    "\n",
    "  scaler_X = MinMaxScaler(feature_range=(0, 1)).fit(Train_X)\n",
    "  Train_X_scaled = scaler_X.transform(Train_X)\n",
    "  scaler_y = MinMaxScaler(feature_range=(0, 1)).fit(Train_y)\n",
    "  Train_y_scaled = scaler_y.transform(Train_y)\n",
    "\n",
    "  # 使x_train符合RNN输入要求：[送入样本数， 循环核时间展开步数， 每个时间步输入特征个数]。\n",
    "  # 此处整个数据集送入，送入样本数为x_train.shape[0]即1999组数据\n",
    "  Train_X_scaled = np.reshape(Train_X_scaled, (Train_X_scaled.shape[0], 1, 2))\n",
    "\n",
    "  # 准备验证集\n",
    "  # Make the train/test splits\n",
    "  def make_train_test_splits(windows, labels, test_split=0.2):\n",
    "    \"\"\"\n",
    "    Splits matching pairs of windows and labels into train and test splits.\n",
    "    \"\"\"\n",
    "    split_size = int(len(windows) * (1-test_split)) # this will default to 80% train/20% test\n",
    "    train_windows = windows[:split_size]\n",
    "    train_labels = labels[:split_size]\n",
    "    test_windows = windows[split_size:]\n",
    "    test_labels = labels[split_size:]\n",
    "    return train_windows, test_windows, train_labels, test_labels\n",
    "\n",
    "  train_windows, test_windows, train_labels, test_labels = make_train_test_splits(Train_X_scaled, Train_y_scaled)\n",
    "\n",
    "  return train_windows, test_windows, train_labels, test_labels, Train_X_scaled, Train_y_scaled"
   ]
  },
  {
   "cell_type": "code",
   "execution_count": 4,
   "id": "2ca9e241",
   "metadata": {},
   "outputs": [],
   "source": [
    "def get_accuracy(y,y_pred, n_samples, n_features):\n",
    "    n, k = n_samples, n_features\n",
    "    R2 = r2_score(y, y_pred)\n",
    "    R2_Adj = 1 - (1 - R2) * (n - 1) / (n - k - 1)\n",
    "    return R2_Adj"
   ]
  },
  {
   "cell_type": "code",
   "execution_count": 5,
   "id": "32b79968-460a-4342-96e1-3019d7234cb9",
   "metadata": {},
   "outputs": [],
   "source": [
    "def get_model(nb_hidden_nodes,\n",
    "              nb_hidden_layers, \n",
    "              reg_dropout=0):\n",
    "    \n",
    "    model = tf.keras.Sequential()\n",
    "    # Add Input layer:\n",
    "    model.add(Input(shape=(1, 2)))\n",
    "    # Add LSTM hidden layers:\n",
    "    for i in range(nb_hidden_layers):\n",
    "        model.add(LSTM(nb_hidden_nodes, return_sequences=True))\n",
    "        model.add(Dropout(reg_dropout))\n",
    "    # Add output layer:\n",
    "    model.add(Dense(units=1))\n",
    "    # Compile model:\n",
    "    adam = tf.keras.optimizers.Adam()\n",
    "    model.compile(optimizer=adam,loss='mean_squared_error') \n",
    "\n",
    "    return model"
   ]
  },
  {
   "cell_type": "code",
   "execution_count": 6,
   "id": "7f17591b",
   "metadata": {},
   "outputs": [],
   "source": [
    "# BO objective function.\n",
    "def objective(trial):\n",
    "\n",
    "    # Random run ID.\n",
    "    RUN_ID = str(uuid.uuid1())\n",
    "    print(\"RUN_ID: \", RUN_ID)\n",
    "\n",
    "    PARAMS = {\n",
    "        'nb_epoch': nb_epoch,\n",
    "        'batch_size': 64,\n",
    "        'nb_hidden_layers': trial.suggest_int('nb_hidden_layers', 1, 3),\n",
    "        'nb_hidden_nodes': trial.suggest_categorical('nb_hidden_nodes', [10, 50, 100, 200]),\n",
    "        'reg_dropout': trial.suggest_categorical('reg_dropout', [0, 0.05, 0.1, 0.2, 0.3])\n",
    "    }\n",
    "    TB_LOG_DIR = 'logs/' + STUDY_NAME_ROOT + '/' + RUN_ID\n",
    "    CHECKPOINT_DIR = 'trained_models/' + STUDY_NAME_ROOT + '/' + RUN_ID\n",
    "\n",
    "    # Get data.\n",
    "    train_windows, test_windows, train_labels, test_labels, Train_X_scaled, Train_y_scaled = get_data()\n",
    "\n",
    "    # Initialize model.\n",
    "    model = get_model(nb_hidden_layers = PARAMS['nb_hidden_layers'],\n",
    "                    nb_hidden_nodes = PARAMS['nb_hidden_nodes'],\n",
    "                    reg_dropout = PARAMS['reg_dropout'])\n",
    "\n",
    "    # Define callbacks.\n",
    "    tensorboard = tf.keras.callbacks.TensorBoard(log_dir=TB_LOG_DIR,\n",
    "                                                histogram_freq=1)\n",
    "    early_stopping_callback = tf.keras.callbacks.EarlyStopping(monitor='val_loss',\n",
    "                                                            patience=early_stopping_patience,\n",
    "                                                            verbose=1)\n",
    "    reduce_lr_callback = tf.keras.callbacks.ReduceLROnPlateau(monitor='val_loss',\n",
    "                                                            factor=0.5,\n",
    "                                                            patience=reduce_lr_patience,\n",
    "                                                            min_lr=1e-10,\n",
    "                                                            verbose=1)\n",
    "    model_checkpoint_callback = tf.keras.callbacks.ModelCheckpoint(filepath=CHECKPOINT_DIR,\n",
    "                                                                save_weights_only=True,\n",
    "                                                                monitor='val_loss',\n",
    "                                                                mode='min',\n",
    "                                                                save_best_only=True)\n",
    "    tqdm_callback = TqdmCallback()\n",
    "\n",
    "    print('\\n###############################\\n',PARAMS,'\\n###############################\\n')\n",
    "\n",
    "    # Train model. \n",
    "    history = model.fit(train_windows,\n",
    "                        train_labels,\n",
    "                        validation_data=(test_windows, test_labels),\n",
    "                        epochs=PARAMS['nb_epoch'],\n",
    "                        batch_size=PARAMS['batch_size'],\n",
    "                        verbose=0,\n",
    "                        callbacks=[tensorboard,\n",
    "                                   early_stopping_callback,\n",
    "                                   reduce_lr_callback,\n",
    "                                   model_checkpoint_callback,\n",
    "                                   tqdm_callback])\n",
    "        \n",
    "    accuracy = get_accuracy(y=Train_y_scaled.squeeze(),y_pred=model.predict(Train_X_scaled).squeeze(),n_samples=Train_X_scaled.shape[0],n_features=Train_X_scaled.shape[1])\n",
    "    return accuracy\n"
   ]
  },
  {
   "cell_type": "code",
   "execution_count": 8,
   "id": "1649168f",
   "metadata": {},
   "outputs": [
    {
     "name": "stderr",
     "output_type": "stream",
     "text": [
      "C:\\Users\\Leo\\anaconda3\\lib\\site-packages\\neptune\\new\\internal\\utils\\git.py:35: UserWarning: GitPython could not be initialized\n",
      "  warnings.warn(\"GitPython could not be initialized\")\n"
     ]
    },
    {
     "name": "stdout",
     "output_type": "stream",
     "text": [
      "https://app.neptune.ai/cody/LSTM-Thesis/e/LSTMTHES-18\n"
     ]
    },
    {
     "name": "stderr",
     "output_type": "stream",
     "text": [
      "Info (NVML): NVML Shared Library Not Found. GPU usage metrics may not be reported. For more information, see https://docs.neptune.ai/you-should-know/what-can-you-log-and-display#hardware-consumption\n"
     ]
    },
    {
     "name": "stdout",
     "output_type": "stream",
     "text": [
      "Remember to stop your run once you’ve finished logging your metadata (https://docs.neptune.ai/api-reference/run#.stop). It will be stopped automatically only when the notebook kernel/interactive console is terminated.\n"
     ]
    }
   ],
   "source": [
    "# create a study-level Run\n",
    "run = neptune.init(\n",
    "    project=\"xxxxxxxx/LSTM-Thesis\",\n",
    "    tags=[STUDY_NAME_ROOT],\n",
    "    api_token=\"xxxxxxxxxxxxxxxxxxx\"\n",
    ")\n",
    "# Create a NeptuneCallback for Optuna\n",
    "neptune_callback = optuna_utils.NeptuneCallback(run)"
   ]
  },
  {
   "cell_type": "code",
   "execution_count": 9,
   "id": "c08a4287",
   "metadata": {},
   "outputs": [],
   "source": [
    "# Turn on memory growth: allocate only as much GPU memory as required during runtime. \n",
    "gpus = tf.config.experimental.list_physical_devices('GPU')\n",
    "if gpus:\n",
    "    try:\n",
    "        for gpu in gpus:\n",
    "            tf.config.experimental.set_memory_growth(gpu, True)\n",
    "    except RuntimeError as e:\n",
    "        print(e)"
   ]
  },
  {
   "cell_type": "code",
   "execution_count": 10,
   "id": "92df3bfb",
   "metadata": {},
   "outputs": [
    {
     "name": "stderr",
     "output_type": "stream",
     "text": [
      "\u001b[32m[I 2022-03-09 08:20:48,690]\u001b[0m A new study created in memory with name: LSTM_thesis_4\u001b[0m\n"
     ]
    }
   ],
   "source": [
    "search_space = {\n",
    "        'nb_hidden_layers': [1, 2, 3],\n",
    "        'nb_hidden_nodes': [10, 50, 100, 200],\n",
    "        'reg_dropout': [0, 0.05, 0.1, 0.2, 0.3]\n",
    "    }\n",
    "\n",
    "study = optuna.create_study(study_name=STUDY_NAME_ROOT,\n",
    "                                direction='maximize',\n",
    "                                load_if_exists=False,\n",
    "                                sampler=optuna.samplers.GridSampler(search_space))"
   ]
  },
  {
   "cell_type": "code",
   "execution_count": 11,
   "id": "e2f12115",
   "metadata": {},
   "outputs": [
    {
     "name": "stdout",
     "output_type": "stream",
     "text": [
      "RUN_ID:  c624d0de-9f3e-11ec-bb6c-309c23894828\n"
     ]
    },
    {
     "data": {
      "application/vnd.jupyter.widget-view+json": {
       "model_id": "72cdc8a13d8b440abb1f9b0b33e845f1",
       "version_major": 2,
       "version_minor": 0
      },
      "text/plain": [
       "0epoch [00:00, ?epoch/s]"
      ]
     },
     "metadata": {},
     "output_type": "display_data"
    },
    {
     "data": {
      "application/vnd.jupyter.widget-view+json": {
       "model_id": "f45a92b50d294c9ca05cef20fe9c9221",
       "version_major": 2,
       "version_minor": 0
      },
      "text/plain": [
       "0batch [00:00, ?batch/s]"
      ]
     },
     "metadata": {},
     "output_type": "display_data"
    },
    {
     "name": "stdout",
     "output_type": "stream",
     "text": [
      "\n",
      "###############################\n",
      " {'nb_epoch': 200, 'batch_size': 64, 'nb_hidden_layers': 3, 'nb_hidden_nodes': 100, 'reg_dropout': 0.05} \n",
      "###############################\n",
      "\n",
      "WARNING:tensorflow:Callback method `on_train_batch_end` is slow compared to the batch time (batch time: 0.0050s vs `on_train_batch_end` time: 0.0212s). Check your callbacks.\n",
      "\n",
      "Epoch 36: ReduceLROnPlateau reducing learning rate to 0.0005000000237487257.\n",
      "\n",
      "Epoch 46: ReduceLROnPlateau reducing learning rate to 0.0002500000118743628.\n",
      "\n",
      "Epoch 56: ReduceLROnPlateau reducing learning rate to 0.0001250000059371814.\n",
      "Epoch 58: early stopping\n"
     ]
    },
    {
     "name": "stderr",
     "output_type": "stream",
     "text": [
      "\u001b[32m[I 2022-03-09 08:21:08,290]\u001b[0m Trial 0 finished with value: 0.9330047305122388 and parameters: {'nb_hidden_layers': 3, 'nb_hidden_nodes': 100, 'reg_dropout': 0.05}. Best is trial 0 with value: 0.9330047305122388.\u001b[0m\n",
      "\u001b[33m[W 2022-03-09 08:21:08,739]\u001b[0m Param nb_hidden_layers unique value length is less than 2.\u001b[0m\n",
      "\u001b[33m[W 2022-03-09 08:21:08,747]\u001b[0m Param nb_hidden_layers unique value length is less than 2.\u001b[0m\n",
      "\u001b[33m[W 2022-03-09 08:21:08,758]\u001b[0m Param nb_hidden_nodes unique value length is less than 2.\u001b[0m\n",
      "\u001b[33m[W 2022-03-09 08:21:08,763]\u001b[0m Param nb_hidden_nodes unique value length is less than 2.\u001b[0m\n",
      "\u001b[33m[W 2022-03-09 08:21:08,767]\u001b[0m Param reg_dropout unique value length is less than 2.\u001b[0m\n",
      "\u001b[33m[W 2022-03-09 08:21:08,771]\u001b[0m Param reg_dropout unique value length is less than 2.\u001b[0m\n"
     ]
    },
    {
     "name": "stdout",
     "output_type": "stream",
     "text": [
      "RUN_ID:  d1648a4f-9f3e-11ec-96eb-309c23894828\n"
     ]
    },
    {
     "data": {
      "application/vnd.jupyter.widget-view+json": {
       "model_id": "82787632fc6b4fdd940ad1e375ad15ad",
       "version_major": 2,
       "version_minor": 0
      },
      "text/plain": [
       "0epoch [00:00, ?epoch/s]"
      ]
     },
     "metadata": {},
     "output_type": "display_data"
    },
    {
     "data": {
      "application/vnd.jupyter.widget-view+json": {
       "model_id": "c288eb585678435eb7518d6ecb148ad9",
       "version_major": 2,
       "version_minor": 0
      },
      "text/plain": [
       "0batch [00:00, ?batch/s]"
      ]
     },
     "metadata": {},
     "output_type": "display_data"
    },
    {
     "name": "stdout",
     "output_type": "stream",
     "text": [
      "\n",
      "###############################\n",
      " {'nb_epoch': 200, 'batch_size': 64, 'nb_hidden_layers': 1, 'nb_hidden_nodes': 50, 'reg_dropout': 0.05} \n",
      "###############################\n",
      "\n",
      "WARNING:tensorflow:Callback method `on_train_batch_end` is slow compared to the batch time (batch time: 0.0014s vs `on_train_batch_end` time: 0.0088s). Check your callbacks.\n",
      "\n",
      "Epoch 87: ReduceLROnPlateau reducing learning rate to 0.0005000000237487257.\n",
      "\n",
      "Epoch 97: ReduceLROnPlateau reducing learning rate to 0.0002500000118743628.\n",
      "\n",
      "Epoch 107: ReduceLROnPlateau reducing learning rate to 0.0001250000059371814.\n",
      "Epoch 108: early stopping\n"
     ]
    },
    {
     "name": "stderr",
     "output_type": "stream",
     "text": [
      "\u001b[32m[I 2022-03-09 08:21:22,444]\u001b[0m Trial 1 finished with value: 0.932538563297993 and parameters: {'nb_hidden_layers': 1, 'nb_hidden_nodes': 50, 'reg_dropout': 0.05}. Best is trial 0 with value: 0.9330047305122388.\u001b[0m\n",
      "\u001b[33m[W 2022-03-09 08:21:22,546]\u001b[0m Param reg_dropout unique value length is less than 2.\u001b[0m\n",
      "\u001b[33m[W 2022-03-09 08:21:22,559]\u001b[0m Param reg_dropout unique value length is less than 2.\u001b[0m\n",
      "\u001b[33m[W 2022-03-09 08:21:22,564]\u001b[0m Param reg_dropout unique value length is less than 2.\u001b[0m\n",
      "\u001b[33m[W 2022-03-09 08:21:22,567]\u001b[0m Param reg_dropout unique value length is less than 2.\u001b[0m\n"
     ]
    },
    {
     "name": "stdout",
     "output_type": "stream",
     "text": [
      "RUN_ID:  d9aa6503-9f3e-11ec-878c-309c23894828\n"
     ]
    },
    {
     "data": {
      "application/vnd.jupyter.widget-view+json": {
       "model_id": "54711eb321904ac0b0cddee0e001afff",
       "version_major": 2,
       "version_minor": 0
      },
      "text/plain": [
       "0epoch [00:00, ?epoch/s]"
      ]
     },
     "metadata": {},
     "output_type": "display_data"
    },
    {
     "data": {
      "application/vnd.jupyter.widget-view+json": {
       "model_id": "b266f90bc69b4d50912033e3fbae3c24",
       "version_major": 2,
       "version_minor": 0
      },
      "text/plain": [
       "0batch [00:00, ?batch/s]"
      ]
     },
     "metadata": {},
     "output_type": "display_data"
    },
    {
     "name": "stdout",
     "output_type": "stream",
     "text": [
      "\n",
      "###############################\n",
      " {'nb_epoch': 200, 'batch_size': 64, 'nb_hidden_layers': 3, 'nb_hidden_nodes': 10, 'reg_dropout': 0} \n",
      "###############################\n",
      "\n",
      "WARNING:tensorflow:Callback method `on_train_batch_end` is slow compared to the batch time (batch time: 0.0028s vs `on_train_batch_end` time: 0.0199s). Check your callbacks.\n",
      "\n",
      "Epoch 56: ReduceLROnPlateau reducing learning rate to 0.0005000000237487257.\n",
      "\n",
      "Epoch 71: ReduceLROnPlateau reducing learning rate to 0.0002500000118743628.\n",
      "\n",
      "Epoch 81: ReduceLROnPlateau reducing learning rate to 0.0001250000059371814.\n",
      "\n",
      "Epoch 91: ReduceLROnPlateau reducing learning rate to 6.25000029685907e-05.\n",
      "\n",
      "Epoch 101: ReduceLROnPlateau reducing learning rate to 3.125000148429535e-05.\n",
      "\n",
      "Epoch 111: ReduceLROnPlateau reducing learning rate to 1.5625000742147677e-05.\n",
      "Epoch 111: early stopping\n"
     ]
    },
    {
     "name": "stderr",
     "output_type": "stream",
     "text": [
      "\u001b[32m[I 2022-03-09 08:21:45,702]\u001b[0m Trial 2 finished with value: 0.930211591740699 and parameters: {'nb_hidden_layers': 3, 'nb_hidden_nodes': 10, 'reg_dropout': 0}. Best is trial 0 with value: 0.9330047305122388.\u001b[0m\n"
     ]
    },
    {
     "name": "stdout",
     "output_type": "stream",
     "text": [
      "RUN_ID:  e78147fb-9f3e-11ec-967d-309c23894828\n"
     ]
    },
    {
     "data": {
      "application/vnd.jupyter.widget-view+json": {
       "model_id": "910bf7abd9f04410a296424b282ccbef",
       "version_major": 2,
       "version_minor": 0
      },
      "text/plain": [
       "0epoch [00:00, ?epoch/s]"
      ]
     },
     "metadata": {},
     "output_type": "display_data"
    },
    {
     "data": {
      "application/vnd.jupyter.widget-view+json": {
       "model_id": "261e5d4d6fad4456aa48fedc7422f1ef",
       "version_major": 2,
       "version_minor": 0
      },
      "text/plain": [
       "0batch [00:00, ?batch/s]"
      ]
     },
     "metadata": {},
     "output_type": "display_data"
    },
    {
     "name": "stdout",
     "output_type": "stream",
     "text": [
      "\n",
      "###############################\n",
      " {'nb_epoch': 200, 'batch_size': 64, 'nb_hidden_layers': 2, 'nb_hidden_nodes': 200, 'reg_dropout': 0} \n",
      "###############################\n",
      "\n",
      "WARNING:tensorflow:Callback method `on_train_batch_end` is slow compared to the batch time (batch time: 0.0052s vs `on_train_batch_end` time: 0.0137s). Check your callbacks.\n",
      "\n",
      "Epoch 33: ReduceLROnPlateau reducing learning rate to 0.0005000000237487257.\n",
      "\n",
      "Epoch 43: ReduceLROnPlateau reducing learning rate to 0.0002500000118743628.\n",
      "\n",
      "Epoch 53: ReduceLROnPlateau reducing learning rate to 0.0001250000059371814.\n",
      "Epoch 53: early stopping\n"
     ]
    },
    {
     "name": "stderr",
     "output_type": "stream",
     "text": [
      "\u001b[32m[I 2022-03-09 08:22:02,636]\u001b[0m Trial 3 finished with value: 0.9330712763401825 and parameters: {'nb_hidden_layers': 2, 'nb_hidden_nodes': 200, 'reg_dropout': 0}. Best is trial 3 with value: 0.9330712763401825.\u001b[0m\n"
     ]
    },
    {
     "name": "stdout",
     "output_type": "stream",
     "text": [
      "RUN_ID:  f1c99f83-9f3e-11ec-9f8c-309c23894828\n"
     ]
    },
    {
     "data": {
      "application/vnd.jupyter.widget-view+json": {
       "model_id": "b283996d8a264173bfc0de76761fd1e3",
       "version_major": 2,
       "version_minor": 0
      },
      "text/plain": [
       "0epoch [00:00, ?epoch/s]"
      ]
     },
     "metadata": {},
     "output_type": "display_data"
    },
    {
     "data": {
      "application/vnd.jupyter.widget-view+json": {
       "model_id": "f939422187024e45b004fb323357a0dd",
       "version_major": 2,
       "version_minor": 0
      },
      "text/plain": [
       "0batch [00:00, ?batch/s]"
      ]
     },
     "metadata": {},
     "output_type": "display_data"
    },
    {
     "name": "stdout",
     "output_type": "stream",
     "text": [
      "\n",
      "###############################\n",
      " {'nb_epoch': 200, 'batch_size': 64, 'nb_hidden_layers': 3, 'nb_hidden_nodes': 10, 'reg_dropout': 0.3} \n",
      "###############################\n",
      "\n",
      "WARNING:tensorflow:Callback method `on_train_batch_end` is slow compared to the batch time (batch time: 0.0038s vs `on_train_batch_end` time: 0.0196s). Check your callbacks.\n",
      "\n",
      "Epoch 105: ReduceLROnPlateau reducing learning rate to 0.0005000000237487257.\n",
      "\n",
      "Epoch 121: ReduceLROnPlateau reducing learning rate to 0.0002500000118743628.\n",
      "\n",
      "Epoch 131: ReduceLROnPlateau reducing learning rate to 0.0001250000059371814.\n",
      "\n",
      "Epoch 141: ReduceLROnPlateau reducing learning rate to 6.25000029685907e-05.\n",
      "\n",
      "Epoch 151: ReduceLROnPlateau reducing learning rate to 3.125000148429535e-05.\n",
      "Epoch 159: early stopping\n"
     ]
    },
    {
     "name": "stderr",
     "output_type": "stream",
     "text": [
      "\u001b[32m[I 2022-03-09 08:22:32,459]\u001b[0m Trial 4 finished with value: 0.9187942857705689 and parameters: {'nb_hidden_layers': 3, 'nb_hidden_nodes': 10, 'reg_dropout': 0.3}. Best is trial 3 with value: 0.9330712763401825.\u001b[0m\n"
     ]
    },
    {
     "name": "stdout",
     "output_type": "stream",
     "text": [
      "RUN_ID:  0363f1a9-9f3f-11ec-baaa-309c23894828\n"
     ]
    },
    {
     "data": {
      "application/vnd.jupyter.widget-view+json": {
       "model_id": "5c03741f719f436c9ba1c4bb494f59da",
       "version_major": 2,
       "version_minor": 0
      },
      "text/plain": [
       "0epoch [00:00, ?epoch/s]"
      ]
     },
     "metadata": {},
     "output_type": "display_data"
    },
    {
     "data": {
      "application/vnd.jupyter.widget-view+json": {
       "model_id": "a04c86ace1d4476098267ff5ef8910b3",
       "version_major": 2,
       "version_minor": 0
      },
      "text/plain": [
       "0batch [00:00, ?batch/s]"
      ]
     },
     "metadata": {},
     "output_type": "display_data"
    },
    {
     "name": "stdout",
     "output_type": "stream",
     "text": [
      "\n",
      "###############################\n",
      " {'nb_epoch': 200, 'batch_size': 64, 'nb_hidden_layers': 2, 'nb_hidden_nodes': 200, 'reg_dropout': 0.2} \n",
      "###############################\n",
      "\n",
      "WARNING:tensorflow:Callback method `on_train_batch_end` is slow compared to the batch time (batch time: 0.0064s vs `on_train_batch_end` time: 0.0191s). Check your callbacks.\n",
      "\n",
      "Epoch 31: ReduceLROnPlateau reducing learning rate to 0.0005000000237487257.\n",
      "\n",
      "Epoch 41: ReduceLROnPlateau reducing learning rate to 0.0002500000118743628.\n",
      "\n",
      "Epoch 51: ReduceLROnPlateau reducing learning rate to 0.0001250000059371814.\n",
      "Epoch 56: early stopping\n"
     ]
    },
    {
     "name": "stderr",
     "output_type": "stream",
     "text": [
      "\u001b[32m[I 2022-03-09 08:22:51,653]\u001b[0m Trial 5 finished with value: 0.9331366609835237 and parameters: {'nb_hidden_layers': 2, 'nb_hidden_nodes': 200, 'reg_dropout': 0.2}. Best is trial 5 with value: 0.9331366609835237.\u001b[0m\n"
     ]
    },
    {
     "name": "stdout",
     "output_type": "stream",
     "text": [
      "RUN_ID:  0ed57a42-9f3f-11ec-8770-309c23894828\n"
     ]
    },
    {
     "data": {
      "application/vnd.jupyter.widget-view+json": {
       "model_id": "03d368aaf76d47e788bda32b16900841",
       "version_major": 2,
       "version_minor": 0
      },
      "text/plain": [
       "0epoch [00:00, ?epoch/s]"
      ]
     },
     "metadata": {},
     "output_type": "display_data"
    },
    {
     "data": {
      "application/vnd.jupyter.widget-view+json": {
       "model_id": "ff687e5250764e6c8d61a451ee6f1716",
       "version_major": 2,
       "version_minor": 0
      },
      "text/plain": [
       "0batch [00:00, ?batch/s]"
      ]
     },
     "metadata": {},
     "output_type": "display_data"
    },
    {
     "name": "stdout",
     "output_type": "stream",
     "text": [
      "\n",
      "###############################\n",
      " {'nb_epoch': 200, 'batch_size': 64, 'nb_hidden_layers': 2, 'nb_hidden_nodes': 100, 'reg_dropout': 0.2} \n",
      "###############################\n",
      "\n",
      "WARNING:tensorflow:Callback method `on_train_batch_end` is slow compared to the batch time (batch time: 0.0056s vs `on_train_batch_end` time: 0.0188s). Check your callbacks.\n",
      "\n",
      "Epoch 40: ReduceLROnPlateau reducing learning rate to 0.0005000000237487257.\n",
      "\n",
      "Epoch 50: ReduceLROnPlateau reducing learning rate to 0.0002500000118743628.\n",
      "\n",
      "Epoch 60: ReduceLROnPlateau reducing learning rate to 0.0001250000059371814.\n",
      "\n",
      "Epoch 70: ReduceLROnPlateau reducing learning rate to 6.25000029685907e-05.\n",
      "\n",
      "Epoch 80: ReduceLROnPlateau reducing learning rate to 3.125000148429535e-05.\n",
      "Epoch 88: early stopping\n"
     ]
    },
    {
     "name": "stderr",
     "output_type": "stream",
     "text": [
      "\u001b[32m[I 2022-03-09 08:23:11,546]\u001b[0m Trial 6 finished with value: 0.9326994024140179 and parameters: {'nb_hidden_layers': 2, 'nb_hidden_nodes': 100, 'reg_dropout': 0.2}. Best is trial 5 with value: 0.9331366609835237.\u001b[0m\n"
     ]
    },
    {
     "name": "stdout",
     "output_type": "stream",
     "text": [
      "RUN_ID:  1ab47531-9f3f-11ec-a96b-309c23894828\n"
     ]
    },
    {
     "data": {
      "application/vnd.jupyter.widget-view+json": {
       "model_id": "8130f40f098f40aabc8e55008e620513",
       "version_major": 2,
       "version_minor": 0
      },
      "text/plain": [
       "0epoch [00:00, ?epoch/s]"
      ]
     },
     "metadata": {},
     "output_type": "display_data"
    },
    {
     "data": {
      "application/vnd.jupyter.widget-view+json": {
       "model_id": "8a9343523311404e8a3602192f3b2ea2",
       "version_major": 2,
       "version_minor": 0
      },
      "text/plain": [
       "0batch [00:00, ?batch/s]"
      ]
     },
     "metadata": {},
     "output_type": "display_data"
    },
    {
     "name": "stdout",
     "output_type": "stream",
     "text": [
      "\n",
      "###############################\n",
      " {'nb_epoch': 200, 'batch_size': 64, 'nb_hidden_layers': 3, 'nb_hidden_nodes': 200, 'reg_dropout': 0.1} \n",
      "###############################\n",
      "\n",
      "WARNING:tensorflow:Callback method `on_train_batch_end` is slow compared to the batch time (batch time: 0.0096s vs `on_train_batch_end` time: 0.0194s). Check your callbacks.\n",
      "\n",
      "Epoch 29: ReduceLROnPlateau reducing learning rate to 0.0005000000237487257.\n",
      "\n",
      "Epoch 39: ReduceLROnPlateau reducing learning rate to 0.0002500000118743628.\n",
      "\n",
      "Epoch 49: ReduceLROnPlateau reducing learning rate to 0.0001250000059371814.\n",
      "Epoch 49: early stopping\n"
     ]
    },
    {
     "name": "stderr",
     "output_type": "stream",
     "text": [
      "\u001b[32m[I 2022-03-09 08:23:36,111]\u001b[0m Trial 7 finished with value: 0.9330127956094246 and parameters: {'nb_hidden_layers': 3, 'nb_hidden_nodes': 200, 'reg_dropout': 0.1}. Best is trial 5 with value: 0.9331366609835237.\u001b[0m\n"
     ]
    },
    {
     "name": "stdout",
     "output_type": "stream",
     "text": [
      "RUN_ID:  295ab601-9f3f-11ec-8f57-309c23894828\n"
     ]
    },
    {
     "data": {
      "application/vnd.jupyter.widget-view+json": {
       "model_id": "ed485f1df202428495b2a87ae64a36f1",
       "version_major": 2,
       "version_minor": 0
      },
      "text/plain": [
       "0epoch [00:00, ?epoch/s]"
      ]
     },
     "metadata": {},
     "output_type": "display_data"
    },
    {
     "data": {
      "application/vnd.jupyter.widget-view+json": {
       "model_id": "b0c263f8e75e4394a00e8ee9e57fa051",
       "version_major": 2,
       "version_minor": 0
      },
      "text/plain": [
       "0batch [00:00, ?batch/s]"
      ]
     },
     "metadata": {},
     "output_type": "display_data"
    },
    {
     "name": "stdout",
     "output_type": "stream",
     "text": [
      "\n",
      "###############################\n",
      " {'nb_epoch': 200, 'batch_size': 64, 'nb_hidden_layers': 2, 'nb_hidden_nodes': 200, 'reg_dropout': 0.1} \n",
      "###############################\n",
      "\n",
      "WARNING:tensorflow:Callback method `on_train_batch_end` is slow compared to the batch time (batch time: 0.0050s vs `on_train_batch_end` time: 0.0133s). Check your callbacks.\n",
      "\n",
      "Epoch 34: ReduceLROnPlateau reducing learning rate to 0.0005000000237487257.\n",
      "\n",
      "Epoch 44: ReduceLROnPlateau reducing learning rate to 0.0002500000118743628.\n",
      "\n",
      "Epoch 54: ReduceLROnPlateau reducing learning rate to 0.0001250000059371814.\n",
      "Epoch 55: early stopping\n"
     ]
    },
    {
     "name": "stderr",
     "output_type": "stream",
     "text": [
      "\u001b[32m[I 2022-03-09 08:23:54,592]\u001b[0m Trial 8 finished with value: 0.9330567484665543 and parameters: {'nb_hidden_layers': 2, 'nb_hidden_nodes': 200, 'reg_dropout': 0.1}. Best is trial 5 with value: 0.9331366609835237.\u001b[0m\n"
     ]
    },
    {
     "name": "stdout",
     "output_type": "stream",
     "text": [
      "RUN_ID:  3462ec89-9f3f-11ec-956b-309c23894828\n"
     ]
    },
    {
     "data": {
      "application/vnd.jupyter.widget-view+json": {
       "model_id": "9f414ea6ec4a4624b3a4b703c4113dae",
       "version_major": 2,
       "version_minor": 0
      },
      "text/plain": [
       "0epoch [00:00, ?epoch/s]"
      ]
     },
     "metadata": {},
     "output_type": "display_data"
    },
    {
     "data": {
      "application/vnd.jupyter.widget-view+json": {
       "model_id": "2487152c60274a29ad24fff49d8a0927",
       "version_major": 2,
       "version_minor": 0
      },
      "text/plain": [
       "0batch [00:00, ?batch/s]"
      ]
     },
     "metadata": {},
     "output_type": "display_data"
    },
    {
     "name": "stdout",
     "output_type": "stream",
     "text": [
      "\n",
      "###############################\n",
      " {'nb_epoch': 200, 'batch_size': 64, 'nb_hidden_layers': 3, 'nb_hidden_nodes': 100, 'reg_dropout': 0.2} \n",
      "###############################\n",
      "\n",
      "WARNING:tensorflow:Callback method `on_train_batch_end` is slow compared to the batch time (batch time: 0.0050s vs `on_train_batch_end` time: 0.0209s). Check your callbacks.\n",
      "\n",
      "Epoch 37: ReduceLROnPlateau reducing learning rate to 0.0005000000237487257.\n",
      "\n",
      "Epoch 47: ReduceLROnPlateau reducing learning rate to 0.0002500000118743628.\n",
      "\n",
      "Epoch 57: ReduceLROnPlateau reducing learning rate to 0.0001250000059371814.\n",
      "\n",
      "Epoch 67: ReduceLROnPlateau reducing learning rate to 6.25000029685907e-05.\n",
      "\n",
      "Epoch 77: ReduceLROnPlateau reducing learning rate to 3.125000148429535e-05.\n",
      "\n",
      "Epoch 87: ReduceLROnPlateau reducing learning rate to 1.5625000742147677e-05.\n",
      "Epoch 93: early stopping\n"
     ]
    },
    {
     "name": "stderr",
     "output_type": "stream",
     "text": [
      "\u001b[32m[I 2022-03-09 08:24:21,709]\u001b[0m Trial 9 finished with value: 0.9328097894000474 and parameters: {'nb_hidden_layers': 3, 'nb_hidden_nodes': 100, 'reg_dropout': 0.2}. Best is trial 5 with value: 0.9331366609835237.\u001b[0m\n"
     ]
    },
    {
     "name": "stdout",
     "output_type": "stream",
     "text": [
      "RUN_ID:  448a34f5-9f3f-11ec-b8f6-309c23894828\n"
     ]
    },
    {
     "data": {
      "application/vnd.jupyter.widget-view+json": {
       "model_id": "a774c170fe5e49f6b3f5d11b5416dd17",
       "version_major": 2,
       "version_minor": 0
      },
      "text/plain": [
       "0epoch [00:00, ?epoch/s]"
      ]
     },
     "metadata": {},
     "output_type": "display_data"
    },
    {
     "data": {
      "application/vnd.jupyter.widget-view+json": {
       "model_id": "e5e3cbd694204d719da4a4967e15bbe9",
       "version_major": 2,
       "version_minor": 0
      },
      "text/plain": [
       "0batch [00:00, ?batch/s]"
      ]
     },
     "metadata": {},
     "output_type": "display_data"
    },
    {
     "name": "stdout",
     "output_type": "stream",
     "text": [
      "\n",
      "###############################\n",
      " {'nb_epoch': 200, 'batch_size': 64, 'nb_hidden_layers': 3, 'nb_hidden_nodes': 50, 'reg_dropout': 0.3} \n",
      "###############################\n",
      "\n",
      "WARNING:tensorflow:Callback method `on_train_batch_end` is slow compared to the batch time (batch time: 0.0040s vs `on_train_batch_end` time: 0.0198s). Check your callbacks.\n",
      "\n",
      "Epoch 58: ReduceLROnPlateau reducing learning rate to 0.0005000000237487257.\n",
      "\n",
      "Epoch 68: ReduceLROnPlateau reducing learning rate to 0.0002500000118743628.\n",
      "\n",
      "Epoch 78: ReduceLROnPlateau reducing learning rate to 0.0001250000059371814.\n",
      "\n",
      "Epoch 88: ReduceLROnPlateau reducing learning rate to 6.25000029685907e-05.\n",
      "\n",
      "Epoch 98: ReduceLROnPlateau reducing learning rate to 3.125000148429535e-05.\n",
      "Epoch 98: early stopping\n"
     ]
    },
    {
     "name": "stderr",
     "output_type": "stream",
     "text": [
      "\u001b[32m[I 2022-03-09 08:24:44,544]\u001b[0m Trial 10 finished with value: 0.9325085559367324 and parameters: {'nb_hidden_layers': 3, 'nb_hidden_nodes': 50, 'reg_dropout': 0.3}. Best is trial 5 with value: 0.9331366609835237.\u001b[0m\n"
     ]
    },
    {
     "name": "stdout",
     "output_type": "stream",
     "text": [
      "RUN_ID:  522dcfb8-9f3f-11ec-929f-309c23894828\n"
     ]
    },
    {
     "data": {
      "application/vnd.jupyter.widget-view+json": {
       "model_id": "2775aefdc1ae4bb09b16000a5561086e",
       "version_major": 2,
       "version_minor": 0
      },
      "text/plain": [
       "0epoch [00:00, ?epoch/s]"
      ]
     },
     "metadata": {},
     "output_type": "display_data"
    },
    {
     "data": {
      "application/vnd.jupyter.widget-view+json": {
       "model_id": "18dcbd2c67694bb7831c0f2866fb9b2a",
       "version_major": 2,
       "version_minor": 0
      },
      "text/plain": [
       "0batch [00:00, ?batch/s]"
      ]
     },
     "metadata": {},
     "output_type": "display_data"
    },
    {
     "name": "stdout",
     "output_type": "stream",
     "text": [
      "\n",
      "###############################\n",
      " {'nb_epoch': 200, 'batch_size': 64, 'nb_hidden_layers': 1, 'nb_hidden_nodes': 10, 'reg_dropout': 0.2} \n",
      "###############################\n",
      "\n",
      "WARNING:tensorflow:Callback method `on_train_batch_end` is slow compared to the batch time (batch time: 0.0020s vs `on_train_batch_end` time: 0.0080s). Check your callbacks.\n",
      "\n",
      "Epoch 33: ReduceLROnPlateau reducing learning rate to 0.0005000000237487257.\n",
      "\n",
      "Epoch 43: ReduceLROnPlateau reducing learning rate to 0.0002500000118743628.\n",
      "\n",
      "Epoch 53: ReduceLROnPlateau reducing learning rate to 0.0001250000059371814.\n",
      "Epoch 53: early stopping\n"
     ]
    },
    {
     "name": "stderr",
     "output_type": "stream",
     "text": [
      "\u001b[32m[I 2022-03-09 08:24:52,849]\u001b[0m Trial 11 finished with value: 0.8978662416891787 and parameters: {'nb_hidden_layers': 1, 'nb_hidden_nodes': 10, 'reg_dropout': 0.2}. Best is trial 5 with value: 0.9331366609835237.\u001b[0m\n"
     ]
    },
    {
     "name": "stdout",
     "output_type": "stream",
     "text": [
      "RUN_ID:  571b354b-9f3f-11ec-ae5f-309c23894828\n"
     ]
    },
    {
     "data": {
      "application/vnd.jupyter.widget-view+json": {
       "model_id": "bede6fd492344f38a181defbedc7a863",
       "version_major": 2,
       "version_minor": 0
      },
      "text/plain": [
       "0epoch [00:00, ?epoch/s]"
      ]
     },
     "metadata": {},
     "output_type": "display_data"
    },
    {
     "data": {
      "application/vnd.jupyter.widget-view+json": {
       "model_id": "063fd738df3c4262b7f7a209a9aa45f3",
       "version_major": 2,
       "version_minor": 0
      },
      "text/plain": [
       "0batch [00:00, ?batch/s]"
      ]
     },
     "metadata": {},
     "output_type": "display_data"
    },
    {
     "name": "stdout",
     "output_type": "stream",
     "text": [
      "\n",
      "###############################\n",
      " {'nb_epoch': 200, 'batch_size': 64, 'nb_hidden_layers': 3, 'nb_hidden_nodes': 200, 'reg_dropout': 0} \n",
      "###############################\n",
      "\n",
      "WARNING:tensorflow:Callback method `on_train_batch_end` is slow compared to the batch time (batch time: 0.0082s vs `on_train_batch_end` time: 0.0241s). Check your callbacks.\n",
      "\n",
      "Epoch 38: ReduceLROnPlateau reducing learning rate to 0.0005000000237487257.\n",
      "\n",
      "Epoch 48: ReduceLROnPlateau reducing learning rate to 0.0002500000118743628.\n",
      "\n",
      "Epoch 58: ReduceLROnPlateau reducing learning rate to 0.0001250000059371814.\n",
      "Epoch 58: early stopping\n"
     ]
    },
    {
     "name": "stderr",
     "output_type": "stream",
     "text": [
      "\u001b[32m[I 2022-03-09 08:25:20,796]\u001b[0m Trial 12 finished with value: 0.9323674336337631 and parameters: {'nb_hidden_layers': 3, 'nb_hidden_nodes': 200, 'reg_dropout': 0}. Best is trial 5 with value: 0.9331366609835237.\u001b[0m\n"
     ]
    },
    {
     "name": "stdout",
     "output_type": "stream",
     "text": [
      "RUN_ID:  67ce047d-9f3f-11ec-a402-309c23894828\n"
     ]
    },
    {
     "data": {
      "application/vnd.jupyter.widget-view+json": {
       "model_id": "ece1a4b2451c4a9aa947d530d44362a2",
       "version_major": 2,
       "version_minor": 0
      },
      "text/plain": [
       "0epoch [00:00, ?epoch/s]"
      ]
     },
     "metadata": {},
     "output_type": "display_data"
    },
    {
     "data": {
      "application/vnd.jupyter.widget-view+json": {
       "model_id": "5232343c64e448dbbf0202b3a9e74e6f",
       "version_major": 2,
       "version_minor": 0
      },
      "text/plain": [
       "0batch [00:00, ?batch/s]"
      ]
     },
     "metadata": {},
     "output_type": "display_data"
    },
    {
     "name": "stdout",
     "output_type": "stream",
     "text": [
      "\n",
      "###############################\n",
      " {'nb_epoch': 200, 'batch_size': 64, 'nb_hidden_layers': 1, 'nb_hidden_nodes': 100, 'reg_dropout': 0.05} \n",
      "###############################\n",
      "\n",
      "WARNING:tensorflow:Callback method `on_train_batch_end` is slow compared to the batch time (batch time: 0.0018s vs `on_train_batch_end` time: 0.0077s). Check your callbacks.\n",
      "\n",
      "Epoch 68: ReduceLROnPlateau reducing learning rate to 0.0005000000237487257.\n",
      "\n",
      "Epoch 78: ReduceLROnPlateau reducing learning rate to 0.0002500000118743628.\n",
      "\n",
      "Epoch 88: ReduceLROnPlateau reducing learning rate to 0.0001250000059371814.\n",
      "Epoch 94: early stopping\n"
     ]
    },
    {
     "name": "stderr",
     "output_type": "stream",
     "text": [
      "\u001b[32m[I 2022-03-09 08:25:35,225]\u001b[0m Trial 13 finished with value: 0.932943318792534 and parameters: {'nb_hidden_layers': 1, 'nb_hidden_nodes': 100, 'reg_dropout': 0.05}. Best is trial 5 with value: 0.9331366609835237.\u001b[0m\n"
     ]
    },
    {
     "name": "stdout",
     "output_type": "stream",
     "text": [
      "RUN_ID:  70a46d6e-9f3f-11ec-8c7a-309c23894828\n"
     ]
    },
    {
     "data": {
      "application/vnd.jupyter.widget-view+json": {
       "model_id": "dab2e91191654194bad5916e8ebe9005",
       "version_major": 2,
       "version_minor": 0
      },
      "text/plain": [
       "0epoch [00:00, ?epoch/s]"
      ]
     },
     "metadata": {},
     "output_type": "display_data"
    },
    {
     "data": {
      "application/vnd.jupyter.widget-view+json": {
       "model_id": "0c82cbc5a82847b291afd55fd8e66b28",
       "version_major": 2,
       "version_minor": 0
      },
      "text/plain": [
       "0batch [00:00, ?batch/s]"
      ]
     },
     "metadata": {},
     "output_type": "display_data"
    },
    {
     "name": "stdout",
     "output_type": "stream",
     "text": [
      "\n",
      "###############################\n",
      " {'nb_epoch': 200, 'batch_size': 64, 'nb_hidden_layers': 2, 'nb_hidden_nodes': 50, 'reg_dropout': 0.1} \n",
      "###############################\n",
      "\n",
      "WARNING:tensorflow:Callback method `on_train_batch_end` is slow compared to the batch time (batch time: 0.0034s vs `on_train_batch_end` time: 0.0133s). Check your callbacks.\n",
      "\n",
      "Epoch 48: ReduceLROnPlateau reducing learning rate to 0.0005000000237487257.\n",
      "\n",
      "Epoch 58: ReduceLROnPlateau reducing learning rate to 0.0002500000118743628.\n",
      "\n",
      "Epoch 68: ReduceLROnPlateau reducing learning rate to 0.0001250000059371814.\n",
      "Epoch 76: early stopping\n"
     ]
    },
    {
     "name": "stderr",
     "output_type": "stream",
     "text": [
      "\u001b[32m[I 2022-03-09 08:25:50,127]\u001b[0m Trial 14 finished with value: 0.9318909840122943 and parameters: {'nb_hidden_layers': 2, 'nb_hidden_nodes': 50, 'reg_dropout': 0.1}. Best is trial 5 with value: 0.9331366609835237.\u001b[0m\n"
     ]
    },
    {
     "name": "stdout",
     "output_type": "stream",
     "text": [
      "RUN_ID:  7950e856-9f3f-11ec-aabb-309c23894828\n"
     ]
    },
    {
     "data": {
      "application/vnd.jupyter.widget-view+json": {
       "model_id": "9ab51e93f1d748618d830a05dee4213d",
       "version_major": 2,
       "version_minor": 0
      },
      "text/plain": [
       "0epoch [00:00, ?epoch/s]"
      ]
     },
     "metadata": {},
     "output_type": "display_data"
    },
    {
     "data": {
      "application/vnd.jupyter.widget-view+json": {
       "model_id": "8078ac672f62417aa96be7a6e0cf6ba0",
       "version_major": 2,
       "version_minor": 0
      },
      "text/plain": [
       "0batch [00:00, ?batch/s]"
      ]
     },
     "metadata": {},
     "output_type": "display_data"
    },
    {
     "name": "stdout",
     "output_type": "stream",
     "text": [
      "\n",
      "###############################\n",
      " {'nb_epoch': 200, 'batch_size': 64, 'nb_hidden_layers': 3, 'nb_hidden_nodes': 100, 'reg_dropout': 0.3} \n",
      "###############################\n",
      "\n",
      "WARNING:tensorflow:Callback method `on_train_batch_end` is slow compared to the batch time (batch time: 0.0062s vs `on_train_batch_end` time: 0.0196s). Check your callbacks.\n",
      "\n",
      "Epoch 49: ReduceLROnPlateau reducing learning rate to 0.0005000000237487257.\n",
      "\n",
      "Epoch 59: ReduceLROnPlateau reducing learning rate to 0.0002500000118743628.\n",
      "\n",
      "Epoch 69: ReduceLROnPlateau reducing learning rate to 0.0001250000059371814.\n",
      "\n",
      "Epoch 79: ReduceLROnPlateau reducing learning rate to 6.25000029685907e-05.\n",
      "Epoch 80: early stopping\n"
     ]
    },
    {
     "name": "stderr",
     "output_type": "stream",
     "text": [
      "\u001b[32m[I 2022-03-09 08:26:13,135]\u001b[0m Trial 15 finished with value: 0.933078569335711 and parameters: {'nb_hidden_layers': 3, 'nb_hidden_nodes': 100, 'reg_dropout': 0.3}. Best is trial 5 with value: 0.9331366609835237.\u001b[0m\n"
     ]
    },
    {
     "name": "stdout",
     "output_type": "stream",
     "text": [
      "RUN_ID:  87023da8-9f3f-11ec-9022-309c23894828\n"
     ]
    },
    {
     "data": {
      "application/vnd.jupyter.widget-view+json": {
       "model_id": "f3601a44dc1c4bae8562e60a13e42d21",
       "version_major": 2,
       "version_minor": 0
      },
      "text/plain": [
       "0epoch [00:00, ?epoch/s]"
      ]
     },
     "metadata": {},
     "output_type": "display_data"
    },
    {
     "data": {
      "application/vnd.jupyter.widget-view+json": {
       "model_id": "11593e04caf145dab56160393ba17239",
       "version_major": 2,
       "version_minor": 0
      },
      "text/plain": [
       "0batch [00:00, ?batch/s]"
      ]
     },
     "metadata": {},
     "output_type": "display_data"
    },
    {
     "name": "stdout",
     "output_type": "stream",
     "text": [
      "\n",
      "###############################\n",
      " {'nb_epoch': 200, 'batch_size': 64, 'nb_hidden_layers': 2, 'nb_hidden_nodes': 50, 'reg_dropout': 0} \n",
      "###############################\n",
      "\n",
      "WARNING:tensorflow:Callback method `on_train_batch_end` is slow compared to the batch time (batch time: 0.0028s vs `on_train_batch_end` time: 0.0155s). Check your callbacks.\n",
      "\n",
      "Epoch 37: ReduceLROnPlateau reducing learning rate to 0.0005000000237487257.\n",
      "\n",
      "Epoch 50: ReduceLROnPlateau reducing learning rate to 0.0002500000118743628.\n",
      "\n",
      "Epoch 60: ReduceLROnPlateau reducing learning rate to 0.0001250000059371814.\n",
      "\n",
      "Epoch 70: ReduceLROnPlateau reducing learning rate to 6.25000029685907e-05.\n",
      "Epoch 75: early stopping\n"
     ]
    },
    {
     "name": "stderr",
     "output_type": "stream",
     "text": [
      "\u001b[32m[I 2022-03-09 08:26:27,406]\u001b[0m Trial 16 finished with value: 0.9324810284800809 and parameters: {'nb_hidden_layers': 2, 'nb_hidden_nodes': 50, 'reg_dropout': 0}. Best is trial 5 with value: 0.9331366609835237.\u001b[0m\n"
     ]
    },
    {
     "name": "stdout",
     "output_type": "stream",
     "text": [
      "RUN_ID:  8f8f2c1b-9f3f-11ec-bbe6-309c23894828\n"
     ]
    },
    {
     "data": {
      "application/vnd.jupyter.widget-view+json": {
       "model_id": "8153f45fb98447b3a5d2a63b520fcca1",
       "version_major": 2,
       "version_minor": 0
      },
      "text/plain": [
       "0epoch [00:00, ?epoch/s]"
      ]
     },
     "metadata": {},
     "output_type": "display_data"
    },
    {
     "data": {
      "application/vnd.jupyter.widget-view+json": {
       "model_id": "b718b100b2f44d77aceaf5a8e2155a78",
       "version_major": 2,
       "version_minor": 0
      },
      "text/plain": [
       "0batch [00:00, ?batch/s]"
      ]
     },
     "metadata": {},
     "output_type": "display_data"
    },
    {
     "name": "stdout",
     "output_type": "stream",
     "text": [
      "\n",
      "###############################\n",
      " {'nb_epoch': 200, 'batch_size': 64, 'nb_hidden_layers': 2, 'nb_hidden_nodes': 10, 'reg_dropout': 0.1} \n",
      "###############################\n",
      "\n",
      "WARNING:tensorflow:Callback method `on_train_batch_end` is slow compared to the batch time (batch time: 0.0022s vs `on_train_batch_end` time: 0.0129s). Check your callbacks.\n",
      "\n",
      "Epoch 91: ReduceLROnPlateau reducing learning rate to 0.0005000000237487257.\n",
      "\n",
      "Epoch 115: ReduceLROnPlateau reducing learning rate to 0.0002500000118743628.\n",
      "\n",
      "Epoch 125: ReduceLROnPlateau reducing learning rate to 0.0001250000059371814.\n",
      "\n",
      "Epoch 135: ReduceLROnPlateau reducing learning rate to 6.25000029685907e-05.\n",
      "\n",
      "Epoch 145: ReduceLROnPlateau reducing learning rate to 3.125000148429535e-05.\n",
      "Epoch 154: early stopping\n"
     ]
    },
    {
     "name": "stderr",
     "output_type": "stream",
     "text": [
      "\u001b[32m[I 2022-03-09 08:26:48,930]\u001b[0m Trial 17 finished with value: 0.9295830344110458 and parameters: {'nb_hidden_layers': 2, 'nb_hidden_nodes': 10, 'reg_dropout': 0.1}. Best is trial 5 with value: 0.9331366609835237.\u001b[0m\n"
     ]
    },
    {
     "name": "stdout",
     "output_type": "stream",
     "text": [
      "RUN_ID:  9c624786-9f3f-11ec-8835-309c23894828\n"
     ]
    },
    {
     "data": {
      "application/vnd.jupyter.widget-view+json": {
       "model_id": "09301b67f2ef4df6889ea00c73b2b016",
       "version_major": 2,
       "version_minor": 0
      },
      "text/plain": [
       "0epoch [00:00, ?epoch/s]"
      ]
     },
     "metadata": {},
     "output_type": "display_data"
    },
    {
     "data": {
      "application/vnd.jupyter.widget-view+json": {
       "model_id": "b70842f1b05c4313a1aea80aa17e98bc",
       "version_major": 2,
       "version_minor": 0
      },
      "text/plain": [
       "0batch [00:00, ?batch/s]"
      ]
     },
     "metadata": {},
     "output_type": "display_data"
    },
    {
     "name": "stdout",
     "output_type": "stream",
     "text": [
      "\n",
      "###############################\n",
      " {'nb_epoch': 200, 'batch_size': 64, 'nb_hidden_layers': 3, 'nb_hidden_nodes': 50, 'reg_dropout': 0} \n",
      "###############################\n",
      "\n",
      "WARNING:tensorflow:Callback method `on_train_batch_end` is slow compared to the batch time (batch time: 0.0038s vs `on_train_batch_end` time: 0.0190s). Check your callbacks.\n",
      "\n",
      "Epoch 34: ReduceLROnPlateau reducing learning rate to 0.0005000000237487257.\n",
      "\n",
      "Epoch 45: ReduceLROnPlateau reducing learning rate to 0.0002500000118743628.\n",
      "\n",
      "Epoch 55: ReduceLROnPlateau reducing learning rate to 0.0001250000059371814.\n",
      "\n",
      "Epoch 65: ReduceLROnPlateau reducing learning rate to 6.25000029685907e-05.\n",
      "\n",
      "Epoch 75: ReduceLROnPlateau reducing learning rate to 3.125000148429535e-05.\n",
      "Epoch 83: early stopping\n"
     ]
    },
    {
     "name": "stderr",
     "output_type": "stream",
     "text": [
      "\u001b[32m[I 2022-03-09 08:27:08,030]\u001b[0m Trial 18 finished with value: 0.9322706541239506 and parameters: {'nb_hidden_layers': 3, 'nb_hidden_nodes': 50, 'reg_dropout': 0}. Best is trial 5 with value: 0.9331366609835237.\u001b[0m\n"
     ]
    },
    {
     "name": "stdout",
     "output_type": "stream",
     "text": [
      "RUN_ID:  a7c00f0d-9f3f-11ec-86f4-309c23894828\n"
     ]
    },
    {
     "data": {
      "application/vnd.jupyter.widget-view+json": {
       "model_id": "50b73089d18a4bd99066593eac0bf0b8",
       "version_major": 2,
       "version_minor": 0
      },
      "text/plain": [
       "0epoch [00:00, ?epoch/s]"
      ]
     },
     "metadata": {},
     "output_type": "display_data"
    },
    {
     "data": {
      "application/vnd.jupyter.widget-view+json": {
       "model_id": "e5d076d5361245c49f492bcdf391ac99",
       "version_major": 2,
       "version_minor": 0
      },
      "text/plain": [
       "0batch [00:00, ?batch/s]"
      ]
     },
     "metadata": {},
     "output_type": "display_data"
    },
    {
     "name": "stdout",
     "output_type": "stream",
     "text": [
      "\n",
      "###############################\n",
      " {'nb_epoch': 200, 'batch_size': 64, 'nb_hidden_layers': 3, 'nb_hidden_nodes': 50, 'reg_dropout': 0.1} \n",
      "###############################\n",
      "\n",
      "WARNING:tensorflow:Callback method `on_train_batch_end` is slow compared to the batch time (batch time: 0.0036s vs `on_train_batch_end` time: 0.0310s). Check your callbacks.\n",
      "\n",
      "Epoch 46: ReduceLROnPlateau reducing learning rate to 0.0005000000237487257.\n",
      "\n",
      "Epoch 56: ReduceLROnPlateau reducing learning rate to 0.0002500000118743628.\n",
      "\n",
      "Epoch 76: ReduceLROnPlateau reducing learning rate to 0.0001250000059371814.\n",
      "\n",
      "Epoch 86: ReduceLROnPlateau reducing learning rate to 6.25000029685907e-05.\n",
      "\n",
      "Epoch 96: ReduceLROnPlateau reducing learning rate to 3.125000148429535e-05.\n",
      "Epoch 104: early stopping\n"
     ]
    },
    {
     "name": "stderr",
     "output_type": "stream",
     "text": [
      "\u001b[32m[I 2022-03-09 08:27:30,569]\u001b[0m Trial 19 finished with value: 0.932274968335543 and parameters: {'nb_hidden_layers': 3, 'nb_hidden_nodes': 50, 'reg_dropout': 0.1}. Best is trial 5 with value: 0.9331366609835237.\u001b[0m\n"
     ]
    },
    {
     "name": "stdout",
     "output_type": "stream",
     "text": [
      "RUN_ID:  b53b57a3-9f3f-11ec-afb5-309c23894828\n"
     ]
    },
    {
     "data": {
      "application/vnd.jupyter.widget-view+json": {
       "model_id": "4cd5853906354e018bcd646f41c8ec78",
       "version_major": 2,
       "version_minor": 0
      },
      "text/plain": [
       "0epoch [00:00, ?epoch/s]"
      ]
     },
     "metadata": {},
     "output_type": "display_data"
    },
    {
     "data": {
      "application/vnd.jupyter.widget-view+json": {
       "model_id": "850d4d0a25b3452b8fd3895bce55106b",
       "version_major": 2,
       "version_minor": 0
      },
      "text/plain": [
       "0batch [00:00, ?batch/s]"
      ]
     },
     "metadata": {},
     "output_type": "display_data"
    },
    {
     "name": "stdout",
     "output_type": "stream",
     "text": [
      "\n",
      "###############################\n",
      " {'nb_epoch': 200, 'batch_size': 64, 'nb_hidden_layers': 3, 'nb_hidden_nodes': 10, 'reg_dropout': 0.2} \n",
      "###############################\n",
      "\n",
      "WARNING:tensorflow:Callback method `on_train_batch_end` is slow compared to the batch time (batch time: 0.0034s vs `on_train_batch_end` time: 0.0187s). Check your callbacks.\n",
      "\n",
      "Epoch 41: ReduceLROnPlateau reducing learning rate to 0.0005000000237487257.\n",
      "\n",
      "Epoch 60: ReduceLROnPlateau reducing learning rate to 0.0002500000118743628.\n",
      "\n",
      "Epoch 90: ReduceLROnPlateau reducing learning rate to 0.0001250000059371814.\n",
      "\n",
      "Epoch 111: ReduceLROnPlateau reducing learning rate to 6.25000029685907e-05.\n",
      "\n",
      "Epoch 121: ReduceLROnPlateau reducing learning rate to 3.125000148429535e-05.\n",
      "\n",
      "Epoch 131: ReduceLROnPlateau reducing learning rate to 1.5625000742147677e-05.\n",
      "Epoch 135: early stopping\n"
     ]
    },
    {
     "name": "stderr",
     "output_type": "stream",
     "text": [
      "\u001b[32m[I 2022-03-09 08:27:55,045]\u001b[0m Trial 20 finished with value: 0.9124038093794746 and parameters: {'nb_hidden_layers': 3, 'nb_hidden_nodes': 10, 'reg_dropout': 0.2}. Best is trial 5 with value: 0.9331366609835237.\u001b[0m\n"
     ]
    },
    {
     "name": "stdout",
     "output_type": "stream",
     "text": [
      "RUN_ID:  c3ce3f0f-9f3f-11ec-ac4a-309c23894828\n"
     ]
    },
    {
     "data": {
      "application/vnd.jupyter.widget-view+json": {
       "model_id": "bd93a8a2755447bba274e4cd2cb3741e",
       "version_major": 2,
       "version_minor": 0
      },
      "text/plain": [
       "0epoch [00:00, ?epoch/s]"
      ]
     },
     "metadata": {},
     "output_type": "display_data"
    },
    {
     "data": {
      "application/vnd.jupyter.widget-view+json": {
       "model_id": "f4fb15e968624918a5c98b1155df432d",
       "version_major": 2,
       "version_minor": 0
      },
      "text/plain": [
       "0batch [00:00, ?batch/s]"
      ]
     },
     "metadata": {},
     "output_type": "display_data"
    },
    {
     "name": "stdout",
     "output_type": "stream",
     "text": [
      "\n",
      "###############################\n",
      " {'nb_epoch': 200, 'batch_size': 64, 'nb_hidden_layers': 1, 'nb_hidden_nodes': 200, 'reg_dropout': 0.3} \n",
      "###############################\n",
      "\n",
      "WARNING:tensorflow:Callback method `on_train_batch_end` is slow compared to the batch time (batch time: 0.0034s vs `on_train_batch_end` time: 0.0085s). Check your callbacks.\n",
      "\n",
      "Epoch 49: ReduceLROnPlateau reducing learning rate to 0.0005000000237487257.\n",
      "\n",
      "Epoch 59: ReduceLROnPlateau reducing learning rate to 0.0002500000118743628.\n",
      "\n",
      "Epoch 69: ReduceLROnPlateau reducing learning rate to 0.0001250000059371814.\n",
      "\n",
      "Epoch 79: ReduceLROnPlateau reducing learning rate to 6.25000029685907e-05.\n",
      "\n",
      "Epoch 89: ReduceLROnPlateau reducing learning rate to 3.125000148429535e-05.\n",
      "Epoch 94: early stopping\n"
     ]
    },
    {
     "name": "stderr",
     "output_type": "stream",
     "text": [
      "\u001b[32m[I 2022-03-09 08:28:11,804]\u001b[0m Trial 21 finished with value: 0.9326655373464564 and parameters: {'nb_hidden_layers': 1, 'nb_hidden_nodes': 200, 'reg_dropout': 0.3}. Best is trial 5 with value: 0.9331366609835237.\u001b[0m\n"
     ]
    },
    {
     "name": "stdout",
     "output_type": "stream",
     "text": [
      "RUN_ID:  cdccc069-9f3f-11ec-9159-309c23894828\n"
     ]
    },
    {
     "data": {
      "application/vnd.jupyter.widget-view+json": {
       "model_id": "c3b788c4f58b44cd9ed6fabc3cc30c7a",
       "version_major": 2,
       "version_minor": 0
      },
      "text/plain": [
       "0epoch [00:00, ?epoch/s]"
      ]
     },
     "metadata": {},
     "output_type": "display_data"
    },
    {
     "data": {
      "application/vnd.jupyter.widget-view+json": {
       "model_id": "c48e9cf1e91946059b3129091b6b4700",
       "version_major": 2,
       "version_minor": 0
      },
      "text/plain": [
       "0batch [00:00, ?batch/s]"
      ]
     },
     "metadata": {},
     "output_type": "display_data"
    },
    {
     "name": "stdout",
     "output_type": "stream",
     "text": [
      "\n",
      "###############################\n",
      " {'nb_epoch': 200, 'batch_size': 64, 'nb_hidden_layers': 1, 'nb_hidden_nodes': 10, 'reg_dropout': 0.1} \n",
      "###############################\n",
      "\n",
      "WARNING:tensorflow:Callback method `on_train_batch_end` is slow compared to the batch time (batch time: 0.0018s vs `on_train_batch_end` time: 0.0076s). Check your callbacks.\n",
      "\n",
      "Epoch 123: ReduceLROnPlateau reducing learning rate to 0.0005000000237487257.\n",
      "\n",
      "Epoch 134: ReduceLROnPlateau reducing learning rate to 0.0002500000118743628.\n",
      "\n",
      "Epoch 144: ReduceLROnPlateau reducing learning rate to 0.0001250000059371814.\n",
      "\n",
      "Epoch 154: ReduceLROnPlateau reducing learning rate to 6.25000029685907e-05.\n",
      "\n",
      "Epoch 164: ReduceLROnPlateau reducing learning rate to 3.125000148429535e-05.\n",
      "Epoch 168: early stopping\n"
     ]
    },
    {
     "name": "stderr",
     "output_type": "stream",
     "text": [
      "\u001b[32m[I 2022-03-09 08:28:30,147]\u001b[0m Trial 22 finished with value: 0.9288657727742016 and parameters: {'nb_hidden_layers': 1, 'nb_hidden_nodes': 10, 'reg_dropout': 0.1}. Best is trial 5 with value: 0.9331366609835237.\u001b[0m\n"
     ]
    },
    {
     "name": "stdout",
     "output_type": "stream",
     "text": [
      "RUN_ID:  d8c7c09b-9f3f-11ec-93ad-309c23894828\n"
     ]
    },
    {
     "data": {
      "application/vnd.jupyter.widget-view+json": {
       "model_id": "1ed29761cac64d2eb42973f128012f0f",
       "version_major": 2,
       "version_minor": 0
      },
      "text/plain": [
       "0epoch [00:00, ?epoch/s]"
      ]
     },
     "metadata": {},
     "output_type": "display_data"
    },
    {
     "data": {
      "application/vnd.jupyter.widget-view+json": {
       "model_id": "26f20ef015d4482f8a56b582ef4bf9f4",
       "version_major": 2,
       "version_minor": 0
      },
      "text/plain": [
       "0batch [00:00, ?batch/s]"
      ]
     },
     "metadata": {},
     "output_type": "display_data"
    },
    {
     "name": "stdout",
     "output_type": "stream",
     "text": [
      "\n",
      "###############################\n",
      " {'nb_epoch': 200, 'batch_size': 64, 'nb_hidden_layers': 2, 'nb_hidden_nodes': 50, 'reg_dropout': 0.2} \n",
      "###############################\n",
      "\n",
      "WARNING:tensorflow:Callback method `on_train_batch_end` is slow compared to the batch time (batch time: 0.0032s vs `on_train_batch_end` time: 0.0130s). Check your callbacks.\n",
      "\n",
      "Epoch 42: ReduceLROnPlateau reducing learning rate to 0.0005000000237487257.\n",
      "\n",
      "Epoch 54: ReduceLROnPlateau reducing learning rate to 0.0002500000118743628.\n",
      "\n",
      "Epoch 64: ReduceLROnPlateau reducing learning rate to 0.0001250000059371814.\n",
      "\n",
      "Epoch 74: ReduceLROnPlateau reducing learning rate to 6.25000029685907e-05.\n",
      "Epoch 74: early stopping\n"
     ]
    },
    {
     "name": "stderr",
     "output_type": "stream",
     "text": [
      "\u001b[32m[I 2022-03-09 08:28:44,173]\u001b[0m Trial 23 finished with value: 0.930798570131406 and parameters: {'nb_hidden_layers': 2, 'nb_hidden_nodes': 50, 'reg_dropout': 0.2}. Best is trial 5 with value: 0.9331366609835237.\u001b[0m\n"
     ]
    },
    {
     "name": "stdout",
     "output_type": "stream",
     "text": [
      "RUN_ID:  e1264f6c-9f3f-11ec-a8ca-309c23894828\n"
     ]
    },
    {
     "data": {
      "application/vnd.jupyter.widget-view+json": {
       "model_id": "b08922c0d138453a98c423b9a37d8d50",
       "version_major": 2,
       "version_minor": 0
      },
      "text/plain": [
       "0epoch [00:00, ?epoch/s]"
      ]
     },
     "metadata": {},
     "output_type": "display_data"
    },
    {
     "data": {
      "application/vnd.jupyter.widget-view+json": {
       "model_id": "a59f9432b4024f6aa0264869590c956f",
       "version_major": 2,
       "version_minor": 0
      },
      "text/plain": [
       "0batch [00:00, ?batch/s]"
      ]
     },
     "metadata": {},
     "output_type": "display_data"
    },
    {
     "name": "stdout",
     "output_type": "stream",
     "text": [
      "\n",
      "###############################\n",
      " {'nb_epoch': 200, 'batch_size': 64, 'nb_hidden_layers': 1, 'nb_hidden_nodes': 200, 'reg_dropout': 0.1} \n",
      "###############################\n",
      "\n",
      "WARNING:tensorflow:Callback method `on_train_batch_end` is slow compared to the batch time (batch time: 0.0036s vs `on_train_batch_end` time: 0.0071s). Check your callbacks.\n",
      "\n",
      "Epoch 50: ReduceLROnPlateau reducing learning rate to 0.0005000000237487257.\n",
      "\n",
      "Epoch 68: ReduceLROnPlateau reducing learning rate to 0.0002500000118743628.\n",
      "\n",
      "Epoch 78: ReduceLROnPlateau reducing learning rate to 0.0001250000059371814.\n",
      "\n",
      "Epoch 88: ReduceLROnPlateau reducing learning rate to 6.25000029685907e-05.\n",
      "Epoch 89: early stopping\n"
     ]
    },
    {
     "name": "stderr",
     "output_type": "stream",
     "text": [
      "\u001b[32m[I 2022-03-09 08:29:01,448]\u001b[0m Trial 24 finished with value: 0.93299312580047 and parameters: {'nb_hidden_layers': 1, 'nb_hidden_nodes': 200, 'reg_dropout': 0.1}. Best is trial 5 with value: 0.9331366609835237.\u001b[0m\n"
     ]
    },
    {
     "name": "stdout",
     "output_type": "stream",
     "text": [
      "RUN_ID:  eb685719-9f3f-11ec-8c2a-309c23894828\n"
     ]
    },
    {
     "data": {
      "application/vnd.jupyter.widget-view+json": {
       "model_id": "ce29cfcc490f4db7b5f9cae1d6612e87",
       "version_major": 2,
       "version_minor": 0
      },
      "text/plain": [
       "0epoch [00:00, ?epoch/s]"
      ]
     },
     "metadata": {},
     "output_type": "display_data"
    },
    {
     "data": {
      "application/vnd.jupyter.widget-view+json": {
       "model_id": "65db906d1768494ca72b90f0dfeb06fd",
       "version_major": 2,
       "version_minor": 0
      },
      "text/plain": [
       "0batch [00:00, ?batch/s]"
      ]
     },
     "metadata": {},
     "output_type": "display_data"
    },
    {
     "name": "stdout",
     "output_type": "stream",
     "text": [
      "\n",
      "###############################\n",
      " {'nb_epoch': 200, 'batch_size': 64, 'nb_hidden_layers': 1, 'nb_hidden_nodes': 10, 'reg_dropout': 0.3} \n",
      "###############################\n",
      "\n",
      "WARNING:tensorflow:Callback method `on_train_batch_end` is slow compared to the batch time (batch time: 0.0018s vs `on_train_batch_end` time: 0.0078s). Check your callbacks.\n",
      "\n",
      "Epoch 36: ReduceLROnPlateau reducing learning rate to 0.0005000000237487257.\n",
      "\n",
      "Epoch 46: ReduceLROnPlateau reducing learning rate to 0.0002500000118743628.\n",
      "\n",
      "Epoch 56: ReduceLROnPlateau reducing learning rate to 0.0001250000059371814.\n",
      "Epoch 59: early stopping\n"
     ]
    },
    {
     "name": "stderr",
     "output_type": "stream",
     "text": [
      "\u001b[32m[I 2022-03-09 08:29:09,791]\u001b[0m Trial 25 finished with value: 0.8940438338824972 and parameters: {'nb_hidden_layers': 1, 'nb_hidden_nodes': 10, 'reg_dropout': 0.3}. Best is trial 5 with value: 0.9331366609835237.\u001b[0m\n"
     ]
    },
    {
     "name": "stdout",
     "output_type": "stream",
     "text": [
      "RUN_ID:  f0727503-9f3f-11ec-a6e9-309c23894828\n"
     ]
    },
    {
     "data": {
      "application/vnd.jupyter.widget-view+json": {
       "model_id": "cef3ff74f2944d49a5fe2d90499da7ec",
       "version_major": 2,
       "version_minor": 0
      },
      "text/plain": [
       "0epoch [00:00, ?epoch/s]"
      ]
     },
     "metadata": {},
     "output_type": "display_data"
    },
    {
     "data": {
      "application/vnd.jupyter.widget-view+json": {
       "model_id": "ef9fcfb2856948e4a936cd2e24629c69",
       "version_major": 2,
       "version_minor": 0
      },
      "text/plain": [
       "0batch [00:00, ?batch/s]"
      ]
     },
     "metadata": {},
     "output_type": "display_data"
    },
    {
     "name": "stdout",
     "output_type": "stream",
     "text": [
      "\n",
      "###############################\n",
      " {'nb_epoch': 200, 'batch_size': 64, 'nb_hidden_layers': 3, 'nb_hidden_nodes': 200, 'reg_dropout': 0.05} \n",
      "###############################\n",
      "\n",
      "WARNING:tensorflow:Callback method `on_train_batch_end` is slow compared to the batch time (batch time: 0.0116s vs `on_train_batch_end` time: 0.0200s). Check your callbacks.\n",
      "\n",
      "Epoch 26: ReduceLROnPlateau reducing learning rate to 0.0005000000237487257.\n",
      "\n",
      "Epoch 36: ReduceLROnPlateau reducing learning rate to 0.0002500000118743628.\n",
      "\n",
      "Epoch 46: ReduceLROnPlateau reducing learning rate to 0.0001250000059371814.\n",
      "\n",
      "Epoch 56: ReduceLROnPlateau reducing learning rate to 6.25000029685907e-05.\n",
      "Epoch 60: early stopping\n"
     ]
    },
    {
     "name": "stderr",
     "output_type": "stream",
     "text": [
      "\u001b[32m[I 2022-03-09 08:29:41,037]\u001b[0m Trial 26 finished with value: 0.9331306139989131 and parameters: {'nb_hidden_layers': 3, 'nb_hidden_nodes': 200, 'reg_dropout': 0.05}. Best is trial 5 with value: 0.9331366609835237.\u001b[0m\n"
     ]
    },
    {
     "name": "stdout",
     "output_type": "stream",
     "text": [
      "RUN_ID:  030c6dbe-9f40-11ec-8f82-309c23894828\n"
     ]
    },
    {
     "data": {
      "application/vnd.jupyter.widget-view+json": {
       "model_id": "f3401243056d4c13ad93e838b852f2b8",
       "version_major": 2,
       "version_minor": 0
      },
      "text/plain": [
       "0epoch [00:00, ?epoch/s]"
      ]
     },
     "metadata": {},
     "output_type": "display_data"
    },
    {
     "data": {
      "application/vnd.jupyter.widget-view+json": {
       "model_id": "fb9d0c4b771c4c05b788f6302e46184c",
       "version_major": 2,
       "version_minor": 0
      },
      "text/plain": [
       "0batch [00:00, ?batch/s]"
      ]
     },
     "metadata": {},
     "output_type": "display_data"
    },
    {
     "name": "stdout",
     "output_type": "stream",
     "text": [
      "\n",
      "###############################\n",
      " {'nb_epoch': 200, 'batch_size': 64, 'nb_hidden_layers': 3, 'nb_hidden_nodes': 50, 'reg_dropout': 0.05} \n",
      "###############################\n",
      "\n",
      "WARNING:tensorflow:Callback method `on_train_batch_end` is slow compared to the batch time (batch time: 0.0044s vs `on_train_batch_end` time: 0.0196s). Check your callbacks.\n",
      "\n",
      "Epoch 37: ReduceLROnPlateau reducing learning rate to 0.0005000000237487257.\n",
      "\n",
      "Epoch 51: ReduceLROnPlateau reducing learning rate to 0.0002500000118743628.\n",
      "\n",
      "Epoch 61: ReduceLROnPlateau reducing learning rate to 0.0001250000059371814.\n",
      "\n",
      "Epoch 71: ReduceLROnPlateau reducing learning rate to 6.25000029685907e-05.\n",
      "Epoch 78: early stopping\n"
     ]
    },
    {
     "name": "stderr",
     "output_type": "stream",
     "text": [
      "\u001b[32m[I 2022-03-09 08:30:00,242]\u001b[0m Trial 27 finished with value: 0.9326300053943665 and parameters: {'nb_hidden_layers': 3, 'nb_hidden_nodes': 50, 'reg_dropout': 0.05}. Best is trial 5 with value: 0.9331366609835237.\u001b[0m\n"
     ]
    },
    {
     "name": "stdout",
     "output_type": "stream",
     "text": [
      "RUN_ID:  0e99e1ce-9f40-11ec-b673-309c23894828\n"
     ]
    },
    {
     "data": {
      "application/vnd.jupyter.widget-view+json": {
       "model_id": "b7e77870369147828b508b98e345afff",
       "version_major": 2,
       "version_minor": 0
      },
      "text/plain": [
       "0epoch [00:00, ?epoch/s]"
      ]
     },
     "metadata": {},
     "output_type": "display_data"
    },
    {
     "data": {
      "application/vnd.jupyter.widget-view+json": {
       "model_id": "0eeb51da11de46d39d567a92fd068df6",
       "version_major": 2,
       "version_minor": 0
      },
      "text/plain": [
       "0batch [00:00, ?batch/s]"
      ]
     },
     "metadata": {},
     "output_type": "display_data"
    },
    {
     "name": "stdout",
     "output_type": "stream",
     "text": [
      "\n",
      "###############################\n",
      " {'nb_epoch': 200, 'batch_size': 64, 'nb_hidden_layers': 3, 'nb_hidden_nodes': 100, 'reg_dropout': 0.1} \n",
      "###############################\n",
      "\n",
      "WARNING:tensorflow:Callback method `on_train_batch_end` is slow compared to the batch time (batch time: 0.0060s vs `on_train_batch_end` time: 0.0223s). Check your callbacks.\n",
      "\n",
      "Epoch 41: ReduceLROnPlateau reducing learning rate to 0.0005000000237487257.\n",
      "\n",
      "Epoch 51: ReduceLROnPlateau reducing learning rate to 0.0002500000118743628.\n",
      "\n",
      "Epoch 61: ReduceLROnPlateau reducing learning rate to 0.0001250000059371814.\n",
      "\n",
      "Epoch 71: ReduceLROnPlateau reducing learning rate to 6.25000029685907e-05.\n",
      "Epoch 71: early stopping\n"
     ]
    },
    {
     "name": "stderr",
     "output_type": "stream",
     "text": [
      "\u001b[32m[I 2022-03-09 08:30:21,840]\u001b[0m Trial 28 finished with value: 0.9328970721592424 and parameters: {'nb_hidden_layers': 3, 'nb_hidden_nodes': 100, 'reg_dropout': 0.1}. Best is trial 5 with value: 0.9331366609835237.\u001b[0m\n"
     ]
    },
    {
     "name": "stdout",
     "output_type": "stream",
     "text": [
      "RUN_ID:  1b9f7acf-9f40-11ec-9912-309c23894828\n"
     ]
    },
    {
     "data": {
      "application/vnd.jupyter.widget-view+json": {
       "model_id": "e6ef37a775ec43a09c75d108eb7e67ad",
       "version_major": 2,
       "version_minor": 0
      },
      "text/plain": [
       "0epoch [00:00, ?epoch/s]"
      ]
     },
     "metadata": {},
     "output_type": "display_data"
    },
    {
     "data": {
      "application/vnd.jupyter.widget-view+json": {
       "model_id": "3955f0635e2f44299e3101fccd377247",
       "version_major": 2,
       "version_minor": 0
      },
      "text/plain": [
       "0batch [00:00, ?batch/s]"
      ]
     },
     "metadata": {},
     "output_type": "display_data"
    },
    {
     "name": "stdout",
     "output_type": "stream",
     "text": [
      "\n",
      "###############################\n",
      " {'nb_epoch': 200, 'batch_size': 64, 'nb_hidden_layers': 2, 'nb_hidden_nodes': 100, 'reg_dropout': 0.3} \n",
      "###############################\n",
      "\n",
      "WARNING:tensorflow:Callback method `on_train_batch_end` is slow compared to the batch time (batch time: 0.0046s vs `on_train_batch_end` time: 0.0133s). Check your callbacks.\n",
      "\n",
      "Epoch 45: ReduceLROnPlateau reducing learning rate to 0.0005000000237487257.\n",
      "\n",
      "Epoch 55: ReduceLROnPlateau reducing learning rate to 0.0002500000118743628.\n",
      "\n",
      "Epoch 65: ReduceLROnPlateau reducing learning rate to 0.0001250000059371814.\n",
      "\n",
      "Epoch 75: ReduceLROnPlateau reducing learning rate to 6.25000029685907e-05.\n",
      "Epoch 79: early stopping\n"
     ]
    },
    {
     "name": "stderr",
     "output_type": "stream",
     "text": [
      "\u001b[32m[I 2022-03-09 08:30:40,575]\u001b[0m Trial 29 finished with value: 0.9323461287336106 and parameters: {'nb_hidden_layers': 2, 'nb_hidden_nodes': 100, 'reg_dropout': 0.3}. Best is trial 5 with value: 0.9331366609835237.\u001b[0m\n"
     ]
    },
    {
     "name": "stdout",
     "output_type": "stream",
     "text": [
      "RUN_ID:  2697aa4b-9f40-11ec-acec-309c23894828\n"
     ]
    },
    {
     "data": {
      "application/vnd.jupyter.widget-view+json": {
       "model_id": "217eeb7b32734b6aa1b864d24b6f8742",
       "version_major": 2,
       "version_minor": 0
      },
      "text/plain": [
       "0epoch [00:00, ?epoch/s]"
      ]
     },
     "metadata": {},
     "output_type": "display_data"
    },
    {
     "data": {
      "application/vnd.jupyter.widget-view+json": {
       "model_id": "a9199321b4d1440b9409f257a8196f34",
       "version_major": 2,
       "version_minor": 0
      },
      "text/plain": [
       "0batch [00:00, ?batch/s]"
      ]
     },
     "metadata": {},
     "output_type": "display_data"
    },
    {
     "name": "stdout",
     "output_type": "stream",
     "text": [
      "\n",
      "###############################\n",
      " {'nb_epoch': 200, 'batch_size': 64, 'nb_hidden_layers': 1, 'nb_hidden_nodes': 100, 'reg_dropout': 0.2} \n",
      "###############################\n",
      "\n",
      "WARNING:tensorflow:Callback method `on_train_batch_end` is slow compared to the batch time (batch time: 0.0020s vs `on_train_batch_end` time: 0.0080s). Check your callbacks.\n",
      "\n",
      "Epoch 67: ReduceLROnPlateau reducing learning rate to 0.0005000000237487257.\n",
      "\n",
      "Epoch 82: ReduceLROnPlateau reducing learning rate to 0.0002500000118743628.\n",
      "\n",
      "Epoch 92: ReduceLROnPlateau reducing learning rate to 0.0001250000059371814.\n",
      "\n",
      "Epoch 102: ReduceLROnPlateau reducing learning rate to 6.25000029685907e-05.\n",
      "Epoch 108: early stopping\n"
     ]
    },
    {
     "name": "stderr",
     "output_type": "stream",
     "text": [
      "\u001b[32m[I 2022-03-09 08:30:55,727]\u001b[0m Trial 30 finished with value: 0.9326803504454062 and parameters: {'nb_hidden_layers': 1, 'nb_hidden_nodes': 100, 'reg_dropout': 0.2}. Best is trial 5 with value: 0.9331366609835237.\u001b[0m\n"
     ]
    },
    {
     "name": "stdout",
     "output_type": "stream",
     "text": [
      "RUN_ID:  2fa190d4-9f40-11ec-947a-309c23894828\n"
     ]
    },
    {
     "data": {
      "application/vnd.jupyter.widget-view+json": {
       "model_id": "6126430ee4a24a9a95cdd042401f4f4d",
       "version_major": 2,
       "version_minor": 0
      },
      "text/plain": [
       "0epoch [00:00, ?epoch/s]"
      ]
     },
     "metadata": {},
     "output_type": "display_data"
    },
    {
     "data": {
      "application/vnd.jupyter.widget-view+json": {
       "model_id": "3cf36524e99142e8bb59d87df04bf26f",
       "version_major": 2,
       "version_minor": 0
      },
      "text/plain": [
       "0batch [00:00, ?batch/s]"
      ]
     },
     "metadata": {},
     "output_type": "display_data"
    },
    {
     "name": "stdout",
     "output_type": "stream",
     "text": [
      "\n",
      "###############################\n",
      " {'nb_epoch': 200, 'batch_size': 64, 'nb_hidden_layers': 1, 'nb_hidden_nodes': 100, 'reg_dropout': 0.3} \n",
      "###############################\n",
      "\n",
      "WARNING:tensorflow:Callback method `on_train_batch_end` is slow compared to the batch time (batch time: 0.0024s vs `on_train_batch_end` time: 0.0080s). Check your callbacks.\n",
      "\n",
      "Epoch 65: ReduceLROnPlateau reducing learning rate to 0.0005000000237487257.\n",
      "\n",
      "Epoch 82: ReduceLROnPlateau reducing learning rate to 0.0002500000118743628.\n",
      "\n",
      "Epoch 92: ReduceLROnPlateau reducing learning rate to 0.0001250000059371814.\n",
      "\n",
      "Epoch 102: ReduceLROnPlateau reducing learning rate to 6.25000029685907e-05.\n",
      "Epoch 111: early stopping\n"
     ]
    },
    {
     "name": "stderr",
     "output_type": "stream",
     "text": [
      "\u001b[32m[I 2022-03-09 08:31:10,918]\u001b[0m Trial 31 finished with value: 0.9322610373839071 and parameters: {'nb_hidden_layers': 1, 'nb_hidden_nodes': 100, 'reg_dropout': 0.3}. Best is trial 5 with value: 0.9331366609835237.\u001b[0m\n"
     ]
    },
    {
     "name": "stdout",
     "output_type": "stream",
     "text": [
      "RUN_ID:  38b472ef-9f40-11ec-8e1a-309c23894828\n"
     ]
    },
    {
     "data": {
      "application/vnd.jupyter.widget-view+json": {
       "model_id": "345e8a3ebd434c4a8132414314083000",
       "version_major": 2,
       "version_minor": 0
      },
      "text/plain": [
       "0epoch [00:00, ?epoch/s]"
      ]
     },
     "metadata": {},
     "output_type": "display_data"
    },
    {
     "data": {
      "application/vnd.jupyter.widget-view+json": {
       "model_id": "fd1377b56abd4f199686bdb4f49c5bc7",
       "version_major": 2,
       "version_minor": 0
      },
      "text/plain": [
       "0batch [00:00, ?batch/s]"
      ]
     },
     "metadata": {},
     "output_type": "display_data"
    },
    {
     "name": "stdout",
     "output_type": "stream",
     "text": [
      "\n",
      "###############################\n",
      " {'nb_epoch': 200, 'batch_size': 64, 'nb_hidden_layers': 1, 'nb_hidden_nodes': 200, 'reg_dropout': 0.05} \n",
      "###############################\n",
      "\n",
      "WARNING:tensorflow:Callback method `on_train_batch_end` is slow compared to the batch time (batch time: 0.0037s vs `on_train_batch_end` time: 0.0078s). Check your callbacks.\n",
      "\n",
      "Epoch 51: ReduceLROnPlateau reducing learning rate to 0.0005000000237487257.\n",
      "\n",
      "Epoch 61: ReduceLROnPlateau reducing learning rate to 0.0002500000118743628.\n",
      "\n",
      "Epoch 71: ReduceLROnPlateau reducing learning rate to 0.0001250000059371814.\n",
      "\n",
      "Epoch 81: ReduceLROnPlateau reducing learning rate to 6.25000029685907e-05.\n",
      "Epoch 81: early stopping\n"
     ]
    },
    {
     "name": "stderr",
     "output_type": "stream",
     "text": [
      "\u001b[32m[I 2022-03-09 08:31:26,611]\u001b[0m Trial 32 finished with value: 0.933007450561302 and parameters: {'nb_hidden_layers': 1, 'nb_hidden_nodes': 200, 'reg_dropout': 0.05}. Best is trial 5 with value: 0.9331366609835237.\u001b[0m\n"
     ]
    },
    {
     "name": "stdout",
     "output_type": "stream",
     "text": [
      "RUN_ID:  420adf99-9f40-11ec-ac6e-309c23894828\n"
     ]
    },
    {
     "data": {
      "application/vnd.jupyter.widget-view+json": {
       "model_id": "56c0beb3d5c548ce8d2f6e28bf7c7d9d",
       "version_major": 2,
       "version_minor": 0
      },
      "text/plain": [
       "0epoch [00:00, ?epoch/s]"
      ]
     },
     "metadata": {},
     "output_type": "display_data"
    },
    {
     "data": {
      "application/vnd.jupyter.widget-view+json": {
       "model_id": "448f22b68b0348d58d100c7372d2ffea",
       "version_major": 2,
       "version_minor": 0
      },
      "text/plain": [
       "0batch [00:00, ?batch/s]"
      ]
     },
     "metadata": {},
     "output_type": "display_data"
    },
    {
     "name": "stdout",
     "output_type": "stream",
     "text": [
      "\n",
      "###############################\n",
      " {'nb_epoch': 200, 'batch_size': 64, 'nb_hidden_layers': 1, 'nb_hidden_nodes': 50, 'reg_dropout': 0} \n",
      "###############################\n",
      "\n",
      "WARNING:tensorflow:Callback method `on_train_batch_end` is slow compared to the batch time (batch time: 0.0016s vs `on_train_batch_end` time: 0.0075s). Check your callbacks.\n",
      "\n",
      "Epoch 84: ReduceLROnPlateau reducing learning rate to 0.0005000000237487257.\n",
      "\n",
      "Epoch 94: ReduceLROnPlateau reducing learning rate to 0.0002500000118743628.\n",
      "\n",
      "Epoch 104: ReduceLROnPlateau reducing learning rate to 0.0001250000059371814.\n",
      "Epoch 112: early stopping\n"
     ]
    },
    {
     "name": "stderr",
     "output_type": "stream",
     "text": [
      "\u001b[32m[I 2022-03-09 08:31:41,094]\u001b[0m Trial 33 finished with value: 0.9327972113493292 and parameters: {'nb_hidden_layers': 1, 'nb_hidden_nodes': 50, 'reg_dropout': 0}. Best is trial 5 with value: 0.9331366609835237.\u001b[0m\n"
     ]
    },
    {
     "name": "stdout",
     "output_type": "stream",
     "text": [
      "RUN_ID:  4aac2fa6-9f40-11ec-beba-309c23894828\n"
     ]
    },
    {
     "data": {
      "application/vnd.jupyter.widget-view+json": {
       "model_id": "c16f6d2c81bd46fb9d72d952c7c0dbb5",
       "version_major": 2,
       "version_minor": 0
      },
      "text/plain": [
       "0epoch [00:00, ?epoch/s]"
      ]
     },
     "metadata": {},
     "output_type": "display_data"
    },
    {
     "data": {
      "application/vnd.jupyter.widget-view+json": {
       "model_id": "45ebeab57d5245acaa7f896d05b9b375",
       "version_major": 2,
       "version_minor": 0
      },
      "text/plain": [
       "0batch [00:00, ?batch/s]"
      ]
     },
     "metadata": {},
     "output_type": "display_data"
    },
    {
     "name": "stdout",
     "output_type": "stream",
     "text": [
      "\n",
      "###############################\n",
      " {'nb_epoch': 200, 'batch_size': 64, 'nb_hidden_layers': 1, 'nb_hidden_nodes': 200, 'reg_dropout': 0} \n",
      "###############################\n",
      "\n",
      "WARNING:tensorflow:Callback method `on_train_batch_end` is slow compared to the batch time (batch time: 0.0038s vs `on_train_batch_end` time: 0.0072s). Check your callbacks.\n",
      "\n",
      "Epoch 57: ReduceLROnPlateau reducing learning rate to 0.0005000000237487257.\n",
      "\n",
      "Epoch 67: ReduceLROnPlateau reducing learning rate to 0.0002500000118743628.\n",
      "\n",
      "Epoch 77: ReduceLROnPlateau reducing learning rate to 0.0001250000059371814.\n",
      "\n",
      "Epoch 87: ReduceLROnPlateau reducing learning rate to 6.25000029685907e-05.\n",
      "Epoch 93: early stopping\n"
     ]
    },
    {
     "name": "stderr",
     "output_type": "stream",
     "text": [
      "\u001b[32m[I 2022-03-09 08:31:58,465]\u001b[0m Trial 34 finished with value: 0.9331522649023606 and parameters: {'nb_hidden_layers': 1, 'nb_hidden_nodes': 200, 'reg_dropout': 0}. Best is trial 34 with value: 0.9331522649023606.\u001b[0m\n"
     ]
    },
    {
     "name": "stdout",
     "output_type": "stream",
     "text": [
      "RUN_ID:  5507cea3-9f40-11ec-aab9-309c23894828\n"
     ]
    },
    {
     "data": {
      "application/vnd.jupyter.widget-view+json": {
       "model_id": "4623f458215c4fab86b830b39f3b9726",
       "version_major": 2,
       "version_minor": 0
      },
      "text/plain": [
       "0epoch [00:00, ?epoch/s]"
      ]
     },
     "metadata": {},
     "output_type": "display_data"
    },
    {
     "data": {
      "application/vnd.jupyter.widget-view+json": {
       "model_id": "a8b49bea40e745639f26df6a74095053",
       "version_major": 2,
       "version_minor": 0
      },
      "text/plain": [
       "0batch [00:00, ?batch/s]"
      ]
     },
     "metadata": {},
     "output_type": "display_data"
    },
    {
     "name": "stdout",
     "output_type": "stream",
     "text": [
      "\n",
      "###############################\n",
      " {'nb_epoch': 200, 'batch_size': 64, 'nb_hidden_layers': 2, 'nb_hidden_nodes': 200, 'reg_dropout': 0.3} \n",
      "###############################\n",
      "\n",
      "WARNING:tensorflow:Callback method `on_train_batch_end` is slow compared to the batch time (batch time: 0.0094s vs `on_train_batch_end` time: 0.0140s). Check your callbacks.\n",
      "\n",
      "Epoch 33: ReduceLROnPlateau reducing learning rate to 0.0005000000237487257.\n",
      "\n",
      "Epoch 43: ReduceLROnPlateau reducing learning rate to 0.0002500000118743628.\n",
      "\n",
      "Epoch 53: ReduceLROnPlateau reducing learning rate to 0.0001250000059371814.\n",
      "Epoch 62: early stopping\n"
     ]
    },
    {
     "name": "stderr",
     "output_type": "stream",
     "text": [
      "\u001b[32m[I 2022-03-09 08:32:21,236]\u001b[0m Trial 35 finished with value: 0.9327596268809869 and parameters: {'nb_hidden_layers': 2, 'nb_hidden_nodes': 200, 'reg_dropout': 0.3}. Best is trial 34 with value: 0.9331522649023606.\u001b[0m\n"
     ]
    },
    {
     "name": "stdout",
     "output_type": "stream",
     "text": [
      "RUN_ID:  629cdef2-9f40-11ec-9985-309c23894828\n"
     ]
    },
    {
     "data": {
      "application/vnd.jupyter.widget-view+json": {
       "model_id": "0d3ac063f582408a97962e69ce25dfcd",
       "version_major": 2,
       "version_minor": 0
      },
      "text/plain": [
       "0epoch [00:00, ?epoch/s]"
      ]
     },
     "metadata": {},
     "output_type": "display_data"
    },
    {
     "data": {
      "application/vnd.jupyter.widget-view+json": {
       "model_id": "3f8fe293e97a47548065e6f1603ce2ff",
       "version_major": 2,
       "version_minor": 0
      },
      "text/plain": [
       "0batch [00:00, ?batch/s]"
      ]
     },
     "metadata": {},
     "output_type": "display_data"
    },
    {
     "name": "stdout",
     "output_type": "stream",
     "text": [
      "\n",
      "###############################\n",
      " {'nb_epoch': 200, 'batch_size': 64, 'nb_hidden_layers': 2, 'nb_hidden_nodes': 10, 'reg_dropout': 0} \n",
      "###############################\n",
      "\n",
      "WARNING:tensorflow:Callback method `on_train_batch_end` is slow compared to the batch time (batch time: 0.0030s vs `on_train_batch_end` time: 0.0138s). Check your callbacks.\n",
      "\n",
      "Epoch 90: ReduceLROnPlateau reducing learning rate to 0.0005000000237487257.\n",
      "\n",
      "Epoch 100: ReduceLROnPlateau reducing learning rate to 0.0002500000118743628.\n",
      "\n",
      "Epoch 110: ReduceLROnPlateau reducing learning rate to 0.0001250000059371814.\n",
      "\n",
      "Epoch 120: ReduceLROnPlateau reducing learning rate to 6.25000029685907e-05.\n",
      "Epoch 128: early stopping\n"
     ]
    },
    {
     "name": "stderr",
     "output_type": "stream",
     "text": [
      "\u001b[32m[I 2022-03-09 08:32:40,731]\u001b[0m Trial 36 finished with value: 0.9317280922569078 and parameters: {'nb_hidden_layers': 2, 'nb_hidden_nodes': 10, 'reg_dropout': 0}. Best is trial 34 with value: 0.9331522649023606.\u001b[0m\n"
     ]
    },
    {
     "name": "stdout",
     "output_type": "stream",
     "text": [
      "RUN_ID:  6e4456d9-9f40-11ec-b106-309c23894828\n"
     ]
    },
    {
     "data": {
      "application/vnd.jupyter.widget-view+json": {
       "model_id": "8bead64d7edc46189479accab5d43430",
       "version_major": 2,
       "version_minor": 0
      },
      "text/plain": [
       "0epoch [00:00, ?epoch/s]"
      ]
     },
     "metadata": {},
     "output_type": "display_data"
    },
    {
     "data": {
      "application/vnd.jupyter.widget-view+json": {
       "model_id": "a5705cd407e548aa9fbfa460e3141463",
       "version_major": 2,
       "version_minor": 0
      },
      "text/plain": [
       "0batch [00:00, ?batch/s]"
      ]
     },
     "metadata": {},
     "output_type": "display_data"
    },
    {
     "name": "stdout",
     "output_type": "stream",
     "text": [
      "\n",
      "###############################\n",
      " {'nb_epoch': 200, 'batch_size': 64, 'nb_hidden_layers': 3, 'nb_hidden_nodes': 200, 'reg_dropout': 0.2} \n",
      "###############################\n",
      "\n",
      "WARNING:tensorflow:Callback method `on_train_batch_end` is slow compared to the batch time (batch time: 0.0106s vs `on_train_batch_end` time: 0.0216s). Check your callbacks.\n",
      "\n",
      "Epoch 34: ReduceLROnPlateau reducing learning rate to 0.0005000000237487257.\n",
      "\n",
      "Epoch 44: ReduceLROnPlateau reducing learning rate to 0.0002500000118743628.\n",
      "\n",
      "Epoch 54: ReduceLROnPlateau reducing learning rate to 0.0001250000059371814.\n",
      "\n",
      "Epoch 64: ReduceLROnPlateau reducing learning rate to 6.25000029685907e-05.\n",
      "\n",
      "Epoch 74: ReduceLROnPlateau reducing learning rate to 3.125000148429535e-05.\n",
      "\n",
      "Epoch 84: ReduceLROnPlateau reducing learning rate to 1.5625000742147677e-05.\n",
      "Epoch 93: early stopping\n"
     ]
    },
    {
     "name": "stderr",
     "output_type": "stream",
     "text": [
      "\u001b[32m[I 2022-03-09 08:33:24,029]\u001b[0m Trial 37 finished with value: 0.9331617710045808 and parameters: {'nb_hidden_layers': 3, 'nb_hidden_nodes': 200, 'reg_dropout': 0.2}. Best is trial 37 with value: 0.9331617710045808.\u001b[0m\n"
     ]
    },
    {
     "name": "stdout",
     "output_type": "stream",
     "text": [
      "RUN_ID:  88172f35-9f40-11ec-b3f8-309c23894828\n"
     ]
    },
    {
     "data": {
      "application/vnd.jupyter.widget-view+json": {
       "model_id": "7cba4e93eb02408e8a0e980ffa08528a",
       "version_major": 2,
       "version_minor": 0
      },
      "text/plain": [
       "0epoch [00:00, ?epoch/s]"
      ]
     },
     "metadata": {},
     "output_type": "display_data"
    },
    {
     "data": {
      "application/vnd.jupyter.widget-view+json": {
       "model_id": "d1feca79667f43deab40735d584daf18",
       "version_major": 2,
       "version_minor": 0
      },
      "text/plain": [
       "0batch [00:00, ?batch/s]"
      ]
     },
     "metadata": {},
     "output_type": "display_data"
    },
    {
     "name": "stdout",
     "output_type": "stream",
     "text": [
      "\n",
      "###############################\n",
      " {'nb_epoch': 200, 'batch_size': 64, 'nb_hidden_layers': 2, 'nb_hidden_nodes': 50, 'reg_dropout': 0.3} \n",
      "###############################\n",
      "\n",
      "WARNING:tensorflow:Callback method `on_train_batch_end` is slow compared to the batch time (batch time: 0.0034s vs `on_train_batch_end` time: 0.0130s). Check your callbacks.\n",
      "\n",
      "Epoch 19: ReduceLROnPlateau reducing learning rate to 0.0005000000237487257.\n",
      "\n",
      "Epoch 29: ReduceLROnPlateau reducing learning rate to 0.0002500000118743628.\n",
      "\n",
      "Epoch 43: ReduceLROnPlateau reducing learning rate to 0.0001250000059371814.\n",
      "\n",
      "Epoch 62: ReduceLROnPlateau reducing learning rate to 6.25000029685907e-05.\n",
      "\n",
      "Epoch 72: ReduceLROnPlateau reducing learning rate to 3.125000148429535e-05.\n",
      "\n",
      "Epoch 82: ReduceLROnPlateau reducing learning rate to 1.5625000742147677e-05.\n",
      "Epoch 82: early stopping\n"
     ]
    },
    {
     "name": "stderr",
     "output_type": "stream",
     "text": [
      "\u001b[32m[I 2022-03-09 08:33:39,541]\u001b[0m Trial 38 finished with value: 0.9233797420878992 and parameters: {'nb_hidden_layers': 2, 'nb_hidden_nodes': 50, 'reg_dropout': 0.3}. Best is trial 37 with value: 0.9331617710045808.\u001b[0m\n"
     ]
    },
    {
     "name": "stdout",
     "output_type": "stream",
     "text": [
      "RUN_ID:  914fd59f-9f40-11ec-8260-309c23894828\n"
     ]
    },
    {
     "data": {
      "application/vnd.jupyter.widget-view+json": {
       "model_id": "9c676dabed454cd39d8b7c8ea89a3027",
       "version_major": 2,
       "version_minor": 0
      },
      "text/plain": [
       "0epoch [00:00, ?epoch/s]"
      ]
     },
     "metadata": {},
     "output_type": "display_data"
    },
    {
     "data": {
      "application/vnd.jupyter.widget-view+json": {
       "model_id": "dd7f9fab2495409384857724c2eab4d6",
       "version_major": 2,
       "version_minor": 0
      },
      "text/plain": [
       "0batch [00:00, ?batch/s]"
      ]
     },
     "metadata": {},
     "output_type": "display_data"
    },
    {
     "name": "stdout",
     "output_type": "stream",
     "text": [
      "\n",
      "###############################\n",
      " {'nb_epoch': 200, 'batch_size': 64, 'nb_hidden_layers': 2, 'nb_hidden_nodes': 50, 'reg_dropout': 0.05} \n",
      "###############################\n",
      "\n",
      "WARNING:tensorflow:Callback method `on_train_batch_end` is slow compared to the batch time (batch time: 0.0036s vs `on_train_batch_end` time: 0.0136s). Check your callbacks.\n",
      "\n",
      "Epoch 52: ReduceLROnPlateau reducing learning rate to 0.0005000000237487257.\n",
      "\n",
      "Epoch 62: ReduceLROnPlateau reducing learning rate to 0.0002500000118743628.\n",
      "\n",
      "Epoch 72: ReduceLROnPlateau reducing learning rate to 0.0001250000059371814.\n",
      "\n",
      "Epoch 82: ReduceLROnPlateau reducing learning rate to 6.25000029685907e-05.\n",
      "Epoch 84: early stopping\n"
     ]
    },
    {
     "name": "stderr",
     "output_type": "stream",
     "text": [
      "\u001b[32m[I 2022-03-09 08:33:55,318]\u001b[0m Trial 39 finished with value: 0.9325254667968782 and parameters: {'nb_hidden_layers': 2, 'nb_hidden_nodes': 50, 'reg_dropout': 0.05}. Best is trial 37 with value: 0.9331617710045808.\u001b[0m\n"
     ]
    },
    {
     "name": "stdout",
     "output_type": "stream",
     "text": [
      "RUN_ID:  9abc1b04-9f40-11ec-b231-309c23894828\n"
     ]
    },
    {
     "data": {
      "application/vnd.jupyter.widget-view+json": {
       "model_id": "54b4d76166984e4d8e03d16c34c995ee",
       "version_major": 2,
       "version_minor": 0
      },
      "text/plain": [
       "0epoch [00:00, ?epoch/s]"
      ]
     },
     "metadata": {},
     "output_type": "display_data"
    },
    {
     "data": {
      "application/vnd.jupyter.widget-view+json": {
       "model_id": "b93ed9661f84461bae450f4d5e28f8f8",
       "version_major": 2,
       "version_minor": 0
      },
      "text/plain": [
       "0batch [00:00, ?batch/s]"
      ]
     },
     "metadata": {},
     "output_type": "display_data"
    },
    {
     "name": "stdout",
     "output_type": "stream",
     "text": [
      "\n",
      "###############################\n",
      " {'nb_epoch': 200, 'batch_size': 64, 'nb_hidden_layers': 3, 'nb_hidden_nodes': 10, 'reg_dropout': 0.1} \n",
      "###############################\n",
      "\n",
      "WARNING:tensorflow:Callback method `on_train_batch_end` is slow compared to the batch time (batch time: 0.0039s vs `on_train_batch_end` time: 0.0203s). Check your callbacks.\n",
      "\n",
      "Epoch 107: ReduceLROnPlateau reducing learning rate to 0.0005000000237487257.\n",
      "\n",
      "Epoch 117: ReduceLROnPlateau reducing learning rate to 0.0002500000118743628.\n",
      "\n",
      "Epoch 127: ReduceLROnPlateau reducing learning rate to 0.0001250000059371814.\n",
      "\n",
      "Epoch 137: ReduceLROnPlateau reducing learning rate to 6.25000029685907e-05.\n",
      "\n",
      "Epoch 147: ReduceLROnPlateau reducing learning rate to 3.125000148429535e-05.\n",
      "Epoch 147: early stopping\n"
     ]
    },
    {
     "name": "stderr",
     "output_type": "stream",
     "text": [
      "\u001b[32m[I 2022-03-09 08:34:22,701]\u001b[0m Trial 40 finished with value: 0.9296928252680413 and parameters: {'nb_hidden_layers': 3, 'nb_hidden_nodes': 10, 'reg_dropout': 0.1}. Best is trial 37 with value: 0.9331617710045808.\u001b[0m\n"
     ]
    },
    {
     "name": "stdout",
     "output_type": "stream",
     "text": [
      "RUN_ID:  ab26e5dd-9f40-11ec-939f-309c23894828\n"
     ]
    },
    {
     "data": {
      "application/vnd.jupyter.widget-view+json": {
       "model_id": "accd40f16c0845eba00af1edfcfc2134",
       "version_major": 2,
       "version_minor": 0
      },
      "text/plain": [
       "0epoch [00:00, ?epoch/s]"
      ]
     },
     "metadata": {},
     "output_type": "display_data"
    },
    {
     "data": {
      "application/vnd.jupyter.widget-view+json": {
       "model_id": "665950818e264f3789226f314a2178ce",
       "version_major": 2,
       "version_minor": 0
      },
      "text/plain": [
       "0batch [00:00, ?batch/s]"
      ]
     },
     "metadata": {},
     "output_type": "display_data"
    },
    {
     "name": "stdout",
     "output_type": "stream",
     "text": [
      "\n",
      "###############################\n",
      " {'nb_epoch': 200, 'batch_size': 64, 'nb_hidden_layers': 3, 'nb_hidden_nodes': 100, 'reg_dropout': 0} \n",
      "###############################\n",
      "\n",
      "WARNING:tensorflow:Callback method `on_train_batch_end` is slow compared to the batch time (batch time: 0.0061s vs `on_train_batch_end` time: 0.0187s). Check your callbacks.\n",
      "\n",
      "Epoch 31: ReduceLROnPlateau reducing learning rate to 0.0005000000237487257.\n",
      "\n",
      "Epoch 41: ReduceLROnPlateau reducing learning rate to 0.0002500000118743628.\n",
      "\n",
      "Epoch 51: ReduceLROnPlateau reducing learning rate to 0.0001250000059371814.\n",
      "\n",
      "Epoch 61: ReduceLROnPlateau reducing learning rate to 6.25000029685907e-05.\n",
      "Epoch 65: early stopping\n"
     ]
    },
    {
     "name": "stderr",
     "output_type": "stream",
     "text": [
      "\u001b[32m[I 2022-03-09 08:34:43,763]\u001b[0m Trial 41 finished with value: 0.9328292201415632 and parameters: {'nb_hidden_layers': 3, 'nb_hidden_nodes': 100, 'reg_dropout': 0}. Best is trial 37 with value: 0.9331617710045808.\u001b[0m\n"
     ]
    },
    {
     "name": "stdout",
     "output_type": "stream",
     "text": [
      "RUN_ID:  b79a2cc0-9f40-11ec-be74-309c23894828\n"
     ]
    },
    {
     "data": {
      "application/vnd.jupyter.widget-view+json": {
       "model_id": "e7f818d3c67947a68ffe38c46e116464",
       "version_major": 2,
       "version_minor": 0
      },
      "text/plain": [
       "0epoch [00:00, ?epoch/s]"
      ]
     },
     "metadata": {},
     "output_type": "display_data"
    },
    {
     "data": {
      "application/vnd.jupyter.widget-view+json": {
       "model_id": "4788c141483d4c9dbab6ccbe4320fe62",
       "version_major": 2,
       "version_minor": 0
      },
      "text/plain": [
       "0batch [00:00, ?batch/s]"
      ]
     },
     "metadata": {},
     "output_type": "display_data"
    },
    {
     "name": "stdout",
     "output_type": "stream",
     "text": [
      "\n",
      "###############################\n",
      " {'nb_epoch': 200, 'batch_size': 64, 'nb_hidden_layers': 1, 'nb_hidden_nodes': 100, 'reg_dropout': 0} \n",
      "###############################\n",
      "\n",
      "WARNING:tensorflow:Callback method `on_train_batch_end` is slow compared to the batch time (batch time: 0.0020s vs `on_train_batch_end` time: 0.0075s). Check your callbacks.\n",
      "\n",
      "Epoch 50: ReduceLROnPlateau reducing learning rate to 0.0005000000237487257.\n",
      "\n",
      "Epoch 63: ReduceLROnPlateau reducing learning rate to 0.0002500000118743628.\n",
      "\n",
      "Epoch 73: ReduceLROnPlateau reducing learning rate to 0.0001250000059371814.\n",
      "\n",
      "Epoch 83: ReduceLROnPlateau reducing learning rate to 6.25000029685907e-05.\n",
      "Epoch 90: early stopping\n"
     ]
    },
    {
     "name": "stderr",
     "output_type": "stream",
     "text": [
      "\u001b[32m[I 2022-03-09 08:34:57,099]\u001b[0m Trial 42 finished with value: 0.9324845605938594 and parameters: {'nb_hidden_layers': 1, 'nb_hidden_nodes': 100, 'reg_dropout': 0}. Best is trial 37 with value: 0.9331617710045808.\u001b[0m\n"
     ]
    },
    {
     "name": "stdout",
     "output_type": "stream",
     "text": [
      "RUN_ID:  bfa2d5c3-9f40-11ec-a605-309c23894828\n"
     ]
    },
    {
     "data": {
      "application/vnd.jupyter.widget-view+json": {
       "model_id": "26a89745c2ef4b529693401cad098cc0",
       "version_major": 2,
       "version_minor": 0
      },
      "text/plain": [
       "0epoch [00:00, ?epoch/s]"
      ]
     },
     "metadata": {},
     "output_type": "display_data"
    },
    {
     "data": {
      "application/vnd.jupyter.widget-view+json": {
       "model_id": "3d7ea58195244d75ab76717b04d4a7cc",
       "version_major": 2,
       "version_minor": 0
      },
      "text/plain": [
       "0batch [00:00, ?batch/s]"
      ]
     },
     "metadata": {},
     "output_type": "display_data"
    },
    {
     "name": "stdout",
     "output_type": "stream",
     "text": [
      "\n",
      "###############################\n",
      " {'nb_epoch': 200, 'batch_size': 64, 'nb_hidden_layers': 1, 'nb_hidden_nodes': 200, 'reg_dropout': 0.2} \n",
      "###############################\n",
      "\n",
      "WARNING:tensorflow:Callback method `on_train_batch_end` is slow compared to the batch time (batch time: 0.0040s vs `on_train_batch_end` time: 0.0083s). Check your callbacks.\n",
      "\n",
      "Epoch 60: ReduceLROnPlateau reducing learning rate to 0.0005000000237487257.\n",
      "\n",
      "Epoch 70: ReduceLROnPlateau reducing learning rate to 0.0002500000118743628.\n",
      "\n",
      "Epoch 80: ReduceLROnPlateau reducing learning rate to 0.0001250000059371814.\n",
      "\n",
      "Epoch 90: ReduceLROnPlateau reducing learning rate to 6.25000029685907e-05.\n",
      "\n",
      "Epoch 100: ReduceLROnPlateau reducing learning rate to 3.125000148429535e-05.\n",
      "Epoch 100: early stopping\n"
     ]
    },
    {
     "name": "stderr",
     "output_type": "stream",
     "text": [
      "\u001b[32m[I 2022-03-09 08:35:16,305]\u001b[0m Trial 43 finished with value: 0.9330091047833561 and parameters: {'nb_hidden_layers': 1, 'nb_hidden_nodes': 200, 'reg_dropout': 0.2}. Best is trial 37 with value: 0.9331617710045808.\u001b[0m\n"
     ]
    },
    {
     "name": "stdout",
     "output_type": "stream",
     "text": [
      "RUN_ID:  caffa4e3-9f40-11ec-aaf8-309c23894828\n"
     ]
    },
    {
     "data": {
      "application/vnd.jupyter.widget-view+json": {
       "model_id": "c8a46689332b42b7bae7d244cd9e33fd",
       "version_major": 2,
       "version_minor": 0
      },
      "text/plain": [
       "0epoch [00:00, ?epoch/s]"
      ]
     },
     "metadata": {},
     "output_type": "display_data"
    },
    {
     "data": {
      "application/vnd.jupyter.widget-view+json": {
       "model_id": "6d095137a6c846f7911bb909aa1df57c",
       "version_major": 2,
       "version_minor": 0
      },
      "text/plain": [
       "0batch [00:00, ?batch/s]"
      ]
     },
     "metadata": {},
     "output_type": "display_data"
    },
    {
     "name": "stdout",
     "output_type": "stream",
     "text": [
      "\n",
      "###############################\n",
      " {'nb_epoch': 200, 'batch_size': 64, 'nb_hidden_layers': 1, 'nb_hidden_nodes': 50, 'reg_dropout': 0.2} \n",
      "###############################\n",
      "\n",
      "WARNING:tensorflow:Callback method `on_train_batch_end` is slow compared to the batch time (batch time: 0.0014s vs `on_train_batch_end` time: 0.0072s). Check your callbacks.\n",
      "\n",
      "Epoch 63: ReduceLROnPlateau reducing learning rate to 0.0005000000237487257.\n",
      "\n",
      "Epoch 89: ReduceLROnPlateau reducing learning rate to 0.0002500000118743628.\n",
      "\n",
      "Epoch 99: ReduceLROnPlateau reducing learning rate to 0.0001250000059371814.\n",
      "\n",
      "Epoch 109: ReduceLROnPlateau reducing learning rate to 6.25000029685907e-05.\n",
      "\n",
      "Epoch 119: ReduceLROnPlateau reducing learning rate to 3.125000148429535e-05.\n",
      "\n",
      "Epoch 129: ReduceLROnPlateau reducing learning rate to 1.5625000742147677e-05.\n",
      "Epoch 130: early stopping\n"
     ]
    },
    {
     "name": "stderr",
     "output_type": "stream",
     "text": [
      "\u001b[32m[I 2022-03-09 08:35:31,948]\u001b[0m Trial 44 finished with value: 0.9313651455527031 and parameters: {'nb_hidden_layers': 1, 'nb_hidden_nodes': 50, 'reg_dropout': 0.2}. Best is trial 37 with value: 0.9331617710045808.\u001b[0m\n"
     ]
    },
    {
     "name": "stdout",
     "output_type": "stream",
     "text": [
      "RUN_ID:  d45b2f0a-9f40-11ec-a6a2-309c23894828\n"
     ]
    },
    {
     "data": {
      "application/vnd.jupyter.widget-view+json": {
       "model_id": "782e1789322c4aef81dfa73d5d1d3b97",
       "version_major": 2,
       "version_minor": 0
      },
      "text/plain": [
       "0epoch [00:00, ?epoch/s]"
      ]
     },
     "metadata": {},
     "output_type": "display_data"
    },
    {
     "data": {
      "application/vnd.jupyter.widget-view+json": {
       "model_id": "7acf1a6d2612469783b3b34539c459d5",
       "version_major": 2,
       "version_minor": 0
      },
      "text/plain": [
       "0batch [00:00, ?batch/s]"
      ]
     },
     "metadata": {},
     "output_type": "display_data"
    },
    {
     "name": "stdout",
     "output_type": "stream",
     "text": [
      "\n",
      "###############################\n",
      " {'nb_epoch': 200, 'batch_size': 64, 'nb_hidden_layers': 1, 'nb_hidden_nodes': 100, 'reg_dropout': 0.1} \n",
      "###############################\n",
      "\n",
      "WARNING:tensorflow:Callback method `on_train_batch_end` is slow compared to the batch time (batch time: 0.0032s vs `on_train_batch_end` time: 0.0077s). Check your callbacks.\n",
      "\n",
      "Epoch 59: ReduceLROnPlateau reducing learning rate to 0.0005000000237487257.\n",
      "\n",
      "Epoch 75: ReduceLROnPlateau reducing learning rate to 0.0002500000118743628.\n",
      "\n",
      "Epoch 85: ReduceLROnPlateau reducing learning rate to 0.0001250000059371814.\n",
      "\n",
      "Epoch 95: ReduceLROnPlateau reducing learning rate to 6.25000029685907e-05.\n",
      "\n",
      "Epoch 105: ReduceLROnPlateau reducing learning rate to 3.125000148429535e-05.\n",
      "\n",
      "Epoch 115: ReduceLROnPlateau reducing learning rate to 1.5625000742147677e-05.\n",
      "\n",
      "Epoch 125: ReduceLROnPlateau reducing learning rate to 7.812500371073838e-06.\n",
      "Epoch 131: early stopping\n"
     ]
    },
    {
     "name": "stderr",
     "output_type": "stream",
     "text": [
      "\u001b[32m[I 2022-03-09 08:35:50,772]\u001b[0m Trial 45 finished with value: 0.9325938119569064 and parameters: {'nb_hidden_layers': 1, 'nb_hidden_nodes': 100, 'reg_dropout': 0.1}. Best is trial 37 with value: 0.9331617710045808.\u001b[0m\n"
     ]
    },
    {
     "name": "stdout",
     "output_type": "stream",
     "text": [
      "RUN_ID:  df90cbc2-9f40-11ec-9b5e-309c23894828\n"
     ]
    },
    {
     "data": {
      "application/vnd.jupyter.widget-view+json": {
       "model_id": "de1bbbcdc3de43c39aee27ad38479123",
       "version_major": 2,
       "version_minor": 0
      },
      "text/plain": [
       "0epoch [00:00, ?epoch/s]"
      ]
     },
     "metadata": {},
     "output_type": "display_data"
    },
    {
     "data": {
      "application/vnd.jupyter.widget-view+json": {
       "model_id": "ed898d314a2c4e81bd1d8fe3fe26ff13",
       "version_major": 2,
       "version_minor": 0
      },
      "text/plain": [
       "0batch [00:00, ?batch/s]"
      ]
     },
     "metadata": {},
     "output_type": "display_data"
    },
    {
     "name": "stdout",
     "output_type": "stream",
     "text": [
      "\n",
      "###############################\n",
      " {'nb_epoch': 200, 'batch_size': 64, 'nb_hidden_layers': 2, 'nb_hidden_nodes': 100, 'reg_dropout': 0.1} \n",
      "###############################\n",
      "\n",
      "WARNING:tensorflow:Callback method `on_train_batch_end` is slow compared to the batch time (batch time: 0.0046s vs `on_train_batch_end` time: 0.0132s). Check your callbacks.\n",
      "\n",
      "Epoch 40: ReduceLROnPlateau reducing learning rate to 0.0005000000237487257.\n",
      "\n",
      "Epoch 50: ReduceLROnPlateau reducing learning rate to 0.0002500000118743628.\n",
      "\n",
      "Epoch 60: ReduceLROnPlateau reducing learning rate to 0.0001250000059371814.\n",
      "\n",
      "Epoch 70: ReduceLROnPlateau reducing learning rate to 6.25000029685907e-05.\n",
      "\n",
      "Epoch 80: ReduceLROnPlateau reducing learning rate to 3.125000148429535e-05.\n",
      "Epoch 80: early stopping\n"
     ]
    },
    {
     "name": "stderr",
     "output_type": "stream",
     "text": [
      "\u001b[32m[I 2022-03-09 08:36:10,177]\u001b[0m Trial 46 finished with value: 0.9329511326150676 and parameters: {'nb_hidden_layers': 2, 'nb_hidden_nodes': 100, 'reg_dropout': 0.1}. Best is trial 37 with value: 0.9331617710045808.\u001b[0m\n"
     ]
    },
    {
     "name": "stdout",
     "output_type": "stream",
     "text": [
      "RUN_ID:  eb3af2c9-9f40-11ec-9c81-309c23894828\n"
     ]
    },
    {
     "data": {
      "application/vnd.jupyter.widget-view+json": {
       "model_id": "9af907961cc048f8a72972921460075c",
       "version_major": 2,
       "version_minor": 0
      },
      "text/plain": [
       "0epoch [00:00, ?epoch/s]"
      ]
     },
     "metadata": {},
     "output_type": "display_data"
    },
    {
     "data": {
      "application/vnd.jupyter.widget-view+json": {
       "model_id": "f2704bb07a8b46dca6aef0a9f511201e",
       "version_major": 2,
       "version_minor": 0
      },
      "text/plain": [
       "0batch [00:00, ?batch/s]"
      ]
     },
     "metadata": {},
     "output_type": "display_data"
    },
    {
     "name": "stdout",
     "output_type": "stream",
     "text": [
      "\n",
      "###############################\n",
      " {'nb_epoch': 200, 'batch_size': 64, 'nb_hidden_layers': 2, 'nb_hidden_nodes': 10, 'reg_dropout': 0.05} \n",
      "###############################\n",
      "\n",
      "WARNING:tensorflow:Callback method `on_train_batch_end` is slow compared to the batch time (batch time: 0.0026s vs `on_train_batch_end` time: 0.0136s). Check your callbacks.\n",
      "\n",
      "Epoch 80: ReduceLROnPlateau reducing learning rate to 0.0005000000237487257.\n",
      "\n",
      "Epoch 90: ReduceLROnPlateau reducing learning rate to 0.0002500000118743628.\n",
      "\n",
      "Epoch 100: ReduceLROnPlateau reducing learning rate to 0.0001250000059371814.\n",
      "\n",
      "Epoch 110: ReduceLROnPlateau reducing learning rate to 6.25000029685907e-05.\n",
      "\n",
      "Epoch 120: ReduceLROnPlateau reducing learning rate to 3.125000148429535e-05.\n",
      "\n",
      "Epoch 131: ReduceLROnPlateau reducing learning rate to 1.5625000742147677e-05.\n",
      "\n",
      "Epoch 141: ReduceLROnPlateau reducing learning rate to 7.812500371073838e-06.\n",
      "\n",
      "Epoch 151: ReduceLROnPlateau reducing learning rate to 3.906250185536919e-06.\n",
      "Epoch 151: early stopping\n"
     ]
    },
    {
     "name": "stderr",
     "output_type": "stream",
     "text": [
      "\u001b[32m[I 2022-03-09 08:36:31,992]\u001b[0m Trial 47 finished with value: 0.9284468422628229 and parameters: {'nb_hidden_layers': 2, 'nb_hidden_nodes': 10, 'reg_dropout': 0.05}. Best is trial 37 with value: 0.9331617710045808.\u001b[0m\n"
     ]
    },
    {
     "name": "stdout",
     "output_type": "stream",
     "text": [
      "RUN_ID:  f8292351-9f40-11ec-b4e0-309c23894828\n"
     ]
    },
    {
     "data": {
      "application/vnd.jupyter.widget-view+json": {
       "model_id": "9942820573ea4fe3a8fb392984171541",
       "version_major": 2,
       "version_minor": 0
      },
      "text/plain": [
       "0epoch [00:00, ?epoch/s]"
      ]
     },
     "metadata": {},
     "output_type": "display_data"
    },
    {
     "data": {
      "application/vnd.jupyter.widget-view+json": {
       "model_id": "73812b8fb08e4cbfac03f68f3f456bb3",
       "version_major": 2,
       "version_minor": 0
      },
      "text/plain": [
       "0batch [00:00, ?batch/s]"
      ]
     },
     "metadata": {},
     "output_type": "display_data"
    },
    {
     "name": "stdout",
     "output_type": "stream",
     "text": [
      "\n",
      "###############################\n",
      " {'nb_epoch': 200, 'batch_size': 64, 'nb_hidden_layers': 3, 'nb_hidden_nodes': 200, 'reg_dropout': 0.3} \n",
      "###############################\n",
      "\n",
      "WARNING:tensorflow:Callback method `on_train_batch_end` is slow compared to the batch time (batch time: 0.0124s vs `on_train_batch_end` time: 0.0191s). Check your callbacks.\n",
      "\n",
      "Epoch 34: ReduceLROnPlateau reducing learning rate to 0.0005000000237487257.\n",
      "\n",
      "Epoch 48: ReduceLROnPlateau reducing learning rate to 0.0002500000118743628.\n",
      "\n",
      "Epoch 58: ReduceLROnPlateau reducing learning rate to 0.0001250000059371814.\n",
      "\n",
      "Epoch 68: ReduceLROnPlateau reducing learning rate to 6.25000029685907e-05.\n",
      "Epoch 68: early stopping\n"
     ]
    },
    {
     "name": "stderr",
     "output_type": "stream",
     "text": [
      "\u001b[32m[I 2022-03-09 08:37:06,996]\u001b[0m Trial 48 finished with value: 0.9313973086174269 and parameters: {'nb_hidden_layers': 3, 'nb_hidden_nodes': 200, 'reg_dropout': 0.3}. Best is trial 37 with value: 0.9331617710045808.\u001b[0m\n"
     ]
    },
    {
     "name": "stdout",
     "output_type": "stream",
     "text": [
      "RUN_ID:  0d025bb1-9f41-11ec-a545-309c23894828\n"
     ]
    },
    {
     "data": {
      "application/vnd.jupyter.widget-view+json": {
       "model_id": "2660489c69434b918348359c3203bf7e",
       "version_major": 2,
       "version_minor": 0
      },
      "text/plain": [
       "0epoch [00:00, ?epoch/s]"
      ]
     },
     "metadata": {},
     "output_type": "display_data"
    },
    {
     "data": {
      "application/vnd.jupyter.widget-view+json": {
       "model_id": "4e37b9345e674a3c9d33dc7cf7abfa47",
       "version_major": 2,
       "version_minor": 0
      },
      "text/plain": [
       "0batch [00:00, ?batch/s]"
      ]
     },
     "metadata": {},
     "output_type": "display_data"
    },
    {
     "name": "stdout",
     "output_type": "stream",
     "text": [
      "\n",
      "###############################\n",
      " {'nb_epoch': 200, 'batch_size': 64, 'nb_hidden_layers': 2, 'nb_hidden_nodes': 200, 'reg_dropout': 0.05} \n",
      "###############################\n",
      "\n",
      "WARNING:tensorflow:Callback method `on_train_batch_end` is slow compared to the batch time (batch time: 0.0080s vs `on_train_batch_end` time: 0.0140s). Check your callbacks.\n",
      "\n",
      "Epoch 31: ReduceLROnPlateau reducing learning rate to 0.0005000000237487257.\n",
      "\n",
      "Epoch 41: ReduceLROnPlateau reducing learning rate to 0.0002500000118743628.\n",
      "\n",
      "Epoch 51: ReduceLROnPlateau reducing learning rate to 0.0001250000059371814.\n",
      "Epoch 56: early stopping\n"
     ]
    },
    {
     "name": "stderr",
     "output_type": "stream",
     "text": [
      "\u001b[32m[I 2022-03-09 08:37:28,457]\u001b[0m Trial 49 finished with value: 0.9331739337894005 and parameters: {'nb_hidden_layers': 2, 'nb_hidden_nodes': 200, 'reg_dropout': 0.05}. Best is trial 49 with value: 0.9331739337894005.\u001b[0m\n"
     ]
    },
    {
     "name": "stdout",
     "output_type": "stream",
     "text": [
      "RUN_ID:  19d06f29-9f41-11ec-b189-309c23894828\n"
     ]
    },
    {
     "data": {
      "application/vnd.jupyter.widget-view+json": {
       "model_id": "99ba41e5631f4bfbba1441ec96808846",
       "version_major": 2,
       "version_minor": 0
      },
      "text/plain": [
       "0epoch [00:00, ?epoch/s]"
      ]
     },
     "metadata": {},
     "output_type": "display_data"
    },
    {
     "data": {
      "application/vnd.jupyter.widget-view+json": {
       "model_id": "b412d37b63e24c82861da07fd58b8875",
       "version_major": 2,
       "version_minor": 0
      },
      "text/plain": [
       "0batch [00:00, ?batch/s]"
      ]
     },
     "metadata": {},
     "output_type": "display_data"
    },
    {
     "name": "stdout",
     "output_type": "stream",
     "text": [
      "\n",
      "###############################\n",
      " {'nb_epoch': 200, 'batch_size': 64, 'nb_hidden_layers': 1, 'nb_hidden_nodes': 10, 'reg_dropout': 0.05} \n",
      "###############################\n",
      "\n",
      "WARNING:tensorflow:Callback method `on_train_batch_end` is slow compared to the batch time (batch time: 0.0014s vs `on_train_batch_end` time: 0.0077s). Check your callbacks.\n",
      "\n",
      "Epoch 126: ReduceLROnPlateau reducing learning rate to 0.0005000000237487257.\n",
      "\n",
      "Epoch 152: ReduceLROnPlateau reducing learning rate to 0.0002500000118743628.\n",
      "\n",
      "Epoch 162: ReduceLROnPlateau reducing learning rate to 0.0001250000059371814.\n",
      "\n",
      "Epoch 172: ReduceLROnPlateau reducing learning rate to 6.25000029685907e-05.\n",
      "Epoch 172: early stopping\n"
     ]
    },
    {
     "name": "stderr",
     "output_type": "stream",
     "text": [
      "\u001b[32m[I 2022-03-09 08:37:47,400]\u001b[0m Trial 50 finished with value: 0.9317581737955594 and parameters: {'nb_hidden_layers': 1, 'nb_hidden_nodes': 10, 'reg_dropout': 0.05}. Best is trial 49 with value: 0.9331739337894005.\u001b[0m\n"
     ]
    },
    {
     "name": "stdout",
     "output_type": "stream",
     "text": [
      "RUN_ID:  251cc4a6-9f41-11ec-ab39-309c23894828\n"
     ]
    },
    {
     "data": {
      "application/vnd.jupyter.widget-view+json": {
       "model_id": "906c6cbb20434066ab8fd601ad90e70b",
       "version_major": 2,
       "version_minor": 0
      },
      "text/plain": [
       "0epoch [00:00, ?epoch/s]"
      ]
     },
     "metadata": {},
     "output_type": "display_data"
    },
    {
     "data": {
      "application/vnd.jupyter.widget-view+json": {
       "model_id": "39133e0c903c42c085b3cd4c7d92d1dd",
       "version_major": 2,
       "version_minor": 0
      },
      "text/plain": [
       "0batch [00:00, ?batch/s]"
      ]
     },
     "metadata": {},
     "output_type": "display_data"
    },
    {
     "name": "stdout",
     "output_type": "stream",
     "text": [
      "\n",
      "###############################\n",
      " {'nb_epoch': 200, 'batch_size': 64, 'nb_hidden_layers': 2, 'nb_hidden_nodes': 10, 'reg_dropout': 0.2} \n",
      "###############################\n",
      "\n",
      "WARNING:tensorflow:Callback method `on_train_batch_end` is slow compared to the batch time (batch time: 0.0020s vs `on_train_batch_end` time: 0.0133s). Check your callbacks.\n",
      "\n",
      "Epoch 35: ReduceLROnPlateau reducing learning rate to 0.0005000000237487257.\n",
      "\n",
      "Epoch 50: ReduceLROnPlateau reducing learning rate to 0.0002500000118743628.\n",
      "\n",
      "Epoch 60: ReduceLROnPlateau reducing learning rate to 0.0001250000059371814.\n",
      "\n",
      "Epoch 70: ReduceLROnPlateau reducing learning rate to 6.25000029685907e-05.\n",
      "\n",
      "Epoch 80: ReduceLROnPlateau reducing learning rate to 3.125000148429535e-05.\n",
      "\n",
      "Epoch 90: ReduceLROnPlateau reducing learning rate to 1.5625000742147677e-05.\n",
      "Epoch 96: early stopping\n"
     ]
    },
    {
     "name": "stderr",
     "output_type": "stream",
     "text": [
      "\u001b[32m[I 2022-03-09 08:38:02,997]\u001b[0m Trial 51 finished with value: 0.9011681255328898 and parameters: {'nb_hidden_layers': 2, 'nb_hidden_nodes': 10, 'reg_dropout': 0.2}. Best is trial 49 with value: 0.9331739337894005.\u001b[0m\n"
     ]
    },
    {
     "name": "stdout",
     "output_type": "stream",
     "text": [
      "RUN_ID:  2e656957-9f41-11ec-bbe6-309c23894828\n"
     ]
    },
    {
     "data": {
      "application/vnd.jupyter.widget-view+json": {
       "model_id": "593c579456664073aa51284bd2445d7d",
       "version_major": 2,
       "version_minor": 0
      },
      "text/plain": [
       "0epoch [00:00, ?epoch/s]"
      ]
     },
     "metadata": {},
     "output_type": "display_data"
    },
    {
     "data": {
      "application/vnd.jupyter.widget-view+json": {
       "model_id": "cd389a2a5e854af48fcee3f2c80c6b77",
       "version_major": 2,
       "version_minor": 0
      },
      "text/plain": [
       "0batch [00:00, ?batch/s]"
      ]
     },
     "metadata": {},
     "output_type": "display_data"
    },
    {
     "name": "stdout",
     "output_type": "stream",
     "text": [
      "\n",
      "###############################\n",
      " {'nb_epoch': 200, 'batch_size': 64, 'nb_hidden_layers': 2, 'nb_hidden_nodes': 100, 'reg_dropout': 0.05} \n",
      "###############################\n",
      "\n",
      "WARNING:tensorflow:Callback method `on_train_batch_end` is slow compared to the batch time (batch time: 0.0048s vs `on_train_batch_end` time: 0.0137s). Check your callbacks.\n",
      "\n",
      "Epoch 38: ReduceLROnPlateau reducing learning rate to 0.0005000000237487257.\n",
      "\n",
      "Epoch 48: ReduceLROnPlateau reducing learning rate to 0.0002500000118743628.\n",
      "\n",
      "Epoch 58: ReduceLROnPlateau reducing learning rate to 0.0001250000059371814.\n",
      "Epoch 64: early stopping\n"
     ]
    },
    {
     "name": "stderr",
     "output_type": "stream",
     "text": [
      "\u001b[32m[I 2022-03-09 08:38:19,576]\u001b[0m Trial 52 finished with value: 0.9328722400347877 and parameters: {'nb_hidden_layers': 2, 'nb_hidden_nodes': 100, 'reg_dropout': 0.05}. Best is trial 49 with value: 0.9331739337894005.\u001b[0m\n"
     ]
    },
    {
     "name": "stdout",
     "output_type": "stream",
     "text": [
      "RUN_ID:  385257cb-9f41-11ec-aa6f-309c23894828\n"
     ]
    },
    {
     "data": {
      "application/vnd.jupyter.widget-view+json": {
       "model_id": "23278860719b4f99a558eff7827b450a",
       "version_major": 2,
       "version_minor": 0
      },
      "text/plain": [
       "0epoch [00:00, ?epoch/s]"
      ]
     },
     "metadata": {},
     "output_type": "display_data"
    },
    {
     "data": {
      "application/vnd.jupyter.widget-view+json": {
       "model_id": "fea6895ea76f450ba60bedad6ff8351d",
       "version_major": 2,
       "version_minor": 0
      },
      "text/plain": [
       "0batch [00:00, ?batch/s]"
      ]
     },
     "metadata": {},
     "output_type": "display_data"
    },
    {
     "name": "stdout",
     "output_type": "stream",
     "text": [
      "\n",
      "###############################\n",
      " {'nb_epoch': 200, 'batch_size': 64, 'nb_hidden_layers': 3, 'nb_hidden_nodes': 50, 'reg_dropout': 0.2} \n",
      "###############################\n",
      "\n",
      "WARNING:tensorflow:Callback method `on_train_batch_end` is slow compared to the batch time (batch time: 0.0048s vs `on_train_batch_end` time: 0.0188s). Check your callbacks.\n",
      "\n",
      "Epoch 42: ReduceLROnPlateau reducing learning rate to 0.0005000000237487257.\n",
      "\n",
      "Epoch 59: ReduceLROnPlateau reducing learning rate to 0.0002500000118743628.\n",
      "\n",
      "Epoch 78: ReduceLROnPlateau reducing learning rate to 0.0001250000059371814.\n",
      "\n",
      "Epoch 88: ReduceLROnPlateau reducing learning rate to 6.25000029685907e-05.\n",
      "\n",
      "Epoch 98: ReduceLROnPlateau reducing learning rate to 3.125000148429535e-05.\n",
      "\n",
      "Epoch 108: ReduceLROnPlateau reducing learning rate to 1.5625000742147677e-05.\n",
      "Epoch 109: early stopping\n"
     ]
    },
    {
     "name": "stderr",
     "output_type": "stream",
     "text": [
      "\u001b[32m[I 2022-03-09 08:38:43,908]\u001b[0m Trial 53 finished with value: 0.9322131280907346 and parameters: {'nb_hidden_layers': 3, 'nb_hidden_nodes': 50, 'reg_dropout': 0.2}. Best is trial 49 with value: 0.9331739337894005.\u001b[0m\n"
     ]
    },
    {
     "name": "stdout",
     "output_type": "stream",
     "text": [
      "RUN_ID:  46cf34cc-9f41-11ec-928c-309c23894828\n"
     ]
    },
    {
     "data": {
      "application/vnd.jupyter.widget-view+json": {
       "model_id": "e601eebd5af241d49ebd6b9dd5e1b5bd",
       "version_major": 2,
       "version_minor": 0
      },
      "text/plain": [
       "0epoch [00:00, ?epoch/s]"
      ]
     },
     "metadata": {},
     "output_type": "display_data"
    },
    {
     "data": {
      "application/vnd.jupyter.widget-view+json": {
       "model_id": "72da8f854161412fbfc226b523ee1c23",
       "version_major": 2,
       "version_minor": 0
      },
      "text/plain": [
       "0batch [00:00, ?batch/s]"
      ]
     },
     "metadata": {},
     "output_type": "display_data"
    },
    {
     "name": "stdout",
     "output_type": "stream",
     "text": [
      "\n",
      "###############################\n",
      " {'nb_epoch': 200, 'batch_size': 64, 'nb_hidden_layers': 1, 'nb_hidden_nodes': 10, 'reg_dropout': 0} \n",
      "###############################\n",
      "\n",
      "WARNING:tensorflow:Callback method `on_train_batch_end` is slow compared to the batch time (batch time: 0.0020s vs `on_train_batch_end` time: 0.0086s). Check your callbacks.\n",
      "\n",
      "Epoch 121: ReduceLROnPlateau reducing learning rate to 0.0005000000237487257.\n",
      "\n",
      "Epoch 131: ReduceLROnPlateau reducing learning rate to 0.0002500000118743628.\n",
      "\n",
      "Epoch 141: ReduceLROnPlateau reducing learning rate to 0.0001250000059371814.\n",
      "Epoch 145: early stopping\n"
     ]
    },
    {
     "name": "stderr",
     "output_type": "stream",
     "text": [
      "\u001b[32m[I 2022-03-09 08:39:00,907]\u001b[0m Trial 54 finished with value: 0.9323815367954922 and parameters: {'nb_hidden_layers': 1, 'nb_hidden_nodes': 10, 'reg_dropout': 0}. Best is trial 49 with value: 0.9331739337894005.\u001b[0m\n"
     ]
    },
    {
     "name": "stdout",
     "output_type": "stream",
     "text": [
      "RUN_ID:  50e917df-9f41-11ec-bf43-309c23894828\n"
     ]
    },
    {
     "data": {
      "application/vnd.jupyter.widget-view+json": {
       "model_id": "9d96beaf89884c5b80b8b5c898daf044",
       "version_major": 2,
       "version_minor": 0
      },
      "text/plain": [
       "0epoch [00:00, ?epoch/s]"
      ]
     },
     "metadata": {},
     "output_type": "display_data"
    },
    {
     "data": {
      "application/vnd.jupyter.widget-view+json": {
       "model_id": "92f2c3ad7fa4437f9eeeeeac82bb48a3",
       "version_major": 2,
       "version_minor": 0
      },
      "text/plain": [
       "0batch [00:00, ?batch/s]"
      ]
     },
     "metadata": {},
     "output_type": "display_data"
    },
    {
     "name": "stdout",
     "output_type": "stream",
     "text": [
      "\n",
      "###############################\n",
      " {'nb_epoch': 200, 'batch_size': 64, 'nb_hidden_layers': 1, 'nb_hidden_nodes': 50, 'reg_dropout': 0.1} \n",
      "###############################\n",
      "\n",
      "WARNING:tensorflow:Callback method `on_train_batch_end` is slow compared to the batch time (batch time: 0.0020s vs `on_train_batch_end` time: 0.0086s). Check your callbacks.\n",
      "\n",
      "Epoch 73: ReduceLROnPlateau reducing learning rate to 0.0005000000237487257.\n",
      "\n",
      "Epoch 93: ReduceLROnPlateau reducing learning rate to 0.0002500000118743628.\n",
      "\n",
      "Epoch 103: ReduceLROnPlateau reducing learning rate to 0.0001250000059371814.\n",
      "\n",
      "Epoch 113: ReduceLROnPlateau reducing learning rate to 6.25000029685907e-05.\n",
      "\n",
      "Epoch 123: ReduceLROnPlateau reducing learning rate to 3.125000148429535e-05.\n",
      "Epoch 132: early stopping\n"
     ]
    },
    {
     "name": "stderr",
     "output_type": "stream",
     "text": [
      "\u001b[32m[I 2022-03-09 08:39:16,976]\u001b[0m Trial 55 finished with value: 0.9324826251921309 and parameters: {'nb_hidden_layers': 1, 'nb_hidden_nodes': 50, 'reg_dropout': 0.1}. Best is trial 49 with value: 0.9331739337894005.\u001b[0m\n"
     ]
    },
    {
     "name": "stdout",
     "output_type": "stream",
     "text": [
      "RUN_ID:  5a823549-9f41-11ec-a35b-309c23894828\n"
     ]
    },
    {
     "data": {
      "application/vnd.jupyter.widget-view+json": {
       "model_id": "0c40914e9b58454da0f322c8c1d4cfd2",
       "version_major": 2,
       "version_minor": 0
      },
      "text/plain": [
       "0epoch [00:00, ?epoch/s]"
      ]
     },
     "metadata": {},
     "output_type": "display_data"
    },
    {
     "data": {
      "application/vnd.jupyter.widget-view+json": {
       "model_id": "10ca953ce36e4f718e6276941d4e2fe5",
       "version_major": 2,
       "version_minor": 0
      },
      "text/plain": [
       "0batch [00:00, ?batch/s]"
      ]
     },
     "metadata": {},
     "output_type": "display_data"
    },
    {
     "name": "stdout",
     "output_type": "stream",
     "text": [
      "\n",
      "###############################\n",
      " {'nb_epoch': 200, 'batch_size': 64, 'nb_hidden_layers': 3, 'nb_hidden_nodes': 10, 'reg_dropout': 0.05} \n",
      "###############################\n",
      "\n",
      "WARNING:tensorflow:Callback method `on_train_batch_end` is slow compared to the batch time (batch time: 0.0030s vs `on_train_batch_end` time: 0.0251s). Check your callbacks.\n",
      "\n",
      "Epoch 61: ReduceLROnPlateau reducing learning rate to 0.0005000000237487257.\n",
      "\n",
      "Epoch 90: ReduceLROnPlateau reducing learning rate to 0.0002500000118743628.\n",
      "\n",
      "Epoch 110: ReduceLROnPlateau reducing learning rate to 0.0001250000059371814.\n",
      "\n",
      "Epoch 120: ReduceLROnPlateau reducing learning rate to 6.25000029685907e-05.\n",
      "\n",
      "Epoch 130: ReduceLROnPlateau reducing learning rate to 3.125000148429535e-05.\n",
      "\n",
      "Epoch 140: ReduceLROnPlateau reducing learning rate to 1.5625000742147677e-05.\n",
      "\n",
      "Epoch 150: ReduceLROnPlateau reducing learning rate to 7.812500371073838e-06.\n",
      "Epoch 150: early stopping\n"
     ]
    },
    {
     "name": "stderr",
     "output_type": "stream",
     "text": [
      "\u001b[32m[I 2022-03-09 08:39:44,068]\u001b[0m Trial 56 finished with value: 0.9277591661579201 and parameters: {'nb_hidden_layers': 3, 'nb_hidden_nodes': 10, 'reg_dropout': 0.05}. Best is trial 49 with value: 0.9331739337894005.\u001b[0m\n"
     ]
    },
    {
     "name": "stdout",
     "output_type": "stream",
     "text": [
      "RUN_ID:  6ab4a53e-9f41-11ec-a7fd-309c23894828\n"
     ]
    },
    {
     "data": {
      "application/vnd.jupyter.widget-view+json": {
       "model_id": "79dc647c8d9042d68afc1a0cec6ba768",
       "version_major": 2,
       "version_minor": 0
      },
      "text/plain": [
       "0epoch [00:00, ?epoch/s]"
      ]
     },
     "metadata": {},
     "output_type": "display_data"
    },
    {
     "data": {
      "application/vnd.jupyter.widget-view+json": {
       "model_id": "3517fde8d6a3464c928753fd9934a476",
       "version_major": 2,
       "version_minor": 0
      },
      "text/plain": [
       "0batch [00:00, ?batch/s]"
      ]
     },
     "metadata": {},
     "output_type": "display_data"
    },
    {
     "name": "stdout",
     "output_type": "stream",
     "text": [
      "\n",
      "###############################\n",
      " {'nb_epoch': 200, 'batch_size': 64, 'nb_hidden_layers': 2, 'nb_hidden_nodes': 100, 'reg_dropout': 0} \n",
      "###############################\n",
      "\n",
      "WARNING:tensorflow:Callback method `on_train_batch_end` is slow compared to the batch time (batch time: 0.0050s vs `on_train_batch_end` time: 0.0235s). Check your callbacks.\n",
      "\n",
      "Epoch 40: ReduceLROnPlateau reducing learning rate to 0.0005000000237487257.\n",
      "\n",
      "Epoch 50: ReduceLROnPlateau reducing learning rate to 0.0002500000118743628.\n",
      "\n",
      "Epoch 60: ReduceLROnPlateau reducing learning rate to 0.0001250000059371814.\n",
      "\n",
      "Epoch 70: ReduceLROnPlateau reducing learning rate to 6.25000029685907e-05.\n",
      "Epoch 72: early stopping\n"
     ]
    },
    {
     "name": "stderr",
     "output_type": "stream",
     "text": [
      "\u001b[32m[I 2022-03-09 08:40:01,383]\u001b[0m Trial 57 finished with value: 0.9328768244279412 and parameters: {'nb_hidden_layers': 2, 'nb_hidden_nodes': 100, 'reg_dropout': 0}. Best is trial 49 with value: 0.9331739337894005.\u001b[0m\n"
     ]
    },
    {
     "name": "stdout",
     "output_type": "stream",
     "text": [
      "RUN_ID:  74fbf837-9f41-11ec-aecd-309c23894828\n"
     ]
    },
    {
     "data": {
      "application/vnd.jupyter.widget-view+json": {
       "model_id": "feb9d2e5704a4d0fbcbba6f94d681c78",
       "version_major": 2,
       "version_minor": 0
      },
      "text/plain": [
       "0epoch [00:00, ?epoch/s]"
      ]
     },
     "metadata": {},
     "output_type": "display_data"
    },
    {
     "data": {
      "application/vnd.jupyter.widget-view+json": {
       "model_id": "8287501c5e6f4fcc8f34fcd2a5a3c315",
       "version_major": 2,
       "version_minor": 0
      },
      "text/plain": [
       "0batch [00:00, ?batch/s]"
      ]
     },
     "metadata": {},
     "output_type": "display_data"
    },
    {
     "name": "stdout",
     "output_type": "stream",
     "text": [
      "\n",
      "###############################\n",
      " {'nb_epoch': 200, 'batch_size': 64, 'nb_hidden_layers': 1, 'nb_hidden_nodes': 50, 'reg_dropout': 0.3} \n",
      "###############################\n",
      "\n",
      "WARNING:tensorflow:Callback method `on_train_batch_end` is slow compared to the batch time (batch time: 0.0018s vs `on_train_batch_end` time: 0.0076s). Check your callbacks.\n",
      "\n",
      "Epoch 55: ReduceLROnPlateau reducing learning rate to 0.0005000000237487257.\n",
      "\n",
      "Epoch 65: ReduceLROnPlateau reducing learning rate to 0.0002500000118743628.\n",
      "\n",
      "Epoch 90: ReduceLROnPlateau reducing learning rate to 0.0001250000059371814.\n",
      "\n",
      "Epoch 100: ReduceLROnPlateau reducing learning rate to 6.25000029685907e-05.\n",
      "\n",
      "Epoch 110: ReduceLROnPlateau reducing learning rate to 3.125000148429535e-05.\n",
      "\n",
      "Epoch 120: ReduceLROnPlateau reducing learning rate to 1.5625000742147677e-05.\n",
      "\n",
      "Epoch 130: ReduceLROnPlateau reducing learning rate to 7.812500371073838e-06.\n",
      "\n",
      "Epoch 140: ReduceLROnPlateau reducing learning rate to 3.906250185536919e-06.\n",
      "Epoch 148: early stopping\n"
     ]
    },
    {
     "name": "stderr",
     "output_type": "stream",
     "text": [
      "\u001b[32m[I 2022-03-09 08:40:19,046]\u001b[0m Trial 58 finished with value: 0.9253464611305119 and parameters: {'nb_hidden_layers': 1, 'nb_hidden_nodes': 50, 'reg_dropout': 0.3}. Best is trial 49 with value: 0.9331739337894005.\u001b[0m\n"
     ]
    },
    {
     "name": "stdout",
     "output_type": "stream",
     "text": [
      "RUN_ID:  7f823ef8-9f41-11ec-ab84-309c23894828\n"
     ]
    },
    {
     "data": {
      "application/vnd.jupyter.widget-view+json": {
       "model_id": "013c4627878545108b525b01d41c820a",
       "version_major": 2,
       "version_minor": 0
      },
      "text/plain": [
       "0epoch [00:00, ?epoch/s]"
      ]
     },
     "metadata": {},
     "output_type": "display_data"
    },
    {
     "data": {
      "application/vnd.jupyter.widget-view+json": {
       "model_id": "4dfac493b4a643ba897dd823f6d38fc4",
       "version_major": 2,
       "version_minor": 0
      },
      "text/plain": [
       "0batch [00:00, ?batch/s]"
      ]
     },
     "metadata": {},
     "output_type": "display_data"
    },
    {
     "name": "stdout",
     "output_type": "stream",
     "text": [
      "\n",
      "###############################\n",
      " {'nb_epoch': 200, 'batch_size': 64, 'nb_hidden_layers': 2, 'nb_hidden_nodes': 10, 'reg_dropout': 0.3} \n",
      "###############################\n",
      "\n",
      "WARNING:tensorflow:Callback method `on_train_batch_end` is slow compared to the batch time (batch time: 0.0022s vs `on_train_batch_end` time: 0.0130s). Check your callbacks.\n",
      "\n",
      "Epoch 28: ReduceLROnPlateau reducing learning rate to 0.0005000000237487257.\n",
      "\n",
      "Epoch 38: ReduceLROnPlateau reducing learning rate to 0.0002500000118743628.\n",
      "\n",
      "Epoch 48: ReduceLROnPlateau reducing learning rate to 0.0001250000059371814.\n",
      "Epoch 48: early stopping\n"
     ]
    },
    {
     "name": "stderr",
     "output_type": "stream",
     "text": [
      "\u001b[32m[I 2022-03-09 08:40:29,384]\u001b[0m Trial 59 finished with value: 0.8771106384674042 and parameters: {'nb_hidden_layers': 2, 'nb_hidden_nodes': 10, 'reg_dropout': 0.3}. Best is trial 49 with value: 0.9331739337894005.\u001b[0m\n"
     ]
    },
    {
     "name": "stdout",
     "output_type": "stream",
     "text": [
      "Runtime: 1180.56 s\n",
      "Number of finished trials:  60\n"
     ]
    }
   ],
   "source": [
    "t0 = time.time()\n",
    "study.optimize(objective,\n",
    "                callbacks=[neptune_callback])\n",
    "\n",
    "t1 = time.time()\n",
    "print('Runtime: %.2f s' %(t1-t0))\n",
    "print(\"Number of finished trials: \", len(study.trials))"
   ]
  },
  {
   "cell_type": "code",
   "execution_count": 36,
   "id": "11a82947",
   "metadata": {},
   "outputs": [
    {
     "name": "stdout",
     "output_type": "stream",
     "text": [
      "Best trial:\n",
      "  Value:  0.9331818983289242\n",
      "  Params: \n",
      "    nb_hidden_layers: 2\n",
      "    nb_hidden_nodes: 200\n",
      "    reg_dropout: 0.1\n"
     ]
    }
   ],
   "source": [
    "print(\"Best trial:\")\n",
    "trial = study.best_trial\n",
    "\n",
    "print(\"  Value: \", trial.value)\n",
    "\n",
    "print(\"  Params: \")\n",
    "for key, value in trial.params.items():\n",
    "    print(\"    {}: {}\".format(key, value))"
   ]
  },
  {
   "cell_type": "code",
   "execution_count": 37,
   "id": "2211482f",
   "metadata": {},
   "outputs": [
    {
     "name": "stdout",
     "output_type": "stream",
     "text": [
      "Shutting down background jobs, please wait a moment...\n",
      "Done!\n"
     ]
    },
    {
     "name": "stderr",
     "output_type": "stream",
     "text": [
      "Waiting for the remaining 64 operations to synchronize with Neptune. Do not kill this process.\n"
     ]
    },
    {
     "name": "stdout",
     "output_type": "stream",
     "text": [
      "All 64 operations synced, thanks for waiting!\n"
     ]
    }
   ],
   "source": [
    "# Stop logging to a Neptune Run\n",
    "run.stop()"
   ]
  },
  {
   "cell_type": "code",
   "execution_count": null,
   "id": "38293ce0",
   "metadata": {},
   "outputs": [],
   "source": []
  },
  {
   "cell_type": "code",
   "execution_count": null,
   "id": "5ae85c03-de27-4c73-adb5-d9f963fc8f08",
   "metadata": {},
   "outputs": [],
   "source": []
  }
 ],
 "metadata": {
  "kernelspec": {
   "display_name": "Python 3 (ipykernel)",
   "language": "python",
   "name": "python3"
  },
  "language_info": {
   "codemirror_mode": {
    "name": "ipython",
    "version": 3
   },
   "file_extension": ".py",
   "mimetype": "text/x-python",
   "name": "python",
   "nbconvert_exporter": "python",
   "pygments_lexer": "ipython3",
   "version": "3.9.7"
  }
 },
 "nbformat": 4,
 "nbformat_minor": 5
}
