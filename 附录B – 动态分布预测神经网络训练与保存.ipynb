{
 "cells": [
  {
   "cell_type": "code",
   "execution_count": null,
   "id": "8fe38880",
   "metadata": {},
   "outputs": [],
   "source": [
    "# -*- coding: utf-8 -*-\n",
    "'''\n",
    "论文题目：基于深度学习的PSA过程优化与控制\n",
    "作    者：余秀鑫\n",
    "单    位：天津大学化工学院\n",
    "时    间：2022.04.12\n",
    "'''"
   ]
  },
  {
   "cell_type": "code",
   "execution_count": 3,
   "id": "f7c1f2c0",
   "metadata": {},
   "outputs": [],
   "source": [
    "import numpy as np\n",
    "import pandas as pd\n",
    "import seaborn as sns\n",
    "import tensorflow as tf\n",
    "import os\n",
    "import time\n",
    "import matplotlib.pyplot as plt\n",
    "%matplotlib inline\n",
    "from sklearn.metrics import r2_score\n",
    "from sklearn.preprocessing import MinMaxScaler"
   ]
  },
  {
   "cell_type": "code",
   "execution_count": 4,
   "id": "4d25e7a5",
   "metadata": {},
   "outputs": [],
   "source": [
    "def mse(y_true, y_pred):\n",
    "  return tf.metrics.mean_squared_error(y_true=tf.squeeze(y_true),\n",
    "                                       y_pred=tf.squeeze(y_pred))"
   ]
  },
  {
   "cell_type": "code",
   "execution_count": 5,
   "id": "63238940",
   "metadata": {},
   "outputs": [],
   "source": [
    "def R2_Adj(y_true, y_pred):\n",
    "    n, k = 863, 7\n",
    "    R2 = r2_score(y_true, y_pred)\n",
    "    R2_Adj = 1 - (1 - R2) * (n - 1) / (n - k - 1)\n",
    "    return R2_Adj"
   ]
  },
  {
   "cell_type": "code",
   "execution_count": 6,
   "id": "11383b04",
   "metadata": {},
   "outputs": [],
   "source": [
    "def create_model_checkpoint(model_name, save_path=\"model_saved\"):\n",
    "  return tf.keras.callbacks.ModelCheckpoint(filepath=os.path.join(save_path, model_name), # create filepath to save model\n",
    "                                            verbose=0, # only output a limited amount of text\n",
    "                                            save_best_only=True) # save only the best model to file"
   ]
  },
  {
   "cell_type": "code",
   "execution_count": 7,
   "id": "4c30c717",
   "metadata": {},
   "outputs": [],
   "source": [
    "# keys = [\n",
    "#     \"Tem_AD\", \"Tem_CD\", \"Tem_BD\", \"Tem_VU\", \"Tem_FP\", \"q_CO2_AD\", \"q_CO2_CD\",\n",
    "#     \"q_CO2_BD\", \"q_CO2_VU\", \"q_CO2_FP\", \"q_H2_AD\", \"q_H2_CD\", \"q_H2_BD\",\n",
    "#     \"q_H2_VU\", \"q_H2_FP\", \"y_CO2_AD\", \"y_CO2_CD\", \"y_CO2_BD\", \"y_CO2_VU\",\n",
    "#     \"y_CO2_FP\", \"y_H2_AD\", \"y_H2_CD\", \"y_H2_BD\", \"y_H2_VU\", \"y_H2_FP\"\n",
    "# ]\n",
    "keys = ['Tem_VU']"
   ]
  },
  {
   "cell_type": "code",
   "execution_count": 8,
   "id": "179f016f",
   "metadata": {
    "scrolled": true
   },
   "outputs": [
    {
     "name": "stdout",
     "output_type": "stream",
     "text": [
      "Tem_VU Started\n",
      "INFO:tensorflow:Assets written to: model_saved/Tem_VU\\assets\n",
      "Tem_VU Saved\n"
     ]
    }
   ],
   "source": [
    "for key in keys:\n",
    "    thisdata = key\n",
    "    print(thisdata + ' Started')\n",
    "    x_train = np.load(\"../../results_of_sample1000\\DL\\Input.npy\")\n",
    "    y_train = np.load(\"../../results_of_sample1000\\DL/\" + thisdata + \".npy\")\n",
    "\n",
    "    scaler_x = MinMaxScaler(feature_range=(0, 1)).fit(x_train)\n",
    "    x_train_std = scaler_x.transform(x_train)\n",
    "    scaler_y = MinMaxScaler(feature_range=(0, 1)).fit(y_train)\n",
    "    y_train_std = scaler_y.transform(y_train)\n",
    "\n",
    "    np.random.seed(666)  # 使用相同的seed，保证输入特征和标签一一对应\n",
    "    np.random.shuffle(x_train)\n",
    "    np.random.seed(666)\n",
    "    np.random.shuffle(x_train_std)\n",
    "    np.random.seed(666)\n",
    "    np.random.shuffle(y_train)\n",
    "    np.random.seed(666)\n",
    "    np.random.shuffle(y_train_std)\n",
    "    tf.random.set_seed(666)\n",
    "\n",
    "    model = tf.keras.models.Sequential([\n",
    "        tf.keras.layers.Dense(30, activation=\"relu\"),\n",
    "        tf.keras.layers.Dense(30, activation=\"relu\"),\n",
    "        tf.keras.layers.Dense(49, activation=\"sigmoid\"),\n",
    "    ])\n",
    "\n",
    "    model.compile(\n",
    "        optimizer=tf.keras.optimizers.Adam(learning_rate=0.001,\n",
    "                                           beta_1=0.9,\n",
    "                                           beta_2=0.999),\n",
    "        loss=tf.keras.losses.mse,\n",
    "    )\n",
    "\n",
    "    history = model.fit(\n",
    "        x_train_std,\n",
    "        y_train_std,\n",
    "        batch_size=64,\n",
    "        epochs=2000,\n",
    "        validation_split=0.2,\n",
    "        validation_freq=1,\n",
    "        verbose=0,\n",
    "    )\n",
    "    \n",
    "    model.save('model_saved/'+ thisdata)\n",
    "    \n",
    "    print(thisdata + ' Saved')"
   ]
  },
  {
   "cell_type": "code",
   "execution_count": null,
   "id": "31be049b",
   "metadata": {},
   "outputs": [],
   "source": []
  }
 ],
 "metadata": {
  "kernelspec": {
   "display_name": "Python 3 (ipykernel)",
   "language": "python",
   "name": "python3"
  },
  "language_info": {
   "codemirror_mode": {
    "name": "ipython",
    "version": 3
   },
   "file_extension": ".py",
   "mimetype": "text/x-python",
   "name": "python",
   "nbconvert_exporter": "python",
   "pygments_lexer": "ipython3",
   "version": "3.9.7"
  },
  "toc": {
   "base_numbering": 1,
   "nav_menu": {},
   "number_sections": true,
   "sideBar": true,
   "skip_h1_title": false,
   "title_cell": "Table of Contents",
   "title_sidebar": "Contents",
   "toc_cell": false,
   "toc_position": {
    "height": "calc(100% - 180px)",
    "left": "10px",
    "top": "150px",
    "width": "191.594px"
   },
   "toc_section_display": true,
   "toc_window_display": false
  },
  "varInspector": {
   "cols": {
    "lenName": 16,
    "lenType": 16,
    "lenVar": 40
   },
   "kernels_config": {
    "python": {
     "delete_cmd_postfix": "",
     "delete_cmd_prefix": "del ",
     "library": "var_list.py",
     "varRefreshCmd": "print(var_dic_list())"
    },
    "r": {
     "delete_cmd_postfix": ") ",
     "delete_cmd_prefix": "rm(",
     "library": "var_list.r",
     "varRefreshCmd": "cat(var_dic_list()) "
    }
   },
   "types_to_exclude": [
    "module",
    "function",
    "builtin_function_or_method",
    "instance",
    "_Feature"
   ],
   "window_display": false
  }
 },
 "nbformat": 4,
 "nbformat_minor": 5
}
