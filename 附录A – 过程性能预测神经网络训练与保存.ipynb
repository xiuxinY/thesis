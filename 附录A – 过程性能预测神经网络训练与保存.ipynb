{
 "cells": [
  {
   "cell_type": "code",
   "execution_count": null,
   "id": "0971201c",
   "metadata": {},
   "outputs": [],
   "source": [
    "# -*- coding: utf-8 -*-\n",
    "'''\n",
    "论文题目：基于深度学习的PSA过程优化与控制\n",
    "作    者：余秀鑫\n",
    "单    位：天津大学化工学院\n",
    "时    间：2022.04.12\n",
    "'''"
   ]
  },
  {
   "cell_type": "code",
   "execution_count": 1,
   "id": "f7c1f2c0",
   "metadata": {},
   "outputs": [],
   "source": [
    "import numpy as np\n",
    "import pandas as pd\n",
    "import seaborn as sns\n",
    "import tensorflow as tf\n",
    "import os\n",
    "import time\n",
    "import matplotlib.pyplot as plt\n",
    "%matplotlib inline\n",
    "from sklearn.metrics import r2_score\n",
    "from sklearn.preprocessing import MinMaxScaler"
   ]
  },
  {
   "cell_type": "markdown",
   "id": "f89cc7ce",
   "metadata": {},
   "source": [
    "# 定义函数"
   ]
  },
  {
   "cell_type": "code",
   "execution_count": 2,
   "id": "4d25e7a5",
   "metadata": {},
   "outputs": [],
   "source": [
    "def mse(y_true, y_pred):\n",
    "  return tf.metrics.mean_squared_error(y_true=tf.squeeze(y_true),\n",
    "                                       y_pred=tf.squeeze(y_pred))"
   ]
  },
  {
   "cell_type": "code",
   "execution_count": 3,
   "id": "63238940",
   "metadata": {},
   "outputs": [],
   "source": [
    "def R2_Adj(y_true, y_pred):\n",
    "    n, k = len(y_true), 7\n",
    "    R2 = r2_score(y_true, y_pred)\n",
    "    R2_Adj = 1 - (1 - R2) * (n - 1) / (n - k - 1)\n",
    "    return R2_Adj"
   ]
  },
  {
   "cell_type": "markdown",
   "id": "8000e758",
   "metadata": {},
   "source": [
    "# 读取数据\n",
    "keys = [\n",
    "    \"Energy\",\n",
    "    \"CO2_Purity\",\n",
    "    \"CO2_Recovery\",\n",
    "    \"CO2_Productivity\",\n",
    "    \"H2_Purity\",\n",
    "    \"H2_Recovery\",\n",
    "    \"H2_Productivity\",\n",
    "]"
   ]
  },
  {
   "cell_type": "code",
   "execution_count": 11,
   "id": "ab4e9796",
   "metadata": {},
   "outputs": [],
   "source": [
    "thisdata = \"Energy\"\n",
    "x_train = np.load(\"../../results_of_sample1000\\DL\\Input.npy\")\n",
    "y_train = np.load(\"../../results_of_sample1000\\DL/\" + thisdata + \".npy\")"
   ]
  },
  {
   "cell_type": "code",
   "execution_count": 12,
   "id": "c84b9b32",
   "metadata": {},
   "outputs": [],
   "source": [
    "scaler_x = MinMaxScaler(feature_range=(0, 1)).fit(x_train)\n",
    "x_train_std = scaler_x.transform(x_train)\n",
    "scaler_y = MinMaxScaler(feature_range=(0, 1)).fit(y_train)\n",
    "y_train_std = scaler_y.transform(y_train)"
   ]
  },
  {
   "cell_type": "code",
   "execution_count": 13,
   "id": "3e16745a",
   "metadata": {},
   "outputs": [],
   "source": [
    "np.random.seed(666)  # 使用相同的seed，保证输入特征和标签一一对应\n",
    "np.random.shuffle(x_train)\n",
    "np.random.seed(666)\n",
    "np.random.shuffle(x_train_std)\n",
    "np.random.seed(666)\n",
    "np.random.shuffle(y_train)\n",
    "np.random.seed(666)\n",
    "np.random.shuffle(y_train_std)\n",
    "tf.random.set_seed(666)"
   ]
  },
  {
   "cell_type": "markdown",
   "id": "a1fe0441",
   "metadata": {},
   "source": [
    "# 深度学习"
   ]
  },
  {
   "cell_type": "markdown",
   "id": "7cd8d29c",
   "metadata": {},
   "source": [
    "## Create a model"
   ]
  },
  {
   "cell_type": "code",
   "execution_count": 20,
   "id": "a7e1fc0c",
   "metadata": {},
   "outputs": [],
   "source": [
    "model = tf.keras.models.Sequential([\n",
    "    tf.keras.layers.Dense(17, activation=\"relu\"),\n",
    "    tf.keras.layers.Dense(1, activation=\"sigmoid\"),\n",
    "])"
   ]
  },
  {
   "cell_type": "markdown",
   "id": "c6563a47",
   "metadata": {},
   "source": [
    "## Compile the model"
   ]
  },
  {
   "cell_type": "code",
   "execution_count": 21,
   "id": "e72a9361",
   "metadata": {},
   "outputs": [],
   "source": [
    "model.compile(\n",
    "    optimizer=tf.keras.optimizers.Adam(learning_rate=0.001,\n",
    "                                       beta_1=0.9,\n",
    "                                       beta_2=0.999),\n",
    "    loss=tf.keras.losses.mse,\n",
    ")"
   ]
  },
  {
   "cell_type": "markdown",
   "id": "722e015e",
   "metadata": {},
   "source": [
    "## Fit the model"
   ]
  },
  {
   "cell_type": "code",
   "execution_count": 23,
   "id": "febec92a",
   "metadata": {},
   "outputs": [],
   "source": [
    "def create_model_checkpoint(model_name, save_path=\"model_saved\"):\n",
    "  return tf.keras.callbacks.ModelCheckpoint(filepath=os.path.join(save_path, model_name), # create filepath to save model\n",
    "                                            verbose=0, # only output a limited amount of text\n",
    "                                            save_best_only=True) # save only the best model to file"
   ]
  },
  {
   "cell_type": "code",
   "execution_count": 24,
   "id": "38faaeea",
   "metadata": {
    "scrolled": true
   },
   "outputs": [
    {
     "name": "stdout",
     "output_type": "stream",
     "text": [
      "INFO:tensorflow:Assets written to: model_saved\\Energy\\assets\n",
      "INFO:tensorflow:Assets written to: model_saved\\Energy\\assets\n",
      "INFO:tensorflow:Assets written to: model_saved\\Energy\\assets\n",
      "INFO:tensorflow:Assets written to: model_saved\\Energy\\assets\n",
      "INFO:tensorflow:Assets written to: model_saved\\Energy\\assets\n",
      "INFO:tensorflow:Assets written to: model_saved\\Energy\\assets\n",
      "INFO:tensorflow:Assets written to: model_saved\\Energy\\assets\n",
      "INFO:tensorflow:Assets written to: model_saved\\Energy\\assets\n",
      "INFO:tensorflow:Assets written to: model_saved\\Energy\\assets\n",
      "INFO:tensorflow:Assets written to: model_saved\\Energy\\assets\n",
      "INFO:tensorflow:Assets written to: model_saved\\Energy\\assets\n",
      "INFO:tensorflow:Assets written to: model_saved\\Energy\\assets\n",
      "INFO:tensorflow:Assets written to: model_saved\\Energy\\assets\n",
      "INFO:tensorflow:Assets written to: model_saved\\Energy\\assets\n",
      "INFO:tensorflow:Assets written to: model_saved\\Energy\\assets\n",
      "INFO:tensorflow:Assets written to: model_saved\\Energy\\assets\n",
      "INFO:tensorflow:Assets written to: model_saved\\Energy\\assets\n",
      "INFO:tensorflow:Assets written to: model_saved\\Energy\\assets\n",
      "INFO:tensorflow:Assets written to: model_saved\\Energy\\assets\n",
      "INFO:tensorflow:Assets written to: model_saved\\Energy\\assets\n"
     ]
    }
   ],
   "source": [
    "history = model.fit(\n",
    "    x_train_std,\n",
    "    y_train_std,\n",
    "    batch_size=64,\n",
    "    epochs=2000,\n",
    "    validation_split=0.2,\n",
    "    validation_freq=1,\n",
    "    verbose=0,\n",
    "    callbacks=[create_model_checkpoint(model_name=thisdata)],\n",
    ")"
   ]
  },
  {
   "cell_type": "markdown",
   "id": "ecee2d99",
   "metadata": {},
   "source": [
    "## 计算准确度"
   ]
  },
  {
   "cell_type": "code",
   "execution_count": 11,
   "id": "9996ca48",
   "metadata": {},
   "outputs": [
    {
     "name": "stdout",
     "output_type": "stream",
     "text": [
      "R2_Adj_std:  0.9955407959368471\n",
      "R2_Adj_scl:  0.995540795283398\n"
     ]
    }
   ],
   "source": [
    "y_pred_std = model.predict(x_train_std, batch_size=16)\n",
    "acc = R2_Adj(y_train_std, y_pred_std)\n",
    "print(\"R2_Adj_std: \", acc)\n",
    "\n",
    "y_pred = scaler_y.inverse_transform(y_pred_std)\n",
    "acc = R2_Adj(y_train, y_pred)\n",
    "print(\"R2_Adj_scl: \", acc)"
   ]
  },
  {
   "cell_type": "markdown",
   "id": "50ce2e64",
   "metadata": {},
   "source": [
    "# 模型示意"
   ]
  },
  {
   "cell_type": "code",
   "execution_count": 12,
   "id": "021d425c",
   "metadata": {},
   "outputs": [
    {
     "name": "stdout",
     "output_type": "stream",
     "text": [
      "Model: \"sequential\"\n",
      "_________________________________________________________________\n",
      " Layer (type)                Output Shape              Param #   \n",
      "=================================================================\n",
      " dense (Dense)               (None, 17)                136       \n",
      "                                                                 \n",
      " dense_1 (Dense)             (None, 1)                 18        \n",
      "                                                                 \n",
      "=================================================================\n",
      "Total params: 154\n",
      "Trainable params: 154\n",
      "Non-trainable params: 0\n",
      "_________________________________________________________________\n"
     ]
    }
   ],
   "source": [
    "model.summary()"
   ]
  },
  {
   "cell_type": "markdown",
   "id": "cc14f119",
   "metadata": {},
   "source": [
    "# 损失函数曲线 "
   ]
  },
  {
   "cell_type": "code",
   "execution_count": 13,
   "id": "27d0a15b",
   "metadata": {},
   "outputs": [
    {
     "data": {
      "image/png": "[encoded data removed]",
      "text/plain": [
       "<Figure size 432x288 with 1 Axes>"
      ]
     },
     "metadata": {
      "needs_background": "light"
     },
     "output_type": "display_data"
    }
   ],
   "source": [
    "# 显示训练集和验证集的acc和loss曲线\n",
    "loss = history.history['loss']\n",
    "val_loss = history.history['val_loss']\n",
    "\n",
    "plt.plot(loss, label='Training Loss')\n",
    "plt.plot(val_loss, label='Validation Loss')\n",
    "plt.title('Training and Validation Loss')\n",
    "plt.legend()\n",
    "plt.show()"
   ]
  },
  {
   "cell_type": "markdown",
   "id": "f06d6647",
   "metadata": {},
   "source": [
    "# 读取模型"
   ]
  },
  {
   "cell_type": "code",
   "execution_count": 14,
   "id": "2b3769f6",
   "metadata": {},
   "outputs": [
    {
     "name": "stdout",
     "output_type": "stream",
     "text": [
      "Model: \"sequential\"\n",
      "_________________________________________________________________\n",
      " Layer (type)                Output Shape              Param #   \n",
      "=================================================================\n",
      " dense (Dense)               (None, 17)                136       \n",
      "                                                                 \n",
      " dense_1 (Dense)             (None, 1)                 18        \n",
      "                                                                 \n",
      "=================================================================\n",
      "Total params: 154\n",
      "Trainable params: 154\n",
      "Non-trainable params: 0\n",
      "_________________________________________________________________\n"
     ]
    }
   ],
   "source": [
    "load_model = tf.keras.models.load_model('model_saved/' + thisdata)\n",
    "load_model.summary()"
   ]
  },
  {
   "cell_type": "markdown",
   "id": "bdd24d30",
   "metadata": {},
   "source": [
    "# 测试模型"
   ]
  },
  {
   "cell_type": "markdown",
   "id": "d9fda501",
   "metadata": {},
   "source": [
    "## 读取测试集"
   ]
  },
  {
   "cell_type": "code",
   "execution_count": 15,
   "id": "4427e6ef",
   "metadata": {},
   "outputs": [],
   "source": [
    "x_test = np.load(\"../../results_of_sample300\\DL\\Input.npy\")\n",
    "y_test = np.load(\"../../results_of_sample300\\DL/\" + thisdata + \".npy\")"
   ]
  },
  {
   "cell_type": "code",
   "execution_count": 16,
   "id": "33cef61d",
   "metadata": {},
   "outputs": [],
   "source": [
    "x_test_std = scaler_x.transform(x_test)"
   ]
  },
  {
   "cell_type": "code",
   "execution_count": 17,
   "id": "ab3f7ff2",
   "metadata": {},
   "outputs": [],
   "source": [
    "y_pred_std = model.predict(x_test_std)\n",
    "y_pred = scaler_y.inverse_transform(y_pred_std)"
   ]
  },
  {
   "cell_type": "code",
   "execution_count": 18,
   "id": "11396682",
   "metadata": {},
   "outputs": [
    {
     "data": {
      "text/plain": [
       "<matplotlib.collections.PathCollection at 0x1717760eac0>"
      ]
     },
     "execution_count": 18,
     "metadata": {},
     "output_type": "execute_result"
    },
    {
     "data": {
      "image/png": "[encoded data removed]",
      "text/plain": [
       "<Figure size 432x288 with 1 Axes>"
      ]
     },
     "metadata": {
      "needs_background": "light"
     },
     "output_type": "display_data"
    }
   ],
   "source": [
    "plt.scatter(y_pred,y_test)"
   ]
  },
  {
   "cell_type": "code",
   "execution_count": 19,
   "id": "27e6e2c2",
   "metadata": {},
   "outputs": [
    {
     "data": {
      "text/plain": [
       "0.9945647324171795"
      ]
     },
     "execution_count": 19,
     "metadata": {},
     "output_type": "execute_result"
    }
   ],
   "source": [
    "r2_score(y_test, y_pred)"
   ]
  }
 ],
 "metadata": {
  "kernelspec": {
   "display_name": "Python 3 (ipykernel)",
   "language": "python",
   "name": "python3"
  },
  "language_info": {
   "codemirror_mode": {
    "name": "ipython",
    "version": 3
   },
   "file_extension": ".py",
   "mimetype": "text/x-python",
   "name": "python",
   "nbconvert_exporter": "python",
   "pygments_lexer": "ipython3",
   "version": "3.9.7"
  },
  "toc": {
   "base_numbering": 1,
   "nav_menu": {},
   "number_sections": true,
   "sideBar": true,
   "skip_h1_title": false,
   "title_cell": "Table of Contents",
   "title_sidebar": "Contents",
   "toc_cell": false,
   "toc_position": {
    "height": "calc(100% - 180px)",
    "left": "10px",
    "top": "150px",
    "width": "191.594px"
   },
   "toc_section_display": true,
   "toc_window_display": true
  },
  "varInspector": {
   "cols": {
    "lenName": 16,
    "lenType": 16,
    "lenVar": 40
   },
   "kernels_config": {
    "python": {
     "delete_cmd_postfix": "",
     "delete_cmd_prefix": "del ",
     "library": "var_list.py",
     "varRefreshCmd": "print(var_dic_list())"
    },
    "r": {
     "delete_cmd_postfix": ") ",
     "delete_cmd_prefix": "rm(",
     "library": "var_list.r",
     "varRefreshCmd": "cat(var_dic_list()) "
    }
   },
   "types_to_exclude": [
    "module",
    "function",
    "builtin_function_or_method",
    "instance",
    "_Feature"
   ],
   "window_display": false
  }
 },
 "nbformat": 4,
 "nbformat_minor": 5
}
